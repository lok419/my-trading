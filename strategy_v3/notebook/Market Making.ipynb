{
 "cells": [
  {
   "cell_type": "code",
   "execution_count": null,
   "metadata": {},
   "outputs": [],
   "source": [
    "%load_ext autoreload\n",
    "%autoreload 2\n",
    "\n",
    "\n",
    "import numpy as np\n",
    "from utils.data_helper import *\n",
    "from utils.data import *\n",
    "from utils.stats import *\n",
    "from utils.performance import *\n",
    "from plotly.subplots import make_subplots\n",
    "from account import Binance\n",
    "import pandas as pd\n",
    "import warnings\n",
    "from strategy_v3.Strategy import *\n",
    "from strategy_v3.Executor import ExecutorBinance, ExecutorBacktest\n",
    "from strategy_v3.ExecuteSetup import *\n",
    "from strategy_v3.ExecuteSetup.StrategyFactory import StrategyFactory\n",
    "from strategy_v3.DataLoader import DataLoaderBinance\n",
    "from tqdm import tqdm\n",
    "import matplotlib.pyplot as plt\n",
    "import seaborn as sns\n",
    "import plotly.express as px\n",
    "from time import sleep\n",
    "from datetime import datetime, timedelta\n",
    "from zoneinfo import ZoneInfo\n",
    "\n",
    "\n",
    "pd.set_option('display.max_rows', 100)\n",
    "pd.set_option('display.max_columns', 30)\n",
    "warnings.filterwarnings('ignore')"
   ]
  },
  {
   "cell_type": "code",
   "execution_count": null,
   "metadata": {},
   "outputs": [],
   "source": [
    "symbol = 'ETHFDUSD'\n",
    "binance = Binance()\n",
    "df = binance.get_historical_instrument_price(symbol, interval='15m', start_str='48 hours ago')\n",
    "plot_price_ohcl(df, symbol)\n",
    "df['std'] = df['Close'].rolling(15).std()"
   ]
  },
  {
   "cell_type": "markdown",
   "metadata": {},
   "source": [
    "# Market Making"
   ]
  },
  {
   "cell_type": "code",
   "execution_count": null,
   "metadata": {},
   "outputs": [],
   "source": [
    "symbol = 'BTCFDUSD'\n",
    "df = Binance().get_historical_instrument_price(symbol, interval='1m', start_str='2 hours ago')\n",
    "df['std'] = df['Close'].rolling(15).std()\n",
    "df['adv'] = df['Volume'].rolling(15).mean()\n",
    "close_px = df['Close'].iloc[-1]\n",
    "vol = df['std'].iloc[-1]\n",
    "adv = df['adv'].iloc[-1]\n",
    "\n",
    "refresh_interval = 30\n",
    "position_size = 70\n",
    "\n",
    "spread_flow_factor = 0.3\n",
    "px_skew_flow_factor = 0.2\n",
    "gamma = 0.3\n",
    "target_position = 0\n",
    "current = 5 * position_size / close_px\n",
    "\n",
    "limit = 500 if symbol == 'BTCFDUSD' else 200\n",
    "round = 2 if symbol == 'BTCFDUSD' else 1\n",
    "\n",
    "df_bid, df_ask = Binance().get_order_book(instrument=symbol, limit=limit)\n",
    "df_trades_bid, df_trades_ask = Binance().get_aggregate_trades(instrument=symbol, start_date=f'{refresh_interval} seconds ago')\n",
    "df_trades = pd.concat([df_trades_bid, df_trades_ask])\n",
    "\n",
    "best_bid = df_bid.iloc[0]['price']\n",
    "best_ask = df_ask.iloc[0]['price']        \n",
    "mid_px = (best_ask + best_bid)/2\n",
    "mkt_sprd = best_ask - best_bid\n",
    "\n",
    "# MO arrival rate\n",
    "bid_interval = (df_trades_bid['time'].max() - df_trades_bid['time'].min()).seconds\n",
    "ask_interval = (df_trades_ask['time'].max() - df_trades_ask['time'].min()).seconds\n",
    "ar_bid = df_trades_bid['quantity'].sum()/bid_interval\n",
    "ar_ask = df_trades_ask['quantity'].sum()/ask_interval\n",
    "ar_skew = ar_ask - ar_bid\n",
    "\n",
    "# MO arrival to LOB\n",
    "ar_bid_next = ar_bid * refresh_interval\n",
    "ar_ask_next = ar_ask * refresh_interval\n",
    "bid_chg = df_bid[df_bid['quantity_cum'] > abs(ar_bid_next)].iloc[0]['price'] - best_bid\n",
    "ask_chg = df_ask[df_ask['quantity_cum'] > abs(ar_ask_next)].iloc[0]['price'] - best_ask        \n",
    "vwmp_skew = (ask_chg + bid_chg) * px_skew_flow_factor\n",
    "vwmp = mid_px + vwmp_skew\n",
    "\n",
    "# Target Spread\n",
    "spread = (mkt_sprd + ask_chg - bid_chg) * spread_flow_factor\n",
    "\n",
    "r = vwmp - (current - target_position) * gamma * vol ** 2\n",
    "order_bid = min(r - spread/2, best_bid)\n",
    "order_ask = max(r + spread/2, best_ask)\n",
    "spread = order_ask - order_bid\n",
    "\n",
    "# Skewness\n",
    "skew_inv = r - vwmp\n",
    "skew = vwmp - mid_px\n",
    "\n",
    "print(f'market spread = {mkt_sprd:.4f}, target spread = {spread:.4f}, adv = {adv:.4f}')\n",
    "print(f'vwmp = {vwmp:.4f}, mid = {mid_px:.4f}, skew = {skew:.4f}, skew_inv = {skew_inv:.4f}')\n",
    "print(f'arrival bid = {ar_bid:.4f}, arrival ask = {ar_ask:.4f}, arrival_skew = {ar_skew:.4f}')   \n",
    "\n",
    "\n",
    "fig = make_subplots(rows=2, subplot_titles=['LOB Depth', f'Trades Executed ({refresh_interval} seconds ago)'], vertical_spacing=0.1)\n",
    "fig.update_layout(title=symbol, width=800, height=1000, hovermode='x')\n",
    "fig.add_trace(go.Scatter(x=df_bid['price'], y=df_bid['quantity_cum'], name='bid'),row=1, col=1)\n",
    "fig.add_trace(go.Scatter(x=df_ask['price'], y=df_ask['quantity_cum'], name='ask'),row=1, col=1)\n",
    "\n",
    "fig.add_vline(order_bid, line_dash=\"dash\", line_color=\"blue\",row=1, col=1)\n",
    "fig.add_vline(order_ask, line_dash=\"dash\", line_color=\"red\",row=1, col=1)\n",
    "fig.add_vline(vwmp, line_dash=\"dash\", line_color=\"green\",row=1, col=1, annotation_text='VWMP')\n",
    "fig.add_vline(r, line_dash=\"dash\", line_color=\"black\",row=1, col=1, annotation_text='R')\n",
    "fig.update_layout(showlegend=True)\n",
    "\n",
    "colors = plotly.colors.DEFAULT_PLOTLY_COLORS\n",
    "\n",
    "fig.add_trace(go.Bar(x=(df_trades_bid['price']/round).round()*round, y=df_trades_bid['quantity'], name='bid', marker={'color': colors[0]}), row=2,col=1)\n",
    "fig.add_trace(go.Bar(x=(df_trades_ask['price']/round).round()*round, y=df_trades_ask['quantity'], name='ask', marker={'color': colors[1]}), row=2,col=1)\n",
    "fig.add_vline(mid_px, line_dash=\"dash\", line_color=\"black\",row=2, col=1)"
   ]
  },
  {
   "cell_type": "markdown",
   "metadata": {},
   "source": [
    "# Strategy performance"
   ]
  },
  {
   "cell_type": "code",
   "execution_count": null,
   "metadata": {},
   "outputs": [],
   "source": [
    "setup = ExecuteSetup.read_all()\n",
    "strategy_dict = dict()"
   ]
  },
  {
   "cell_type": "code",
   "execution_count": null,
   "metadata": {},
   "outputs": [],
   "source": [
    "for k, v in setup.items():    \n",
    "    strategy = StrategyFactory().get(k)\n",
    "    strategy.set_data_loder(DataLoaderBinance())\n",
    "    strategy.set_executor(ExecutorBinance())\n",
    "    strategy.set_strategy_id(k)    \n",
    "    if str(type(strategy)) == str(SimpleMarketMakingStrategy):\n",
    "        strategy_dict[k] = strategy                           "
   ]
  },
  {
   "cell_type": "code",
   "execution_count": null,
   "metadata": {},
   "outputs": [],
   "source": [
    "# pnl cutoff as 00:00 HKT\n",
    "offset = 1\n",
    "date = datetime.today()\n",
    "date = datetime(year=date.year, month=date.month, day=date.day, tzinfo=ZoneInfo(\"HongKong\")) - timedelta(days=offset)\n",
    "date_str = date.strftime('%Y-%m-%d %H:%M:%S%z')\n",
    "date_str_end = (date + timedelta(days=1)).strftime('%Y-%m-%d %H:%M:%S%z')"
   ]
  },
  {
   "cell_type": "code",
   "execution_count": null,
   "metadata": {},
   "outputs": [],
   "source": [
    "for k, v in strategy_dict.items():\n",
    "    strategy = v\n",
    "    strategy.load_data(date_str, lookback_end=date_str_end)    \n",
    "    strategy.summary(True)\n",
    "    "
   ]
  },
  {
   "cell_type": "code",
   "execution_count": null,
   "metadata": {},
   "outputs": [],
   "source": []
  },
  {
   "cell_type": "markdown",
   "metadata": {},
   "source": [
    "# Analysis on strategy Log"
   ]
  },
  {
   "cell_type": "code",
   "execution_count": null,
   "metadata": {},
   "outputs": [],
   "source": [
    "strategy = strategy_dict['SMM_BTCv5']\n",
    "df = strategy.get_log_data()\n",
    "df = df.sort_values('date')\n",
    "#df = df.tail(200)\n",
    "df['px_change'] = df['mid_price'].diff().fillna(0)\n",
    "df['px_change_next'] = df['px_change'].shift(-1).fillna(0)"
   ]
  },
  {
   "cell_type": "code",
   "execution_count": null,
   "metadata": {},
   "outputs": [],
   "source": [
    "xcol = 'px_change_next'\n",
    "a1, b1 = np.polyfit(df[xcol].to_numpy(), df['ar_skew'].to_numpy(), 1)\n",
    "a2, b2 = np.polyfit(df[xcol].to_numpy(), df['skew'].to_numpy(), 1)\n",
    "a3, b3 = np.polyfit(df[xcol].to_numpy(), df['skew_2'].to_numpy(), 1)\n",
    "\n",
    "fig = make_subplots(\n",
    "    rows=1, cols=3,\n",
    "    subplot_titles=[\n",
    "        f'Arrival Rate Skew vs {xcol}',     \n",
    "        f'VWMP Skew vs {xcol}<br>(slope = {a2:.3f})',             \n",
    "        f'VWMP Skew 2 vs {xcol}<br>(slope = {a3:.3f})',  \n",
    "    ],     \n",
    ")\n",
    "fig.update_layout(\n",
    "    title=symbol,\n",
    "    width=1500, height=500,\n",
    "    showlegend=False,\n",
    "    xaxis_title=xcol,\n",
    "    xaxis2_title=xcol,\n",
    "    xaxis3_title=xcol,\n",
    "    yaxis_title=f\"Arrival Rate Skew\",    \n",
    "    yaxis2_title=f\"VWMP Skew\",    \n",
    "    yaxis3_title=f\"VWMP Skew\",    \n",
    ")\n",
    "\n",
    "colors = plotly.colors.DEFAULT_PLOTLY_COLORS\n",
    "fig.add_trace(go.Scatter(x=df[xcol], y=df['ar_skew'], mode='markers', marker=dict(color=colors[0])), row=1, col=1)\n",
    "fig.add_trace(go.Scatter(x=df[xcol], y=(a1*df[xcol] + b1), marker=dict(color=colors[0]), mode='lines'), row=1, col=1)             \n",
    "\n",
    "fig.add_trace(go.Scatter(x=df[xcol], y=df['skew'], mode='markers', marker=dict(color=colors[1])), row=1, col=2)\n",
    "fig.add_trace(go.Scatter(x=df[xcol], y=(a2*df[xcol] + b2), marker=dict(color=colors[1]), mode='lines'), row=1, col=2)             \n",
    "\n",
    "fig.add_trace(go.Scatter(x=df[xcol], y=df['skew_2'], mode='markers', marker=dict(color=colors[1])), row=1, col=3)\n",
    "fig.add_trace(go.Scatter(x=df[xcol], y=(a3*df[xcol] + b3), marker=dict(color=colors[1]), mode='lines'), row=1, col=3)             "
   ]
  },
  {
   "cell_type": "code",
   "execution_count": null,
   "metadata": {},
   "outputs": [],
   "source": []
  }
 ],
 "metadata": {
  "kernelspec": {
   "display_name": "Python 3",
   "language": "python",
   "name": "python3"
  },
  "language_info": {
   "codemirror_mode": {
    "name": "ipython",
    "version": 3
   },
   "file_extension": ".py",
   "mimetype": "text/x-python",
   "name": "python",
   "nbconvert_exporter": "python",
   "pygments_lexer": "ipython3",
   "version": "3.10.11"
  }
 },
 "nbformat": 4,
 "nbformat_minor": 2
}
