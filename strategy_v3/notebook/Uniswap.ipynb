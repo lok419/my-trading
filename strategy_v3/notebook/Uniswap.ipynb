{
 "cells": [
  {
   "cell_type": "code",
   "execution_count": 26,
   "id": "f8acadcf-7340-408f-aab1-6ad5fe2c7469",
   "metadata": {},
   "outputs": [
    {
     "name": "stdout",
     "output_type": "stream",
     "text": [
      "The autoreload extension is already loaded. To reload it, use:\n",
      "  %reload_ext autoreload\n"
     ]
    }
   ],
   "source": [
    "%load_ext autoreload\n",
    "%autoreload 2\n",
    "\n",
    "from uniswap import Uniswap\n",
    "import matplotlib.pyplot as plt\n",
    "import seaborn as sns\n",
    "import pandas as pd\n",
    "from BinanceClient import BinanceClient \n",
    "from CoinbaseClient import CoinbaseClient \n",
    "from web3 import Web3, HTTPProvider\n",
    "import json\n",
    "from Token import Token\n",
    "from binance.exceptions import BinanceAPIException\n",
    "from datetime import datetime\n",
    "import time\n",
    "import os"
   ]
  },
  {
   "cell_type": "code",
   "execution_count": 27,
   "id": "6d11239f-e520-4851-bb8c-5c44ab66f6d0",
   "metadata": {},
   "outputs": [],
   "source": [
    "address = Web3.toChecksumAddress(\"0x4975AE6f6991ab7D68AF65B8e184fcd6FC1b87cf\".lower())\n",
    "private_key = \"87c1fc44deb9c7b1445c210c471ba0f9e364f02dfe862d5a46b2eb4ffc6c1621\" \n",
    "version = 2         \n",
    "provider = \"https://mainnet.infura.io/v3/29613604d6144b348e4bf184cc80a40a\"    \n",
    "web3 = Web3(Web3.HTTPProvider(provider))\n",
    "uniswap = Uniswap(address=address, private_key=private_key, version=version, provider=provider)\n",
    "abi = '[{\"constant\":true,\"inputs\":[],\"name\":\"name\",\"outputs\":[{\"internalType\":\"string\",\"name\":\"\",\"type\":\"string\"}],\"payable\":false,\"stateMutability\":\"view\",\"type\":\"function\"},{\"constant\":false,\"inputs\":[{\"internalType\":\"address\",\"name\":\"spender\",\"type\":\"address\"},{\"internalType\":\"uint256\",\"name\":\"value\",\"type\":\"uint256\"}],\"name\":\"approve\",\"outputs\":[{\"internalType\":\"bool\",\"name\":\"\",\"type\":\"bool\"}],\"payable\":false,\"stateMutability\":\"nonpayable\",\"type\":\"function\"},{\"constant\":true,\"inputs\":[],\"name\":\"totalSupply\",\"outputs\":[{\"internalType\":\"uint256\",\"name\":\"\",\"type\":\"uint256\"}],\"payable\":false,\"stateMutability\":\"view\",\"type\":\"function\"},{\"constant\":false,\"inputs\":[{\"internalType\":\"address\",\"name\":\"from\",\"type\":\"address\"},{\"internalType\":\"address\",\"name\":\"to\",\"type\":\"address\"},{\"internalType\":\"uint256\",\"name\":\"value\",\"type\":\"uint256\"}],\"name\":\"transferFrom\",\"outputs\":[{\"internalType\":\"bool\",\"name\":\"\",\"type\":\"bool\"}],\"payable\":false,\"stateMutability\":\"nonpayable\",\"type\":\"function\"},{\"constant\":true,\"inputs\":[],\"name\":\"decimals\",\"outputs\":[{\"internalType\":\"uint8\",\"name\":\"\",\"type\":\"uint8\"}],\"payable\":false,\"stateMutability\":\"view\",\"type\":\"function\"},{\"constant\":false,\"inputs\":[{\"internalType\":\"address\",\"name\":\"spender\",\"type\":\"address\"},{\"internalType\":\"uint256\",\"name\":\"addedValue\",\"type\":\"uint256\"}],\"name\":\"increaseAllowance\",\"outputs\":[{\"internalType\":\"bool\",\"name\":\"\",\"type\":\"bool\"}],\"payable\":false,\"stateMutability\":\"nonpayable\",\"type\":\"function\"},{\"constant\":false,\"inputs\":[{\"internalType\":\"address\",\"name\":\"to\",\"type\":\"address\"},{\"internalType\":\"uint256\",\"name\":\"value\",\"type\":\"uint256\"}],\"name\":\"mint\",\"outputs\":[{\"internalType\":\"bool\",\"name\":\"\",\"type\":\"bool\"}],\"payable\":false,\"stateMutability\":\"nonpayable\",\"type\":\"function\"},{\"constant\":true,\"inputs\":[{\"internalType\":\"address\",\"name\":\"owner\",\"type\":\"address\"}],\"name\":\"balanceOf\",\"outputs\":[{\"internalType\":\"uint256\",\"name\":\"\",\"type\":\"uint256\"}],\"payable\":false,\"stateMutability\":\"view\",\"type\":\"function\"},{\"constant\":true,\"inputs\":[],\"name\":\"symbol\",\"outputs\":[{\"internalType\":\"string\",\"name\":\"\",\"type\":\"string\"}],\"payable\":false,\"stateMutability\":\"view\",\"type\":\"function\"},{\"constant\":false,\"inputs\":[{\"internalType\":\"address\",\"name\":\"spender\",\"type\":\"address\"},{\"internalType\":\"uint256\",\"name\":\"subtractedValue\",\"type\":\"uint256\"}],\"name\":\"decreaseAllowance\",\"outputs\":[{\"internalType\":\"bool\",\"name\":\"\",\"type\":\"bool\"}],\"payable\":false,\"stateMutability\":\"nonpayable\",\"type\":\"function\"},{\"constant\":false,\"inputs\":[{\"internalType\":\"address\",\"name\":\"to\",\"type\":\"address\"},{\"internalType\":\"uint256\",\"name\":\"value\",\"type\":\"uint256\"}],\"name\":\"transfer\",\"outputs\":[{\"internalType\":\"bool\",\"name\":\"\",\"type\":\"bool\"}],\"payable\":false,\"stateMutability\":\"nonpayable\",\"type\":\"function\"},{\"constant\":true,\"inputs\":[{\"internalType\":\"address\",\"name\":\"owner\",\"type\":\"address\"},{\"internalType\":\"address\",\"name\":\"spender\",\"type\":\"address\"}],\"name\":\"allowance\",\"outputs\":[{\"internalType\":\"uint256\",\"name\":\"\",\"type\":\"uint256\"}],\"payable\":false,\"stateMutability\":\"view\",\"type\":\"function\"},{\"inputs\":[],\"payable\":false,\"stateMutability\":\"nonpayable\",\"type\":\"constructor\"},{\"anonymous\":false,\"inputs\":[{\"indexed\":true,\"internalType\":\"address\",\"name\":\"from\",\"type\":\"address\"},{\"indexed\":true,\"internalType\":\"address\",\"name\":\"to\",\"type\":\"address\"},{\"indexed\":false,\"internalType\":\"uint256\",\"name\":\"value\",\"type\":\"uint256\"}],\"name\":\"Transfer\",\"type\":\"event\"},{\"anonymous\":false,\"inputs\":[{\"indexed\":true,\"internalType\":\"address\",\"name\":\"owner\",\"type\":\"address\"},{\"indexed\":true,\"internalType\":\"address\",\"name\":\"spender\",\"type\":\"address\"},{\"indexed\":false,\"internalType\":\"uint256\",\"name\":\"value\",\"type\":\"uint256\"}],\"name\":\"Approval\",\"type\":\"event\"}]'\n",
    "abi = json.loads(abi)"
   ]
  },
  {
   "cell_type": "code",
   "execution_count": 28,
   "id": "c36257bc-eba9-478c-bd47-9c49d6dd666d",
   "metadata": {},
   "outputs": [
    {
     "data": {
      "text/plain": [
       "[{'asset': 'LDUSDT', 'free': '2014.96829564', 'locked': '0.00000000'},\n",
       " {'asset': 'DAI', 'free': '0.00000003', 'locked': '0.00000000'},\n",
       " {'asset': 'LUNA', 'free': '0.00000001', 'locked': '0.00000000'},\n",
       " {'asset': 'DYDX', 'free': '18.62714950', 'locked': '0.00000000'},\n",
       " {'asset': 'APE', 'free': '1.16315713', 'locked': '0.00000000'},\n",
       " {'asset': 'LUNC', 'free': '0.00288000', 'locked': '0.00000000'}]"
      ]
     },
     "execution_count": 28,
     "metadata": {},
     "output_type": "execute_result"
    }
   ],
   "source": [
    "def filter_balance(x):\n",
    "    if float(x[\"free\"]) != 0 or float(x[\"locked\"]) != 0:\n",
    "        return True\n",
    "    else:\n",
    "        return False\n",
    "    \n",
    "binance_client = BinanceClient().client\n",
    "all_tickers = binance_client.get_all_tickers()\n",
    "account = binance_client.get_account()\n",
    "balances = account[\"balances\"]\n",
    "balances = list(filter(filter_balance, balances))\n",
    "balances"
   ]
  },
  {
   "cell_type": "code",
   "execution_count": 36,
   "id": "6264bef4-19ff-4e41-8da1-15f073579792",
   "metadata": {},
   "outputs": [],
   "source": [
    "coinbase_client = CoinbaseClient().client\n",
    "coinbase_client\n",
    "user = coinbase_client.get_current_user()\n"
   ]
  },
  {
   "cell_type": "code",
   "execution_count": 40,
   "id": "09c0a142-0491-4078-bcd8-f01ad27d53a9",
   "metadata": {},
   "outputs": [
    {
     "name": "stdout",
     "output_type": "stream",
     "text": [
      "{\"message\":\"NotFound\"}\n"
     ]
    }
   ],
   "source": [
    "import requests\n",
    "\n",
    "url = \"https://api.exchange.coinbase.com/products/product_id/book?level=1\"\n",
    "\n",
    "headers = {\"Accept\": \"application/json\"}\n",
    "\n",
    "response = requests.get(url, headers=headers)\n",
    "\n",
    "print(response.text)"
   ]
  },
  {
   "cell_type": "markdown",
   "id": "6ee89bad-f80a-4fde-85c5-47127f6bbb9b",
   "metadata": {},
   "source": [
    "## Get Binance price"
   ]
  },
  {
   "cell_type": "code",
   "execution_count": 37,
   "id": "86219099-69d9-4741-b6d6-25b26ff090f2",
   "metadata": {},
   "outputs": [],
   "source": [
    "def binance_price(symbol, quantity):        \n",
    "    depth = binance_client.get_order_book(symbol=symbol)        \n",
    "    \n",
    "    def weight_avg_order_prices(bid_or_ask, quantity):        \n",
    "        avg = []    \n",
    "        for order in bid_or_ask:\n",
    "            order_price = float(order[0])\n",
    "            order_qty = float(order[1])\n",
    "            \n",
    "            quantity -= order_qty\n",
    "            if quantity >= 0:\n",
    "                avg.append((order_price, order_qty))\n",
    "            else:\n",
    "                avg.append((order_price, order_qty+quantity))\n",
    "                break\n",
    "                        \n",
    "        avg = sum([x[0]*x[1] for x in avg]) / sum(x[1] for x in avg)        \n",
    "        return avg\n",
    "               \n",
    "    bid = weight_avg_order_prices(depth[\"bids\"], quantity)\n",
    "    ask = weight_avg_order_prices(depth[\"asks\"], quantity)                           \n",
    "    return bid, ask "
   ]
  },
  {
   "cell_type": "markdown",
   "id": "48b209e0-5684-48ff-b567-e8b2b23e56f0",
   "metadata": {},
   "source": [
    "## Get Coinbase price"
   ]
  },
  {
   "cell_type": "code",
   "execution_count": 39,
   "id": "66c5f94e-41db-428b-bdc5-d506d552ebd4",
   "metadata": {},
   "outputs": [
    {
     "ename": "NotFoundError",
     "evalue": "APIError(id=not_found): Not found",
     "output_type": "error",
     "traceback": [
      "\u001b[0;31m---------------------------------------------------------------------------\u001b[0m",
      "\u001b[0;31mNotFoundError\u001b[0m                             Traceback (most recent call last)",
      "\u001b[0;32m/var/folders/6y/63prsvg51lgc4rgxgygg4xy80000gn/T/ipykernel_17900/956719490.py\u001b[0m in \u001b[0;36m<module>\u001b[0;34m\u001b[0m\n\u001b[1;32m      1\u001b[0m \u001b[0mcoinbase_client\u001b[0m\u001b[0;34m.\u001b[0m\u001b[0mget_buy_price\u001b[0m\u001b[0;34m(\u001b[0m\u001b[0mcurrency_pair\u001b[0m \u001b[0;34m=\u001b[0m \u001b[0;34m'BTC-USD'\u001b[0m\u001b[0;34m)\u001b[0m\u001b[0;34m\u001b[0m\u001b[0;34m\u001b[0m\u001b[0m\n\u001b[0;32m----> 2\u001b[0;31m \u001b[0mcoinbase_client\u001b[0m\u001b[0;34m.\u001b[0m\u001b[0mget_orders\u001b[0m\u001b[0;34m(\u001b[0m\u001b[0;34m)\u001b[0m\u001b[0;34m\u001b[0m\u001b[0;34m\u001b[0m\u001b[0m\n\u001b[0m",
      "\u001b[0;32m/Library/Frameworks/Python.framework/Versions/3.10/lib/python3.10/site-packages/coinbase/wallet/client.py\u001b[0m in \u001b[0;36mget_orders\u001b[0;34m(self, **params)\u001b[0m\n\u001b[1;32m    519\u001b[0m   \u001b[0;32mdef\u001b[0m \u001b[0mget_orders\u001b[0m\u001b[0;34m(\u001b[0m\u001b[0mself\u001b[0m\u001b[0;34m,\u001b[0m \u001b[0;34m**\u001b[0m\u001b[0mparams\u001b[0m\u001b[0;34m)\u001b[0m\u001b[0;34m:\u001b[0m\u001b[0;34m\u001b[0m\u001b[0;34m\u001b[0m\u001b[0m\n\u001b[1;32m    520\u001b[0m     \u001b[0;34m\"\"\"https://developers.coinbase.com/api/v2#list-orders\"\"\"\u001b[0m\u001b[0;34m\u001b[0m\u001b[0;34m\u001b[0m\u001b[0m\n\u001b[0;32m--> 521\u001b[0;31m     \u001b[0mresponse\u001b[0m \u001b[0;34m=\u001b[0m \u001b[0mself\u001b[0m\u001b[0;34m.\u001b[0m\u001b[0m_get\u001b[0m\u001b[0;34m(\u001b[0m\u001b[0;34m'v2'\u001b[0m\u001b[0;34m,\u001b[0m \u001b[0;34m'orders'\u001b[0m\u001b[0;34m,\u001b[0m \u001b[0mparams\u001b[0m\u001b[0;34m=\u001b[0m\u001b[0mparams\u001b[0m\u001b[0;34m)\u001b[0m\u001b[0;34m\u001b[0m\u001b[0;34m\u001b[0m\u001b[0m\n\u001b[0m\u001b[1;32m    522\u001b[0m     \u001b[0;32mreturn\u001b[0m \u001b[0mself\u001b[0m\u001b[0;34m.\u001b[0m\u001b[0m_make_api_object\u001b[0m\u001b[0;34m(\u001b[0m\u001b[0mresponse\u001b[0m\u001b[0;34m,\u001b[0m \u001b[0mOrder\u001b[0m\u001b[0;34m)\u001b[0m\u001b[0;34m\u001b[0m\u001b[0;34m\u001b[0m\u001b[0m\n\u001b[1;32m    523\u001b[0m \u001b[0;34m\u001b[0m\u001b[0m\n",
      "\u001b[0;32m/Library/Frameworks/Python.framework/Versions/3.10/lib/python3.10/site-packages/coinbase/wallet/client.py\u001b[0m in \u001b[0;36m_get\u001b[0;34m(self, *args, **kwargs)\u001b[0m\n\u001b[1;32m    127\u001b[0m \u001b[0;34m\u001b[0m\u001b[0m\n\u001b[1;32m    128\u001b[0m   \u001b[0;32mdef\u001b[0m \u001b[0m_get\u001b[0m\u001b[0;34m(\u001b[0m\u001b[0mself\u001b[0m\u001b[0;34m,\u001b[0m \u001b[0;34m*\u001b[0m\u001b[0margs\u001b[0m\u001b[0;34m,\u001b[0m \u001b[0;34m**\u001b[0m\u001b[0mkwargs\u001b[0m\u001b[0;34m)\u001b[0m\u001b[0;34m:\u001b[0m\u001b[0;34m\u001b[0m\u001b[0;34m\u001b[0m\u001b[0m\n\u001b[0;32m--> 129\u001b[0;31m     \u001b[0;32mreturn\u001b[0m \u001b[0mself\u001b[0m\u001b[0;34m.\u001b[0m\u001b[0m_request\u001b[0m\u001b[0;34m(\u001b[0m\u001b[0;34m'get'\u001b[0m\u001b[0;34m,\u001b[0m \u001b[0;34m*\u001b[0m\u001b[0margs\u001b[0m\u001b[0;34m,\u001b[0m \u001b[0;34m**\u001b[0m\u001b[0mkwargs\u001b[0m\u001b[0;34m)\u001b[0m\u001b[0;34m\u001b[0m\u001b[0;34m\u001b[0m\u001b[0m\n\u001b[0m\u001b[1;32m    130\u001b[0m \u001b[0;34m\u001b[0m\u001b[0m\n\u001b[1;32m    131\u001b[0m   \u001b[0;32mdef\u001b[0m \u001b[0m_post\u001b[0m\u001b[0;34m(\u001b[0m\u001b[0mself\u001b[0m\u001b[0;34m,\u001b[0m \u001b[0;34m*\u001b[0m\u001b[0margs\u001b[0m\u001b[0;34m,\u001b[0m \u001b[0;34m**\u001b[0m\u001b[0mkwargs\u001b[0m\u001b[0;34m)\u001b[0m\u001b[0;34m:\u001b[0m\u001b[0;34m\u001b[0m\u001b[0;34m\u001b[0m\u001b[0m\n",
      "\u001b[0;32m/Library/Frameworks/Python.framework/Versions/3.10/lib/python3.10/site-packages/coinbase/wallet/client.py\u001b[0m in \u001b[0;36m_request\u001b[0;34m(self, method, *relative_path_parts, **kwargs)\u001b[0m\n\u001b[1;32m    114\u001b[0m     \u001b[0mkwargs\u001b[0m\u001b[0;34m.\u001b[0m\u001b[0mupdate\u001b[0m\u001b[0;34m(\u001b[0m\u001b[0mverify\u001b[0m\u001b[0;34m=\u001b[0m\u001b[0mself\u001b[0m\u001b[0;34m.\u001b[0m\u001b[0mVERIFY_SSL\u001b[0m\u001b[0;34m)\u001b[0m\u001b[0;34m\u001b[0m\u001b[0;34m\u001b[0m\u001b[0m\n\u001b[1;32m    115\u001b[0m     \u001b[0mresponse\u001b[0m \u001b[0;34m=\u001b[0m \u001b[0mgetattr\u001b[0m\u001b[0;34m(\u001b[0m\u001b[0mself\u001b[0m\u001b[0;34m.\u001b[0m\u001b[0msession\u001b[0m\u001b[0;34m,\u001b[0m \u001b[0mmethod\u001b[0m\u001b[0;34m)\u001b[0m\u001b[0;34m(\u001b[0m\u001b[0muri\u001b[0m\u001b[0;34m,\u001b[0m \u001b[0;34m**\u001b[0m\u001b[0mkwargs\u001b[0m\u001b[0;34m)\u001b[0m\u001b[0;34m\u001b[0m\u001b[0;34m\u001b[0m\u001b[0m\n\u001b[0;32m--> 116\u001b[0;31m     \u001b[0;32mreturn\u001b[0m \u001b[0mself\u001b[0m\u001b[0;34m.\u001b[0m\u001b[0m_handle_response\u001b[0m\u001b[0;34m(\u001b[0m\u001b[0mresponse\u001b[0m\u001b[0;34m)\u001b[0m\u001b[0;34m\u001b[0m\u001b[0;34m\u001b[0m\u001b[0m\n\u001b[0m\u001b[1;32m    117\u001b[0m \u001b[0;34m\u001b[0m\u001b[0m\n\u001b[1;32m    118\u001b[0m   \u001b[0;32mdef\u001b[0m \u001b[0m_handle_response\u001b[0m\u001b[0;34m(\u001b[0m\u001b[0mself\u001b[0m\u001b[0;34m,\u001b[0m \u001b[0mresponse\u001b[0m\u001b[0;34m)\u001b[0m\u001b[0;34m:\u001b[0m\u001b[0;34m\u001b[0m\u001b[0;34m\u001b[0m\u001b[0m\n",
      "\u001b[0;32m/Library/Frameworks/Python.framework/Versions/3.10/lib/python3.10/site-packages/coinbase/wallet/client.py\u001b[0m in \u001b[0;36m_handle_response\u001b[0;34m(self, response)\u001b[0m\n\u001b[1;32m    123\u001b[0m     \"\"\"\n\u001b[1;32m    124\u001b[0m     \u001b[0;32mif\u001b[0m \u001b[0;32mnot\u001b[0m \u001b[0mstr\u001b[0m\u001b[0;34m(\u001b[0m\u001b[0mresponse\u001b[0m\u001b[0;34m.\u001b[0m\u001b[0mstatus_code\u001b[0m\u001b[0;34m)\u001b[0m\u001b[0;34m.\u001b[0m\u001b[0mstartswith\u001b[0m\u001b[0;34m(\u001b[0m\u001b[0;34m'2'\u001b[0m\u001b[0;34m)\u001b[0m\u001b[0;34m:\u001b[0m\u001b[0;34m\u001b[0m\u001b[0;34m\u001b[0m\u001b[0m\n\u001b[0;32m--> 125\u001b[0;31m       \u001b[0;32mraise\u001b[0m \u001b[0mbuild_api_error\u001b[0m\u001b[0;34m(\u001b[0m\u001b[0mresponse\u001b[0m\u001b[0;34m)\u001b[0m\u001b[0;34m\u001b[0m\u001b[0;34m\u001b[0m\u001b[0m\n\u001b[0m\u001b[1;32m    126\u001b[0m     \u001b[0;32mreturn\u001b[0m \u001b[0mresponse\u001b[0m\u001b[0;34m\u001b[0m\u001b[0;34m\u001b[0m\u001b[0m\n\u001b[1;32m    127\u001b[0m \u001b[0;34m\u001b[0m\u001b[0m\n",
      "\u001b[0;31mNotFoundError\u001b[0m: APIError(id=not_found): Not found"
     ]
    }
   ],
   "source": [
    "coinbase_client.get_buy_price(currency_pair = 'BTC-USD')\n",
    "coinbase_client.get_orders()"
   ]
  },
  {
   "cell_type": "markdown",
   "id": "7980e531-a2fb-40c8-8507-efbea568f0e1",
   "metadata": {},
   "source": [
    "## 1. Search for arbitrage opportunity"
   ]
  },
  {
   "cell_type": "code",
   "execution_count": 32,
   "id": "dbc30d35-d5ef-4645-b0ed-831a0d281679",
   "metadata": {},
   "outputs": [],
   "source": [
    "known_pairs = [\n",
    "    (\"ETH\", \"USDT\"),\n",
    "    (\"ETH\", \"DAI\"),\n",
    "    (\"AAVE\", \"USDT\"),\n",
    "    (\"UNI\", \"USDT\"),\n",
    "    (\"BAT\", \"USDT\"),\n",
    "    (\"SHIB\", \"USDT\"),\n",
    "    (\"SAND\", \"USDT\"),\n",
    "    #(\"ACH\", \"USDT\"),\n",
    "]"
   ]
  },
  {
   "cell_type": "code",
   "execution_count": 33,
   "id": "02a9fb73-cf1e-46fb-940d-8bda63fd44ca",
   "metadata": {},
   "outputs": [],
   "source": [
    "tokenA = Token(\"ETH\")\n",
    "tokenB = Token(\"USDT\")\n",
    "binance_symbol = str(tokenA) + str(tokenB)\n",
    "\n",
    "trade_size = 10000 # in tokenB"
   ]
  },
  {
   "cell_type": "code",
   "execution_count": 35,
   "id": "1c1d1c17-a06d-4f9f-8293-7294d36951b9",
   "metadata": {},
   "outputs": [
    {
     "name": "stdout",
     "output_type": "stream",
     "text": [
      "Quantity = 8\n",
      "\n",
      "Case 1: buy ETH from binance and convert ETH to USDT via uniqswap\n",
      "Binance buy for:  1224.951  | Uniswap sell for 1215.565  | profit = -75.08\n",
      "\n",
      "Case 2: convert DAI to ETH via uniswap and sell ETH to binance\n",
      "Binance sell for: 1224.588  | Uniswap buy for  1223.805  | profit = 6.27\n"
     ]
    }
   ],
   "source": [
    "binance_symbol = str(tokenA) + str(tokenB)    \n",
    "quantity = round(trade_size / binance_price(binance_symbol, 1)[0])\n",
    "res = {}\n",
    "\n",
    "print(\"Quantity = {}\".format(quantity))\n",
    "print()\n",
    "\n",
    "binance_bid, binance_ask = binance_price(binance_symbol, quantity)\n",
    "uni_price_bid = uniswap.get_price_input(tokenA.address,  tokenB.address,  quantity*10**tokenA.decimal) / (quantity*10**tokenB.decimal)\n",
    "uni_price_ask = uniswap.get_price_output(tokenB.address, tokenA.address,  quantity*10**tokenA.decimal) / (quantity*10**tokenB.decimal)\n",
    "\n",
    "assert(binance_ask >= binance_bid)\n",
    "assert(uni_price_ask >= uni_price_bid)\n",
    "\n",
    "# Case 1: buy tokenA from binance and convert tokenA to tokenB via uniqswap\n",
    "profit_1 = (uni_price_bid - binance_ask) * quantity\n",
    "\n",
    "print(\"Case 1: buy {} from binance and convert {} to {} via uniqswap\".format(tokenA, tokenA, tokenB))\n",
    "print(\"Binance buy for:  {:.3f}  | Uniswap sell for {:.3f}  | profit = {:.2f}\".format(binance_ask, uni_price_bid, profit_1))\n",
    "print()\n",
    "\n",
    "# Case 2: convert tokenB to tokenA via uniswap and sell tokenA to binance\n",
    "profit_2 = (binance_bid - uni_price_ask) * quantity\n",
    "print(\"Case 2: convert DAI to ETH via uniswap and sell ETH to binance\".format(tokenB, tokenA, tokenA))\n",
    "print(\"Binance sell for: {:.3f}  | Uniswap buy for  {:.3f}  | profit = {:.2f}\".format(binance_bid, uni_price_ask, profit_2))"
   ]
  },
  {
   "cell_type": "code",
   "execution_count": 22,
   "id": "b9c06663-c8ce-4e3c-b306-7d83e4107cbd",
   "metadata": {},
   "outputs": [
    {
     "name": "stderr",
     "output_type": "stream",
     "text": [
      "ERROR:root:Internal Python error in the inspect module.\n",
      "Below is the traceback from this internal error.\n",
      "\n"
     ]
    },
    {
     "name": "stdout",
     "output_type": "stream",
     "text": [
      "Traceback (most recent call last):\n",
      "  File \"/Library/Frameworks/Python.framework/Versions/3.10/lib/python3.10/site-packages/IPython/core/interactiveshell.py\", line 3457, in run_code\n",
      "    exec(code_obj, self.user_global_ns, self.user_ns)\n",
      "  File \"/var/folders/6y/63prsvg51lgc4rgxgygg4xy80000gn/T/ipykernel_13766/3904268067.py\", line 56, in <module>\n",
      "    time.sleep(30)\n",
      "KeyboardInterrupt\n",
      "\n",
      "During handling of the above exception, another exception occurred:\n",
      "\n",
      "Traceback (most recent call last):\n",
      "  File \"/Library/Frameworks/Python.framework/Versions/3.10/lib/python3.10/site-packages/IPython/core/interactiveshell.py\", line 2077, in showtraceback\n",
      "    stb = value._render_traceback_()\n",
      "AttributeError: 'KeyboardInterrupt' object has no attribute '_render_traceback_'\n",
      "\n",
      "During handling of the above exception, another exception occurred:\n",
      "\n",
      "Traceback (most recent call last):\n",
      "  File \"/Library/Frameworks/Python.framework/Versions/3.10/lib/python3.10/site-packages/IPython/core/ultratb.py\", line 1101, in get_records\n",
      "    return _fixed_getinnerframes(etb, number_of_lines_of_context, tb_offset)\n",
      "  File \"/Library/Frameworks/Python.framework/Versions/3.10/lib/python3.10/site-packages/IPython/core/ultratb.py\", line 248, in wrapped\n",
      "    return f(*args, **kwargs)\n",
      "  File \"/Library/Frameworks/Python.framework/Versions/3.10/lib/python3.10/site-packages/IPython/core/ultratb.py\", line 281, in _fixed_getinnerframes\n",
      "    records = fix_frame_records_filenames(inspect.getinnerframes(etb, context))\n",
      "  File \"/Library/Frameworks/Python.framework/Versions/3.10/lib/python3.10/inspect.py\", line 1665, in getinnerframes\n",
      "    frameinfo = (tb.tb_frame,) + getframeinfo(tb, context)\n",
      "  File \"/Library/Frameworks/Python.framework/Versions/3.10/lib/python3.10/inspect.py\", line 1623, in getframeinfo\n",
      "    filename = getsourcefile(frame) or getfile(frame)\n",
      "  File \"/Library/Frameworks/Python.framework/Versions/3.10/lib/python3.10/inspect.py\", line 829, in getsourcefile\n",
      "    module = getmodule(object, filename)\n",
      "  File \"/Library/Frameworks/Python.framework/Versions/3.10/lib/python3.10/inspect.py\", line 871, in getmodule\n",
      "    if f == _filesbymodname.get(modname, None):\n",
      "KeyboardInterrupt\n"
     ]
    },
    {
     "ename": "TypeError",
     "evalue": "object of type 'NoneType' has no len()",
     "output_type": "error",
     "traceback": [
      "\u001b[0;31m---------------------------------------------------------------------------\u001b[0m",
      "\u001b[0;31mKeyboardInterrupt\u001b[0m                         Traceback (most recent call last)",
      "    \u001b[0;31m[... skipping hidden 1 frame]\u001b[0m\n",
      "\u001b[0;32m/var/folders/6y/63prsvg51lgc4rgxgygg4xy80000gn/T/ipykernel_13766/3904268067.py\u001b[0m in \u001b[0;36m<module>\u001b[0;34m\u001b[0m\n\u001b[1;32m     55\u001b[0m     \u001b[0mdf_temp\u001b[0m\u001b[0;34m.\u001b[0m\u001b[0mto_csv\u001b[0m\u001b[0;34m(\u001b[0m\u001b[0moutput_path\u001b[0m\u001b[0;34m,\u001b[0m \u001b[0mmode\u001b[0m\u001b[0;34m=\u001b[0m\u001b[0;34m'a'\u001b[0m\u001b[0;34m,\u001b[0m \u001b[0mheader\u001b[0m\u001b[0;34m=\u001b[0m\u001b[0;32mnot\u001b[0m \u001b[0mos\u001b[0m\u001b[0;34m.\u001b[0m\u001b[0mpath\u001b[0m\u001b[0;34m.\u001b[0m\u001b[0mexists\u001b[0m\u001b[0;34m(\u001b[0m\u001b[0moutput_path\u001b[0m\u001b[0;34m)\u001b[0m\u001b[0;34m)\u001b[0m\u001b[0;34m\u001b[0m\u001b[0;34m\u001b[0m\u001b[0m\n\u001b[0;32m---> 56\u001b[0;31m     \u001b[0mtime\u001b[0m\u001b[0;34m.\u001b[0m\u001b[0msleep\u001b[0m\u001b[0;34m(\u001b[0m\u001b[0;36m30\u001b[0m\u001b[0;34m)\u001b[0m\u001b[0;34m\u001b[0m\u001b[0;34m\u001b[0m\u001b[0m\n\u001b[0m",
      "\u001b[0;31mKeyboardInterrupt\u001b[0m: ",
      "\nDuring handling of the above exception, another exception occurred:\n",
      "\u001b[0;31mAttributeError\u001b[0m                            Traceback (most recent call last)",
      "\u001b[0;32m/Library/Frameworks/Python.framework/Versions/3.10/lib/python3.10/site-packages/IPython/core/interactiveshell.py\u001b[0m in \u001b[0;36mshowtraceback\u001b[0;34m(self, exc_tuple, filename, tb_offset, exception_only, running_compiled_code)\u001b[0m\n\u001b[1;32m   2076\u001b[0m                         \u001b[0;31m# in the engines. This should return a list of strings.\u001b[0m\u001b[0;34m\u001b[0m\u001b[0;34m\u001b[0m\u001b[0m\n\u001b[0;32m-> 2077\u001b[0;31m                         \u001b[0mstb\u001b[0m \u001b[0;34m=\u001b[0m \u001b[0mvalue\u001b[0m\u001b[0;34m.\u001b[0m\u001b[0m_render_traceback_\u001b[0m\u001b[0;34m(\u001b[0m\u001b[0;34m)\u001b[0m\u001b[0;34m\u001b[0m\u001b[0;34m\u001b[0m\u001b[0m\n\u001b[0m\u001b[1;32m   2078\u001b[0m                     \u001b[0;32mexcept\u001b[0m \u001b[0mException\u001b[0m\u001b[0;34m:\u001b[0m\u001b[0;34m\u001b[0m\u001b[0;34m\u001b[0m\u001b[0m\n",
      "\u001b[0;31mAttributeError\u001b[0m: 'KeyboardInterrupt' object has no attribute '_render_traceback_'",
      "\nDuring handling of the above exception, another exception occurred:\n",
      "\u001b[0;31mTypeError\u001b[0m                                 Traceback (most recent call last)",
      "    \u001b[0;31m[... skipping hidden 1 frame]\u001b[0m\n",
      "\u001b[0;32m/Library/Frameworks/Python.framework/Versions/3.10/lib/python3.10/site-packages/IPython/core/interactiveshell.py\u001b[0m in \u001b[0;36mshowtraceback\u001b[0;34m(self, exc_tuple, filename, tb_offset, exception_only, running_compiled_code)\u001b[0m\n\u001b[1;32m   2077\u001b[0m                         \u001b[0mstb\u001b[0m \u001b[0;34m=\u001b[0m \u001b[0mvalue\u001b[0m\u001b[0;34m.\u001b[0m\u001b[0m_render_traceback_\u001b[0m\u001b[0;34m(\u001b[0m\u001b[0;34m)\u001b[0m\u001b[0;34m\u001b[0m\u001b[0;34m\u001b[0m\u001b[0m\n\u001b[1;32m   2078\u001b[0m                     \u001b[0;32mexcept\u001b[0m \u001b[0mException\u001b[0m\u001b[0;34m:\u001b[0m\u001b[0;34m\u001b[0m\u001b[0;34m\u001b[0m\u001b[0m\n\u001b[0;32m-> 2079\u001b[0;31m                         stb = self.InteractiveTB.structured_traceback(etype,\n\u001b[0m\u001b[1;32m   2080\u001b[0m                                             value, tb, tb_offset=tb_offset)\n\u001b[1;32m   2081\u001b[0m \u001b[0;34m\u001b[0m\u001b[0m\n",
      "\u001b[0;32m/Library/Frameworks/Python.framework/Versions/3.10/lib/python3.10/site-packages/IPython/core/ultratb.py\u001b[0m in \u001b[0;36mstructured_traceback\u001b[0;34m(self, etype, value, tb, tb_offset, number_of_lines_of_context)\u001b[0m\n\u001b[1;32m   1365\u001b[0m         \u001b[0;32melse\u001b[0m\u001b[0;34m:\u001b[0m\u001b[0;34m\u001b[0m\u001b[0;34m\u001b[0m\u001b[0m\n\u001b[1;32m   1366\u001b[0m             \u001b[0mself\u001b[0m\u001b[0;34m.\u001b[0m\u001b[0mtb\u001b[0m \u001b[0;34m=\u001b[0m \u001b[0mtb\u001b[0m\u001b[0;34m\u001b[0m\u001b[0;34m\u001b[0m\u001b[0m\n\u001b[0;32m-> 1367\u001b[0;31m         return FormattedTB.structured_traceback(\n\u001b[0m\u001b[1;32m   1368\u001b[0m             self, etype, value, tb, tb_offset, number_of_lines_of_context)\n\u001b[1;32m   1369\u001b[0m \u001b[0;34m\u001b[0m\u001b[0m\n",
      "\u001b[0;32m/Library/Frameworks/Python.framework/Versions/3.10/lib/python3.10/site-packages/IPython/core/ultratb.py\u001b[0m in \u001b[0;36mstructured_traceback\u001b[0;34m(self, etype, value, tb, tb_offset, number_of_lines_of_context)\u001b[0m\n\u001b[1;32m   1265\u001b[0m         \u001b[0;32mif\u001b[0m \u001b[0mmode\u001b[0m \u001b[0;32min\u001b[0m \u001b[0mself\u001b[0m\u001b[0;34m.\u001b[0m\u001b[0mverbose_modes\u001b[0m\u001b[0;34m:\u001b[0m\u001b[0;34m\u001b[0m\u001b[0;34m\u001b[0m\u001b[0m\n\u001b[1;32m   1266\u001b[0m             \u001b[0;31m# Verbose modes need a full traceback\u001b[0m\u001b[0;34m\u001b[0m\u001b[0;34m\u001b[0m\u001b[0m\n\u001b[0;32m-> 1267\u001b[0;31m             return VerboseTB.structured_traceback(\n\u001b[0m\u001b[1;32m   1268\u001b[0m                 \u001b[0mself\u001b[0m\u001b[0;34m,\u001b[0m \u001b[0metype\u001b[0m\u001b[0;34m,\u001b[0m \u001b[0mvalue\u001b[0m\u001b[0;34m,\u001b[0m \u001b[0mtb\u001b[0m\u001b[0;34m,\u001b[0m \u001b[0mtb_offset\u001b[0m\u001b[0;34m,\u001b[0m \u001b[0mnumber_of_lines_of_context\u001b[0m\u001b[0;34m\u001b[0m\u001b[0;34m\u001b[0m\u001b[0m\n\u001b[1;32m   1269\u001b[0m             )\n",
      "\u001b[0;32m/Library/Frameworks/Python.framework/Versions/3.10/lib/python3.10/site-packages/IPython/core/ultratb.py\u001b[0m in \u001b[0;36mstructured_traceback\u001b[0;34m(self, etype, evalue, etb, tb_offset, number_of_lines_of_context)\u001b[0m\n\u001b[1;32m   1122\u001b[0m         \u001b[0;34m\"\"\"Return a nice text document describing the traceback.\"\"\"\u001b[0m\u001b[0;34m\u001b[0m\u001b[0;34m\u001b[0m\u001b[0m\n\u001b[1;32m   1123\u001b[0m \u001b[0;34m\u001b[0m\u001b[0m\n\u001b[0;32m-> 1124\u001b[0;31m         formatted_exception = self.format_exception_as_a_whole(etype, evalue, etb, number_of_lines_of_context,\n\u001b[0m\u001b[1;32m   1125\u001b[0m                                                                tb_offset)\n\u001b[1;32m   1126\u001b[0m \u001b[0;34m\u001b[0m\u001b[0m\n",
      "\u001b[0;32m/Library/Frameworks/Python.framework/Versions/3.10/lib/python3.10/site-packages/IPython/core/ultratb.py\u001b[0m in \u001b[0;36mformat_exception_as_a_whole\u001b[0;34m(self, etype, evalue, etb, number_of_lines_of_context, tb_offset)\u001b[0m\n\u001b[1;32m   1080\u001b[0m \u001b[0;34m\u001b[0m\u001b[0m\n\u001b[1;32m   1081\u001b[0m \u001b[0;34m\u001b[0m\u001b[0m\n\u001b[0;32m-> 1082\u001b[0;31m         \u001b[0mlast_unique\u001b[0m\u001b[0;34m,\u001b[0m \u001b[0mrecursion_repeat\u001b[0m \u001b[0;34m=\u001b[0m \u001b[0mfind_recursion\u001b[0m\u001b[0;34m(\u001b[0m\u001b[0morig_etype\u001b[0m\u001b[0;34m,\u001b[0m \u001b[0mevalue\u001b[0m\u001b[0;34m,\u001b[0m \u001b[0mrecords\u001b[0m\u001b[0;34m)\u001b[0m\u001b[0;34m\u001b[0m\u001b[0;34m\u001b[0m\u001b[0m\n\u001b[0m\u001b[1;32m   1083\u001b[0m \u001b[0;34m\u001b[0m\u001b[0m\n\u001b[1;32m   1084\u001b[0m         \u001b[0mframes\u001b[0m \u001b[0;34m=\u001b[0m \u001b[0mself\u001b[0m\u001b[0;34m.\u001b[0m\u001b[0mformat_records\u001b[0m\u001b[0;34m(\u001b[0m\u001b[0mrecords\u001b[0m\u001b[0;34m,\u001b[0m \u001b[0mlast_unique\u001b[0m\u001b[0;34m,\u001b[0m \u001b[0mrecursion_repeat\u001b[0m\u001b[0;34m)\u001b[0m\u001b[0;34m\u001b[0m\u001b[0;34m\u001b[0m\u001b[0m\n",
      "\u001b[0;32m/Library/Frameworks/Python.framework/Versions/3.10/lib/python3.10/site-packages/IPython/core/ultratb.py\u001b[0m in \u001b[0;36mfind_recursion\u001b[0;34m(etype, value, records)\u001b[0m\n\u001b[1;32m    380\u001b[0m     \u001b[0;31m# first frame (from in to out) that looks different.\u001b[0m\u001b[0;34m\u001b[0m\u001b[0;34m\u001b[0m\u001b[0m\n\u001b[1;32m    381\u001b[0m     \u001b[0;32mif\u001b[0m \u001b[0;32mnot\u001b[0m \u001b[0mis_recursion_error\u001b[0m\u001b[0;34m(\u001b[0m\u001b[0metype\u001b[0m\u001b[0;34m,\u001b[0m \u001b[0mvalue\u001b[0m\u001b[0;34m,\u001b[0m \u001b[0mrecords\u001b[0m\u001b[0;34m)\u001b[0m\u001b[0;34m:\u001b[0m\u001b[0;34m\u001b[0m\u001b[0;34m\u001b[0m\u001b[0m\n\u001b[0;32m--> 382\u001b[0;31m         \u001b[0;32mreturn\u001b[0m \u001b[0mlen\u001b[0m\u001b[0;34m(\u001b[0m\u001b[0mrecords\u001b[0m\u001b[0;34m)\u001b[0m\u001b[0;34m,\u001b[0m \u001b[0;36m0\u001b[0m\u001b[0;34m\u001b[0m\u001b[0;34m\u001b[0m\u001b[0m\n\u001b[0m\u001b[1;32m    383\u001b[0m \u001b[0;34m\u001b[0m\u001b[0m\n\u001b[1;32m    384\u001b[0m     \u001b[0;31m# Select filename, lineno, func_name to track frames with\u001b[0m\u001b[0;34m\u001b[0m\u001b[0;34m\u001b[0m\u001b[0m\n",
      "\u001b[0;31mTypeError\u001b[0m: object of type 'NoneType' has no len()"
     ]
    }
   ],
   "source": [
    "# res_arr = []\n",
    "# res_arr\n",
    "\n",
    "# while True:\n",
    "#     res_arr = []    \n",
    "#     for pairs in known_pairs:           \n",
    "#         try:\n",
    "#             tokenA = Token(pairs[0])\n",
    "#             tokenB = Token(pairs[1])\n",
    "#             binance_symbol = str(tokenA) + str(tokenB)    \n",
    "#             quantity = round(trade_size / binance_price(binance_symbol, 1)[0])\n",
    "#             res = {}\n",
    "\n",
    "#             #print(\"Quantity = {}\".format(quantity))\n",
    "#             #print()\n",
    "\n",
    "#             binance_bid, binance_ask = binance_price(binance_symbol, quantity)\n",
    "#             uni_price_bid = uniswap.get_price_input(tokenA.address,  tokenB.address,  quantity*10**tokenA.decimal) / (quantity*10**tokenB.decimal)\n",
    "#             uni_price_ask = uniswap.get_price_output(tokenB.address, tokenA.address,  quantity*10**tokenA.decimal) / (quantity*10**tokenB.decimal)\n",
    "\n",
    "#             assert(binance_ask >= binance_bid)\n",
    "#             assert(uni_price_ask >= uni_price_bid)\n",
    "\n",
    "#             # Case 1: buy tokenA from binance and convert tokenA to tokenB via uniqswap\n",
    "#             profit_1 = (uni_price_bid - binance_ask) * quantity\n",
    "\n",
    "#             #print(\"Case 1: buy {} from binance and convert {} to {} via uniqswap\".format(tokenA, tokenA, tokenB))\n",
    "#             #print(\"Binance buy for:  {:.3f}  | Uniswap sell for {:.3f}  | profit = {:.2f}\".format(binance_ask, uni_price_bid, profit_1))\n",
    "#             #print()\n",
    "\n",
    "#             # Case 2: convert tokenB to tokenA via uniswap and sell tokenA to binance\n",
    "#             profit_2 = (binance_bid - uni_price_ask) * quantity\n",
    "#             #print(\"Case 2: convert DAI to ETH via uniswap and sell ETH to binance\".format(tokenB, tokenA, tokenA))\n",
    "#             #print(\"Binance sell for: {:.3f}  | Uniswap buy for  {:.3f}  | profit = {:.2f}\".format(binance_bid, uni_price_ask, profit_2))\n",
    "\n",
    "#             res[\"tokenA\"] = str(tokenA)\n",
    "#             res[\"tokenB\"] = str(tokenB)\n",
    "#             res[\"binance_symbol\"] = binance_symbol\n",
    "#             res[\"quantity\"] = quantity\n",
    "#             res[\"trade_size\"] = trade_size\n",
    "#             res[\"binance_bid\"] = binance_bid\n",
    "#             res[\"binance_ask\"] = binance_ask\n",
    "#             res[\"uni_price_bid\"] = uni_price_bid\n",
    "#             res[\"uni_price_ask\"] = uni_price_ask\n",
    "#             res[\"profit_1\"] = profit_1\n",
    "#             res[\"profit_2\"] = profit_2 \n",
    "#             res[\"time\"] = datetime.now()                                    \n",
    "#             res_arr.append(res)                     \n",
    "#             #print(\"{}: {}\".format(res[\"time\"], binance_symbol))                                    \n",
    "#         except:\n",
    "#             pass\n",
    "        \n",
    "#     df_temp = pd.DataFrame(res_arr)\n",
    "#     output_path = \"result.csv\"\n",
    "#     df_temp.to_csv(output_path, mode='a', header=not os.path.exists(output_path))        \n",
    "#     time.sleep(30)        "
   ]
  },
  {
   "cell_type": "markdown",
   "id": "06d5f7df-2798-4cf1-b108-97ba968d711d",
   "metadata": {},
   "source": [
    "## 2. Execute the arbitrage\n",
    "\n"
   ]
  },
  {
   "cell_type": "markdown",
   "id": "8f2c64c7-2e31-4fa5-8fd1-b82747b8d6c4",
   "metadata": {},
   "source": [
    "## Trade Uniswap"
   ]
  },
  {
   "cell_type": "code",
   "execution_count": null,
   "id": "ccac8acf-ebac-48a6-9308-91b5486c1273",
   "metadata": {},
   "outputs": [],
   "source": [
    "#qty_req_to_buy = uniswap.get_price_input(eth, dai, quantity)\n",
    "uniswap.make_trade_output(dai, eth, quantity)"
   ]
  },
  {
   "cell_type": "markdown",
   "id": "3548a8ff-8f4c-4966-abbe-c5d9eb7a4339",
   "metadata": {},
   "source": [
    "## Transfer from Binance to MetaMask wallet"
   ]
  },
  {
   "cell_type": "code",
   "execution_count": null,
   "id": "7d1472d1-8b0b-44b7-b3a0-84d2f1d84044",
   "metadata": {},
   "outputs": [],
   "source": [
    "# Network = BSC or BUSD\n",
    "try:\n",
    "    result = client.withdraw(\n",
    "        coin='ETH',\n",
    "        address=address,\n",
    "        amount=0.50000000,\n",
    "        network=\"ETH\"\n",
    "    )\n",
    "except BinanceAPIException as e:\n",
    "    print(e)\n",
    "else:\n",
    "    print(\"Success\")"
   ]
  },
  {
   "cell_type": "markdown",
   "id": "71ef8a54-d423-4c9b-96f8-c5f22fdffd70",
   "metadata": {},
   "source": [
    "## Transfer from MetaMask wallet to Binacne"
   ]
  },
  {
   "cell_type": "code",
   "execution_count": null,
   "id": "ecdcf802-04b0-4727-bf5c-f31210cddc01",
   "metadata": {},
   "outputs": [],
   "source": [
    "binance_address = client.get_deposit_address(coin='BUSD')[\"address\"]\n",
    "binance_address = Web3.toChecksumAddress(binance_address.lower())\n",
    "binance_address"
   ]
  },
  {
   "cell_type": "code",
   "execution_count": null,
   "id": "57238a6d-f7b8-4a6b-9e61-61564bd37637",
   "metadata": {},
   "outputs": [],
   "source": [
    "quantity = 1827\n",
    "\n",
    "contract = w3.eth.contract(address=busd, abi=abi)\n",
    "decimals = contract.functions.decimals().call()\n",
    "txn_amount = int(quantity * 10 ** decimals)\n",
    "\n",
    "balance = contract.functions.balanceOf(address).call() * 10 ** -decimals \n",
    "print(\"Existing balance: {}\".format(balance))\n",
    "\n",
    "\n",
    "transaction = contract.functions.transfer(binance_address, txn_amount)\n",
    "\n",
    "# has to include 'from: adress'\n",
    "gas = transaction.estimateGas({'from': address})\n",
    "print(\"Gas: {}\".format(gas))\n",
    "\n",
    "transaction = transaction.buildTransaction({\n",
    "                   'chainId': 1,  # 1 for production chain\n",
    "                   'gas':700000, \n",
    "                   'nonce': w3.eth.getTransactionCount(address)})\n",
    "transaction"
   ]
  },
  {
   "cell_type": "code",
   "execution_count": null,
   "id": "b41c2e15-e031-4c3e-ac19-ec2a5fdeac75",
   "metadata": {},
   "outputs": [],
   "source": [
    "signed_txn = w3.eth.account.signTransaction(transaction, '0x'+private_key)\n",
    "txn_hash = w3.eth.sendRawTransaction(signed_txn.rawTransaction)\n",
    "print(\"https://etherscan.io/tx/{}\".format(str(txn_hash.hex())))"
   ]
  },
  {
   "cell_type": "markdown",
   "id": "030d6c5f-b4e2-4c0c-a6e7-e7799e267388",
   "metadata": {},
   "source": [
    "## Check Binance withdraw history"
   ]
  },
  {
   "cell_type": "code",
   "execution_count": null,
   "id": "145495b5-d882-4220-8d0c-561b9e2f3312",
   "metadata": {},
   "outputs": [],
   "source": [
    "withdraws = client.get_withdraw_history(coin='DAI')\n",
    "withdraws"
   ]
  }
 ],
 "metadata": {
  "kernelspec": {
   "display_name": "Python 3 (ipykernel)",
   "language": "python",
   "name": "python3"
  },
  "language_info": {
   "codemirror_mode": {
    "name": "ipython",
    "version": 3
   },
   "file_extension": ".py",
   "mimetype": "text/x-python",
   "name": "python",
   "nbconvert_exporter": "python",
   "pygments_lexer": "ipython3",
   "version": "3.10.0"
  }
 },
 "nbformat": 4,
 "nbformat_minor": 5
}
