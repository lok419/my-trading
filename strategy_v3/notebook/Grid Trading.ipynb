{
 "cells": [
  {
   "cell_type": "code",
   "execution_count": null,
   "metadata": {},
   "outputs": [],
   "source": [
    "%load_ext autoreload\n",
    "%autoreload 2\n",
    "\n",
    "import numpy as np\n",
    "from utils.data_helper import *\n",
    "from utils.data import *\n",
    "from utils.stats import *\n",
    "from utils.performance import *\n",
    "from plotly.subplots import make_subplots\n",
    "from account import Binance\n",
    "import pandas as pd\n",
    "import warnings\n",
    "from strategy_v3.Strategy import *\n",
    "from strategy_v3.Executor import ExecutorBinance, ExecutorBacktest\n",
    "from strategy_v3.ExecuteSetup import *\n",
    "from strategy_v3.ExecuteSetup.StrategyFactory import StrategyFactory\n",
    "from strategy_v3.DataLoader import DataLoaderBinance\n",
    "from tqdm import tqdm\n",
    "from zoneinfo import ZoneInfo\n",
    "from datetime import datetime, timedelta\n",
    "\n",
    "\n",
    "pd.set_option('display.max_rows', 100)\n",
    "pd.set_option('display.max_columns', 30)\n",
    "warnings.filterwarnings('ignore')"
   ]
  },
  {
   "cell_type": "code",
   "execution_count": null,
   "metadata": {},
   "outputs": [],
   "source": [
    "symbol = 'BTCFDUSD'\n",
    "binance = Binance()\n",
    "df = binance.get_historical_instrument_price(symbol, interval='1m', start_str='1 Day ago')\n",
    "plot_price_ohcl(df, symbol)"
   ]
  },
  {
   "cell_type": "markdown",
   "metadata": {},
   "source": [
    "# Grid Trading Logic (Arithmetic)"
   ]
  },
  {
   "cell_type": "markdown",
   "metadata": {},
   "source": [
    "### For each time interval, iterate thru below steps\n",
    "\n",
    "1. check if status is idle (i.e. no outstanding grid orders) and hurst exponent to see if this indicates mean-reverting trends\n",
    "\n",
    "2. If both yes for above, place grid orders via LIMIT ORDER\n",
    "\n",
    "- num orders   = grid_size * 2\n",
    "- grid spacing = historical volatility * vol scale\n",
    "- stop loss    = historical volatility * vol scale * vol_stoploss_scale\n",
    "\n",
    "3. fill the orders using high and low (backtest mode only)\n",
    "\n",
    "4. check if status neutral (i.e. have filled grid orders but positions are neutral). If yes, cancel all orders\n",
    "\n",
    "5. check if current price triggers stop-loss. If yes, cancel all orders and close out position via MARKET ORDER.\n",
    "\n",
    "## Strategy logging\n",
    "\n",
    "2024-02-27: Attempt to use rolling average metrics based on looking back 2 * half life interval. Replace vol with half-life vol and center price from spot to half-life SMA close\n",
    "\n",
    "-  Tested BTCFDUSD on 15days. original cum returns is 6% whereas new change is 3% only\n",
    "\n",
    "2024-02-28: Attempt to use momentum order when hurst exponent is >= 0.6 and use extra momentum filters (Spot > T-5 > T-10) to put the momentum grid orders.\n",
    "\n",
    "-  Tested BTCFDUSD. this added more return on original strategy, because this is mutually exclusive with mean reverting orders, this enhance return during non-mean-reverting periods \n",
    "\n",
    "2024-02-29: Changed the momentum filters to be Spot > T-5 High and T-5 Low > T-10 High to be more conservative\n",
    "\n",
    "- Exectue refresh time updated from 30s to 1m to avoid small price volatolity to trigger the stoploss\n",
    "\n",
    "- For backtesting, shall we consider the interval high/low if this trigger stop-loss rather than just check close price???\n",
    "\n",
    "- [BTCFDUSD] Realized returns are now 2% after fixing the fill price\n",
    "\n",
    "- <b>Follow up: need to use STOP_LOSS_LIMIT for momentum orders</b>, because now all limit buy orders above market price are filled immediately, but we want to avoid that.\n",
    "\n",
    "2024-03-01: Updated momentum orders to use STOP-LOSS-LIMIT to avoid LIMIT ORDER executed immediately\n",
    "\n",
    "- Able to split the PnL from momentum orders and mean reverting orders.\n",
    "\n",
    "- [BTCFDUSD] Realized returns are now 4%\n",
    "\n",
    "- [SOLFDUSD] started to trade SOLFDUSD (need to change the quantity decision = 2)\n",
    "\n",
    "- <b>we need to build a server in order to systematically runs for multiple strategies, meanwhile we can also interrupt the model parameters during runtime</b>\n",
    "\n",
    "2024-03-02: Attempt to build telegram bot \n",
    "\n",
    "- trying to explore reduce grid spacing and lookback periods. In backtest, reducing lookback periods generally has better performance\n",
    "\n",
    "2024-03-03: Still building telegram bot to control the model parameters on the fly by mobile phone\n",
    "\n",
    "- the backtest filling logic is to aggressive. In reality, the orders aren't filled like what we assumed in backtest. we need to update the backtest filling logic \n",
    "\n",
    "2024-03-04: replace volatility from close std to average true return. This is because ATR has considered all interval high and low whereas close std is just a metrics on close price\n",
    "\n",
    "- add interrupt function to strategy: RUN, PAUSE, TERMINATE, STOP\n",
    "\n",
    "## TODO\n",
    "\n",
    "- enhance backtest fill logic, high and low price are likely unfill-able in reality, we need to account for that\n",
    "\n",
    "- enhance the center price logic for mean-revert order, need to use the mean price in previous periods instead of current price as center price\n",
    "\n",
    "- enhance telegram to update a set of predefined model parameters (like vol_grid_scale to be 0.1,0.2,0.3....)\n",
    "\n",
    "- enhance hurst exponent ratio to be shorter time frame (now is 100)"
   ]
  },
  {
   "cell_type": "markdown",
   "metadata": {},
   "source": [
    "## BackTest Strategy"
   ]
  },
  {
   "cell_type": "code",
   "execution_count": null,
   "metadata": {},
   "outputs": [],
   "source": [
    "def backtest_strategy(strategy, start_str:str):\n",
    "    strategy.load_data(start_str)    \n",
    "    df = strategy.df.copy()\n",
    "    with tqdm(total = len(df)) as pbar:\n",
    "        for _, data in df.iterrows():\n",
    "            strategy.execute(data)\n",
    "            pbar.update(1)\n",
    "\n",
    "    strategy.cancel_all_orders()\n",
    "    strategy.close_out_positions('close', data['Close'], data['Date'])\n",
    "    return strategy"
   ]
  },
  {
   "cell_type": "code",
   "execution_count": null,
   "metadata": {},
   "outputs": [],
   "source": [
    "strategy1 = StrategyFactory().get('v1')\n",
    "strategy1.set_data_loder(DataLoaderBinance())\n",
    "strategy1.set_executor(ExecutorBacktest())\n",
    "strategy1.logger.setLevel('CRITICAL')      \n",
    "strategy1.status = STATUS.RUN"
   ]
  },
  {
   "cell_type": "code",
   "execution_count": null,
   "metadata": {},
   "outputs": [],
   "source": [
    "strategy1 = backtest_strategy(strategy1, '5 Days Ago')"
   ]
  },
  {
   "cell_type": "code",
   "execution_count": null,
   "metadata": {},
   "outputs": [],
   "source": [
    "strategy1.summary(True)"
   ]
  },
  {
   "cell_type": "markdown",
   "metadata": {},
   "source": [
    "# Execute Strategy\n",
    "\n",
    "Strategy ID - all orders are marked by strategy id\n",
    "\n",
    "Therefore, all orders / pnl logic are based on same set of orders which isolates from other strategy or previous strategy\n",
    "\n",
    "If we want to continue previous strategy (either manual exit or error exit), we need to put the same strategy id. so the pnl could be accumlated from last time.\n",
    "\n",
    "<b>Notes: execute.py runs the actual strategy, below code is just to keep track the strategy status and performance</b>\n",
    "\n",
    "### Strategy logging:\n",
    "\n",
    "-   903492 - traded on BTCUSDT for 1.5days. gross pnl is good, but realized that there is 0.1% transaction cost which overwhelme all the PNL\n",
    "\n",
    "-   v1 - traded on BTCFDUSD - no transaction cost. \n",
    "    -  Corrected the definition of price volatility from close.diff.std to close.std and change the vol_grid_scale from 0.4 to 0.2.\n",
    "\n",
    "    -  Discover that the PnL seems to increase with smaller grid spacing\n",
    "    \n",
    "    -  Start using momentum orders\n",
    "\n",
    "-   SOLFDUSDv1 - traded on SOLFDUSD - no transaction cost."
   ]
  },
  {
   "cell_type": "code",
   "execution_count": null,
   "metadata": {},
   "outputs": [],
   "source": [
    "setup = ExecuteSetup.read_all()\n",
    "strategy_dict = dict()"
   ]
  },
  {
   "cell_type": "code",
   "execution_count": null,
   "metadata": {},
   "outputs": [],
   "source": [
    "for k, v in setup.items():    \n",
    "    strategy = StrategyFactory().get(k)\n",
    "    strategy.set_data_loder(DataLoaderBinance())\n",
    "    strategy.set_executor(ExecutorBinance())\n",
    "    strategy.set_strategy_id(k, reload=True)    \n",
    "    if str(type(strategy)) == str(GridArithmeticStrategy):\n",
    "        strategy_dict[k] = strategy                                  "
   ]
  },
  {
   "cell_type": "code",
   "execution_count": null,
   "metadata": {},
   "outputs": [],
   "source": [
    "# pnl cutoff as 00:00 HKT\n",
    "offset = 0\n",
    "date = datetime.today()\n",
    "date = datetime(year=date.year, month=date.month, day=date.day, tzinfo=ZoneInfo(\"HongKong\")) - timedelta(days=offset)\n",
    "date_str = date.strftime('%Y-%m-%d %H:%M:%S%z')\n",
    "date_str_end = (date + timedelta(days=1)).strftime('%Y-%m-%d %H:%M:%S%z')"
   ]
  },
  {
   "cell_type": "code",
   "execution_count": null,
   "metadata": {},
   "outputs": [],
   "source": [
    "for k, v in strategy_dict.items():\n",
    "    strategy = v\n",
    "    strategy.load_data(date_str, lookback_end=date_str_end)    \n",
    "    strategy.summary(True, lastn=20)"
   ]
  },
  {
   "cell_type": "code",
   "execution_count": null,
   "metadata": {},
   "outputs": [],
   "source": []
  }
 ],
 "metadata": {
  "kernelspec": {
   "display_name": "Python 3",
   "language": "python",
   "name": "python3"
  },
  "language_info": {
   "codemirror_mode": {
    "name": "ipython",
    "version": 3
   },
   "file_extension": ".py",
   "mimetype": "text/x-python",
   "name": "python",
   "nbconvert_exporter": "python",
   "pygments_lexer": "ipython3",
   "version": "3.10.11"
  }
 },
 "nbformat": 4,
 "nbformat_minor": 2
}
