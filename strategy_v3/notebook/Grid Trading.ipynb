{
 "cells": [
  {
   "cell_type": "code",
   "execution_count": 44,
   "metadata": {},
   "outputs": [
    {
     "name": "stdout",
     "output_type": "stream",
     "text": [
      "The autoreload extension is already loaded. To reload it, use:\n",
      "  %reload_ext autoreload\n"
     ]
    }
   ],
   "source": [
    "%load_ext autoreload\n",
    "%autoreload 2\n",
    "\n",
    "import numpy as np\n",
    "from utils.data_helper import *\n",
    "from utils.data import *\n",
    "from utils.stats import *\n",
    "from utils.performance import *\n",
    "from plotly.subplots import make_subplots\n",
    "import matplotlib.pyplot as plt\n",
    "from account import Binance\n",
    "import pandas as pd\n",
    "import numpy as np\n",
    "import warnings\n",
    "from strategy_v3.Strategy import *\n",
    "from strategy_v3.Executor import ExecutorBinance, ExecutorBacktest\n",
    "from strategy_v3.ExecuteSetup import *\n",
    "from strategy_v3.ExecuteSetup.StrategyFactory import StrategyFactory\n",
    "from strategy_v3.DataLoader import DataLoaderBinance\n",
    "from tqdm import tqdm\n",
    "from zoneinfo import ZoneInfo\n",
    "from datetime import datetime, timedelta\n",
    "import seaborn as sns\n",
    "\n",
    "\n",
    "pd.set_option('display.max_rows', 100)\n",
    "pd.set_option('display.max_columns', 30)\n",
    "pd.options.display.float_format = \"{:,.4f}\".format\n",
    "warnings.filterwarnings('ignore')"
   ]
  },
  {
   "cell_type": "markdown",
   "metadata": {},
   "source": [
    "# Grid Trading Logic (Arithmetic)"
   ]
  },
  {
   "cell_type": "markdown",
   "metadata": {},
   "source": [
    "### For each time interval, iterate thru below steps\n",
    "\n",
    "1. check if status is idle (i.e. no outstanding grid orders) and hurst exponent to see if this indicates mean-reverting trends\n",
    "\n",
    "2. If both yes for above, place grid orders via LIMIT ORDER\n",
    "\n",
    "- num orders   = grid_size * 2\n",
    "- grid spacing = historical volatility * vol scale\n",
    "- stop loss    = historical volatility * vol scale * vol_stoploss_scale\n",
    "\n",
    "3. fill the orders using high and low (backtest mode only)\n",
    "\n",
    "4. check if status neutral (i.e. have filled grid orders but positions are neutral). If yes, cancel all orders\n",
    "\n",
    "5. check if current price triggers stop-loss. If yes, cancel all orders and close out position via MARKET ORDER.\n",
    "\n",
    "## Strategy logging\n",
    "\n",
    "2024-02-27: Attempt to use rolling average metrics based on looking back 2 * half life interval. Replace vol with half-life vol and center price from spot to half-life SMA close\n",
    "\n",
    "-  Tested BTCFDUSD on 15days. original cum returns is 6% whereas new change is 3% only\n",
    "\n",
    "2024-02-28: Attempt to use momentum order when hurst exponent is >= 0.6 and use extra momentum filters (Spot > T-5 > T-10) to put the momentum grid orders.\n",
    "\n",
    "-  Tested BTCFDUSD. this added more return on original strategy, because this is mutually exclusive with mean reverting orders, this enhance return during non-mean-reverting periods \n",
    "\n",
    "2024-02-29: Changed the momentum filters to be Spot > T-5 High and T-5 Low > T-10 High to be more conservative\n",
    "\n",
    "- Exectue refresh time updated from 30s to 1m to avoid small price volatolity to trigger the stoploss\n",
    "\n",
    "- For backtesting, shall we consider the interval high/low if this trigger stop-loss rather than just check close price???\n",
    "\n",
    "- [BTCFDUSD] Realized returns are now 2% after fixing the fill price\n",
    "\n",
    "- <b>Follow up: need to use STOP_LOSS_LIMIT for momentum orders</b>, because now all limit buy orders above market price are filled immediately, but we want to avoid that.\n",
    "\n",
    "2024-03-01: Updated momentum orders to use STOP-LOSS-LIMIT to avoid LIMIT ORDER executed immediately\n",
    "\n",
    "- Able to split the PnL from momentum orders and mean reverting orders.\n",
    "\n",
    "- [BTCFDUSD] Realized returns are now 4%\n",
    "\n",
    "- [SOLFDUSD] started to trade SOLFDUSD (need to change the quantity decision = 2)\n",
    "\n",
    "- <b>we need to build a server in order to systematically runs for multiple strategies, meanwhile we can also interrupt the model parameters during runtime</b>\n",
    "\n",
    "2024-03-02: Attempt to build telegram bot \n",
    "\n",
    "- trying to explore reduce grid spacing and lookback periods. In backtest, reducing lookback periods generally has better performance\n",
    "\n",
    "2024-03-03: Still building telegram bot to control the model parameters on the fly by mobile phone\n",
    "\n",
    "- the backtest filling logic is to aggressive. In reality, the orders aren't filled like what we assumed in backtest. we need to update the backtest filling logic \n",
    "\n",
    "2024-03-04: replace volatility from close std to average true return. This is because ATR has considered all interval high and low whereas close std is just a metrics on close price\n",
    "\n",
    "- add interrupt function to strategy: RUN, PAUSE, TERMINATE, STOP\n",
    "\n",
    "## TODO\n",
    "\n",
    "- enhance backtest fill logic, high and low price are likely unfill-able in reality, we need to account for that\n",
    "\n",
    "- enhance the center price logic for mean-revert order, need to use the mean price in previous periods instead of current price as center price\n",
    "\n",
    "- enhance telegram to update a set of predefined model parameters (like vol_grid_scale to be 0.1,0.2,0.3....)\n",
    "\n",
    "- enhance hurst exponent ratio to be shorter time frame (now is 100)"
   ]
  },
  {
   "cell_type": "markdown",
   "metadata": {},
   "source": [
    "## BackTest Strategy"
   ]
  },
  {
   "cell_type": "code",
   "execution_count": 2,
   "metadata": {},
   "outputs": [],
   "source": [
    "def backtest_strategy(strategy, start_str:str):\n",
    "    strategy.load_data(start_str)    \n",
    "    df = strategy.df.copy()\n",
    "    with tqdm(total = len(df)) as pbar:\n",
    "        for _, data in df.iterrows():\n",
    "            strategy.execute(data)\n",
    "            pbar.update(1)\n",
    "\n",
    "    strategy.cancel_all_orders()\n",
    "    strategy.close_out_positions('close', data['Close'], data['Date'])\n",
    "    return strategy"
   ]
  },
  {
   "cell_type": "code",
   "execution_count": 3,
   "metadata": {},
   "outputs": [],
   "source": [
    "strategy1 = StrategyFactory().get('v1')\n",
    "strategy1.set_data_loder(DataLoaderBinance())\n",
    "strategy1.set_executor(ExecutorBacktest())\n",
    "strategy1.logger.setLevel('CRITICAL')      \n",
    "strategy1.status = STATUS.RUN"
   ]
  },
  {
   "cell_type": "code",
   "execution_count": null,
   "metadata": {},
   "outputs": [],
   "source": [
    "strategy1 = backtest_strategy(strategy1, '5 Days Ago')"
   ]
  },
  {
   "cell_type": "code",
   "execution_count": null,
   "metadata": {},
   "outputs": [],
   "source": [
    "strategy1.summary(True)"
   ]
  },
  {
   "cell_type": "markdown",
   "metadata": {},
   "source": [
    "# Execute Strategy\n",
    "\n",
    "Strategy ID - all orders are marked by strategy id\n",
    "\n",
    "Therefore, all orders / pnl logic are based on same set of orders which isolates from other strategy or previous strategy\n",
    "\n",
    "If we want to continue previous strategy (either manual exit or error exit), we need to put the same strategy id. so the pnl could be accumlated from last time.\n",
    "\n",
    "<b>Notes: execute.py runs the actual strategy, below code is just to keep track the strategy status and performance</b>\n",
    "\n",
    "### Strategy logging:\n",
    "\n",
    "-   903492 - traded on BTCUSDT for 1.5days. gross pnl is good, but realized that there is 0.1% transaction cost which overwhelme all the PNL\n",
    "\n",
    "-   v1 - traded on BTCFDUSD - no transaction cost. \n",
    "    -  Corrected the definition of price volatility from close.diff.std to close.std and change the vol_grid_scale from 0.4 to 0.2.\n",
    "\n",
    "    -  Discover that the PnL seems to increase with smaller grid spacing\n",
    "    \n",
    "    -  Start using momentum orders\n",
    "\n",
    "-   SOLFDUSDv1 - traded on SOLFDUSD - no transaction cost."
   ]
  },
  {
   "cell_type": "code",
   "execution_count": 63,
   "metadata": {},
   "outputs": [],
   "source": [
    "setup = ExecuteSetup.read_all()\n",
    "strategy_dict = dict()"
   ]
  },
  {
   "cell_type": "code",
   "execution_count": 64,
   "metadata": {},
   "outputs": [],
   "source": [
    "for k, v in setup.items():    \n",
    "    strategy = StrategyFactory().get(k)\n",
    "    strategy.set_data_loder(DataLoaderBinance())\n",
    "    strategy.set_executor(ExecutorBinance())\n",
    "    strategy.set_strategy_id(k, reload=True)    \n",
    "    if str(type(strategy)) == str(GridArithmeticStrategy):\n",
    "        strategy_dict[k] = strategy                                  "
   ]
  },
  {
   "cell_type": "code",
   "execution_count": 65,
   "metadata": {},
   "outputs": [],
   "source": [
    "# for tag in ['v1', 'SOLv1', 'ETHv1']:\n",
    "#     strategy = strategy_dict[tag]\n",
    "#     start_date = strategy.start_date\n",
    "#     start_date = datetime(year=start_date.year, month=start_date.month, day=start_date.day, tzinfo=ZoneInfo(\"HongKong\"))    \n",
    "#     end_date = datetime.today() - timedelta(1)\n",
    "#     end_date = datetime(year=end_date.year, month=end_date.month, day=end_date.day, tzinfo=ZoneInfo(\"HongKong\"))\n",
    "#     strategy.save_pnl_between(start_date, end_date, overwrite=False)"
   ]
  },
  {
   "cell_type": "code",
   "execution_count": 70,
   "metadata": {},
   "outputs": [],
   "source": [
    "# pnl cutoff as 00:00 HKT\n",
    "offset = 0\n",
    "date = datetime.today()\n",
    "date = datetime(year=date.year, month=date.month, day=date.day, tzinfo=ZoneInfo(\"HongKong\")) - timedelta(days=offset)\n",
    "date_str = date.strftime('%Y-%m-%d %H:%M:%S%z')\n",
    "date_str_end = (date + timedelta(days=1)).strftime('%Y-%m-%d %H:%M:%S%z')"
   ]
  },
  {
   "cell_type": "code",
   "execution_count": 71,
   "metadata": {},
   "outputs": [
    {
     "data": {
      "text/html": [
       "<div>\n",
       "<style scoped>\n",
       "    .dataframe tbody tr th:only-of-type {\n",
       "        vertical-align: middle;\n",
       "    }\n",
       "\n",
       "    .dataframe tbody tr th {\n",
       "        vertical-align: top;\n",
       "    }\n",
       "\n",
       "    .dataframe thead th {\n",
       "        text-align: right;\n",
       "    }\n",
       "</style>\n",
       "<table border=\"1\" class=\"dataframe\">\n",
       "  <thead>\n",
       "    <tr style=\"text-align: right;\">\n",
       "      <th></th>\n",
       "      <th>Measure</th>\n",
       "      <th>grid_v1</th>\n",
       "    </tr>\n",
       "  </thead>\n",
       "  <tbody>\n",
       "    <tr>\n",
       "      <th>0</th>\n",
       "      <td>Pnl</td>\n",
       "      <td>-0.7449</td>\n",
       "    </tr>\n",
       "    <tr>\n",
       "      <th>1</th>\n",
       "      <td>Trading Fee</td>\n",
       "      <td>0.0000</td>\n",
       "    </tr>\n",
       "    <tr>\n",
       "      <th>2</th>\n",
       "      <td>Cumulative Return</td>\n",
       "      <td>0.9998</td>\n",
       "    </tr>\n",
       "    <tr>\n",
       "      <th>3</th>\n",
       "      <td>Annualized Return</td>\n",
       "      <td>-0.6436</td>\n",
       "    </tr>\n",
       "    <tr>\n",
       "      <th>4</th>\n",
       "      <td>Annualized Volatility</td>\n",
       "      <td>0.0244</td>\n",
       "    </tr>\n",
       "    <tr>\n",
       "      <th>5</th>\n",
       "      <td>Annualized Sharpe Ratio</td>\n",
       "      <td>-28.4553</td>\n",
       "    </tr>\n",
       "    <tr>\n",
       "      <th>6</th>\n",
       "      <td>Maximum Drawdown</td>\n",
       "      <td>-0.0004</td>\n",
       "    </tr>\n",
       "  </tbody>\n",
       "</table>\n",
       "</div>"
      ],
      "text/plain": [
       "                   Measure  grid_v1\n",
       "0                      Pnl  -0.7449\n",
       "1              Trading Fee   0.0000\n",
       "2        Cumulative Return   0.9998\n",
       "3        Annualized Return  -0.6436\n",
       "4    Annualized Volatility   0.0244\n",
       "5  Annualized Sharpe Ratio -28.4553\n",
       "6         Maximum Drawdown  -0.0004"
      ]
     },
     "metadata": {},
     "output_type": "display_data"
    },
    {
     "data": {
      "application/vnd.plotly.v1+json": {
       "config": {
        "plotlyServerURL": "https://plot.ly"
       },
       "data": [
        {
         "close": [
          70540.71,
          70615.99,
          70580,
          70651.83,
          70428.25,
          70467.23,
          70334.13,
          70382.53,
          70342.11,
          70263.22,
          70250.88,
          70176.77,
          70298.07,
          70289.15,
          70346.66,
          70232.48,
          70096.82,
          70192.1,
          70265.84,
          70242.34,
          70210.92,
          70180.31,
          70185.9,
          70202.18,
          70176.21,
          70260.89,
          70158.19,
          70124.18,
          70133.31,
          70107.82
         ],
         "high": [
          70594.66,
          70636.75,
          70657.74,
          70711.16,
          70675,
          70586.48,
          70515.58,
          70391,
          70489.18,
          70350.08,
          70329.02,
          70267.11,
          70355,
          70350,
          70376.65,
          70370.23,
          70259.9,
          70250,
          70285.25,
          70294.53,
          70254.5,
          70227.93,
          70212.87,
          70251.81,
          70261.71,
          70269.55,
          70284.62,
          70166.43,
          70176.77,
          70146.18
         ],
         "legendgroup": "OHCL",
         "low": [
          70389.32,
          70448.9,
          70570,
          70525.01,
          70375,
          70410.87,
          70261.32,
          70280,
          70330.03,
          70201.66,
          70232.06,
          70165.3,
          70175.08,
          70259.14,
          70284.02,
          70222.07,
          70039.85,
          70089.11,
          70182.77,
          70216.75,
          70185.64,
          70092,
          70119,
          70178,
          70143.92,
          70134.23,
          70141.93,
          70106.96,
          70080,
          70102.28
         ],
         "name": "OHLC",
         "open": [
          70394.49,
          70536.1,
          70614.94,
          70577.71,
          70654.38,
          70428.61,
          70466.36,
          70334.18,
          70382.11,
          70339.25,
          70261.8,
          70250.88,
          70175.72,
          70301.03,
          70288.28,
          70347.04,
          70232.61,
          70096.38,
          70190.61,
          70269.72,
          70244.11,
          70211.12,
          70180.3,
          70184.78,
          70202.68,
          70177.9,
          70258.62,
          70157.93,
          70122.82,
          70132.21
         ],
         "type": "candlestick",
         "x": [
          "2024-05-28T00:00:00+08:00",
          "2024-05-28T00:05:00+08:00",
          "2024-05-28T00:10:00+08:00",
          "2024-05-28T00:15:00+08:00",
          "2024-05-28T00:20:00+08:00",
          "2024-05-28T00:25:00+08:00",
          "2024-05-28T00:30:00+08:00",
          "2024-05-28T00:35:00+08:00",
          "2024-05-28T00:40:00+08:00",
          "2024-05-28T00:45:00+08:00",
          "2024-05-28T00:50:00+08:00",
          "2024-05-28T00:55:00+08:00",
          "2024-05-28T01:00:00+08:00",
          "2024-05-28T01:05:00+08:00",
          "2024-05-28T01:10:00+08:00",
          "2024-05-28T01:15:00+08:00",
          "2024-05-28T01:20:00+08:00",
          "2024-05-28T01:25:00+08:00",
          "2024-05-28T01:30:00+08:00",
          "2024-05-28T01:35:00+08:00",
          "2024-05-28T01:40:00+08:00",
          "2024-05-28T01:45:00+08:00",
          "2024-05-28T01:50:00+08:00",
          "2024-05-28T01:55:00+08:00",
          "2024-05-28T02:00:00+08:00",
          "2024-05-28T02:05:00+08:00",
          "2024-05-28T02:10:00+08:00",
          "2024-05-28T02:15:00+08:00",
          "2024-05-28T02:20:00+08:00",
          "2024-05-28T02:25:00+08:00"
         ],
         "xaxis": "x",
         "yaxis": "y"
        },
        {
         "legendgroup": "SMA 20d",
         "marker": {
          "color": "rgb(31, 119, 180)"
         },
         "name": "SMA 20d",
         "type": "scatter",
         "x": [
          "2024-05-28T00:00:00+08:00",
          "2024-05-28T00:05:00+08:00",
          "2024-05-28T00:10:00+08:00",
          "2024-05-28T00:15:00+08:00",
          "2024-05-28T00:20:00+08:00",
          "2024-05-28T00:25:00+08:00",
          "2024-05-28T00:30:00+08:00",
          "2024-05-28T00:35:00+08:00",
          "2024-05-28T00:40:00+08:00",
          "2024-05-28T00:45:00+08:00",
          "2024-05-28T00:50:00+08:00",
          "2024-05-28T00:55:00+08:00",
          "2024-05-28T01:00:00+08:00",
          "2024-05-28T01:05:00+08:00",
          "2024-05-28T01:10:00+08:00",
          "2024-05-28T01:15:00+08:00",
          "2024-05-28T01:20:00+08:00",
          "2024-05-28T01:25:00+08:00",
          "2024-05-28T01:30:00+08:00",
          "2024-05-28T01:35:00+08:00",
          "2024-05-28T01:40:00+08:00",
          "2024-05-28T01:45:00+08:00",
          "2024-05-28T01:50:00+08:00",
          "2024-05-28T01:55:00+08:00",
          "2024-05-28T02:00:00+08:00",
          "2024-05-28T02:05:00+08:00",
          "2024-05-28T02:10:00+08:00",
          "2024-05-28T02:15:00+08:00",
          "2024-05-28T02:20:00+08:00",
          "2024-05-28T02:25:00+08:00"
         ],
         "xaxis": "x",
         "y": [
          null,
          null,
          null,
          null,
          null,
          null,
          null,
          null,
          null,
          null,
          null,
          null,
          null,
          null,
          null,
          null,
          null,
          null,
          null,
          null,
          70349.8555,
          70333.36600000001,
          70311.58200000001,
          70291.87700000001,
          70269.3945,
          70256.79250000001,
          70246.4755,
          70237.6785,
          70224.76100000001,
          70214.321
         ],
         "yaxis": "y"
        },
        {
         "marker": {
          "color": "rgb(44, 160, 44)"
         },
         "showlegend": false,
         "type": "bar",
         "x": [
          "2024-05-28T00:00:00+08:00",
          "2024-05-28T00:05:00+08:00",
          "2024-05-28T00:15:00+08:00",
          "2024-05-28T00:25:00+08:00",
          "2024-05-28T00:35:00+08:00",
          "2024-05-28T01:00:00+08:00",
          "2024-05-28T01:10:00+08:00",
          "2024-05-28T01:25:00+08:00",
          "2024-05-28T01:30:00+08:00",
          "2024-05-28T01:50:00+08:00",
          "2024-05-28T01:55:00+08:00",
          "2024-05-28T02:05:00+08:00",
          "2024-05-28T02:20:00+08:00"
         ],
         "xaxis": "x2",
         "y": [
          378.51601,
          324.38377,
          360.82498,
          213.40495,
          258.34791,
          221.13217,
          155.27177,
          189.78668,
          157.76204,
          122.80193,
          143.77673,
          181.83786,
          140.02597
         ],
         "yaxis": "y2"
        },
        {
         "marker": {
          "color": "rgb(214, 39, 40)"
         },
         "showlegend": false,
         "type": "bar",
         "x": [
          "2024-05-28T00:10:00+08:00",
          "2024-05-28T00:20:00+08:00",
          "2024-05-28T00:30:00+08:00",
          "2024-05-28T00:40:00+08:00",
          "2024-05-28T00:45:00+08:00",
          "2024-05-28T00:50:00+08:00",
          "2024-05-28T00:55:00+08:00",
          "2024-05-28T01:05:00+08:00",
          "2024-05-28T01:15:00+08:00",
          "2024-05-28T01:20:00+08:00",
          "2024-05-28T01:35:00+08:00",
          "2024-05-28T01:40:00+08:00",
          "2024-05-28T01:45:00+08:00",
          "2024-05-28T02:00:00+08:00",
          "2024-05-28T02:10:00+08:00",
          "2024-05-28T02:15:00+08:00",
          "2024-05-28T02:25:00+08:00"
         ],
         "xaxis": "x2",
         "y": [
          257.91766,
          329.41767,
          279.7171,
          204.46342,
          238.06198,
          197.36696,
          200.88282,
          180.41325,
          160.30635,
          278.83907,
          148.22894,
          130.76382,
          164.61129,
          190.27547,
          141.76696,
          141.01459,
          87.16499
         ],
         "yaxis": "y2"
        },
        {
         "marker": {
          "color": "green",
          "size": 15,
          "symbol": 5
         },
         "mode": "markers",
         "name": "Buy",
         "type": "scatter",
         "x": [
          "2024-05-28T00:19:43.352000+08:00",
          "2024-05-28T01:24:21.080000+08:00",
          "2024-05-28T01:23:13.312000+08:00",
          "2024-05-28T00:57:04.379000+08:00",
          "2024-05-28T00:47:51.128000+08:00"
         ],
         "xaxis": "x",
         "y": [
          70704.33,
          70042.51,
          70104.48,
          70166.46,
          70228.44
         ],
         "yaxis": "y"
        },
        {
         "marker": {
          "color": "red",
          "size": 15,
          "symbol": 6
         },
         "mode": "markers",
         "name": "Sell",
         "type": "scatter",
         "x": [
          "2024-05-28T01:02:58.800000+08:00"
         ],
         "xaxis": "x",
         "y": [
          70352.4
         ],
         "yaxis": "y"
        },
        {
         "marker": {
          "color": "green",
          "size": 15,
          "symbol": "x"
         },
         "mode": "markers",
         "name": "Buy to Close",
         "type": "scatter",
         "x": [],
         "xaxis": "x",
         "y": [],
         "yaxis": "y"
        },
        {
         "marker": {
          "color": "red",
          "size": 15,
          "symbol": "x"
         },
         "mode": "markers",
         "name": "Sell to Close",
         "type": "scatter",
         "x": [
          "2024-05-28T00:21:55.223000+08:00"
         ],
         "xaxis": "x",
         "y": [
          70436.62865008882
         ],
         "yaxis": "y"
        },
        {
         "name": "Cumulative Return (%)",
         "type": "scatter",
         "x": [
          "2024-05-28T00:00:00+08:00",
          "2024-05-28T00:05:00+08:00",
          "2024-05-28T00:10:00+08:00",
          "2024-05-28T00:15:00+08:00",
          "2024-05-28T00:20:00+08:00",
          "2024-05-28T00:25:00+08:00",
          "2024-05-28T00:30:00+08:00",
          "2024-05-28T00:35:00+08:00",
          "2024-05-28T00:40:00+08:00",
          "2024-05-28T00:45:00+08:00",
          "2024-05-28T00:50:00+08:00",
          "2024-05-28T00:55:00+08:00",
          "2024-05-28T01:00:00+08:00",
          "2024-05-28T01:05:00+08:00",
          "2024-05-28T01:10:00+08:00",
          "2024-05-28T01:15:00+08:00",
          "2024-05-28T01:20:00+08:00",
          "2024-05-28T01:25:00+08:00",
          "2024-05-28T01:30:00+08:00",
          "2024-05-28T01:35:00+08:00",
          "2024-05-28T01:40:00+08:00",
          "2024-05-28T01:45:00+08:00",
          "2024-05-28T01:50:00+08:00",
          "2024-05-28T01:55:00+08:00",
          "2024-05-28T02:00:00+08:00",
          "2024-05-28T02:05:00+08:00",
          "2024-05-28T02:10:00+08:00",
          "2024-05-28T02:15:00+08:00",
          "2024-05-28T02:20:00+08:00",
          "2024-05-28T02:25:00+08:00"
         ],
         "xaxis": "x3",
         "y": [
          0,
          0,
          0,
          0,
          -0.037678964999998316,
          -0.037678964999998316,
          -0.037678964999998316,
          -0.037678964999998316,
          -0.037678964999998316,
          -0.037678964999998316,
          -0.037678964999998316,
          -0.037678964999998316,
          -0.037678964999998316,
          -0.02004565499999948,
          -0.02004565499999948,
          -0.02004565499999948,
          -0.02004565499999948,
          -0.02004565499999948,
          -0.02004565499999948,
          -0.02004565499999948,
          -0.02004565499999948,
          -0.02004565499999948,
          -0.02004565499999948,
          -0.02004565499999948,
          -0.02004565499999948,
          -0.02004565499999948,
          -0.02004565499999948,
          -0.02004565499999948,
          -0.02004565499999948,
          -0.01862173249999608
         ],
         "yaxis": "y3"
        },
        {
         "name": "Cumulative Return (%) - Mean Revert",
         "type": "scatter",
         "visible": "legendonly",
         "x": [
          "2024-05-28T00:00:00+08:00",
          "2024-05-28T00:05:00+08:00",
          "2024-05-28T00:10:00+08:00",
          "2024-05-28T00:15:00+08:00",
          "2024-05-28T00:20:00+08:00",
          "2024-05-28T00:25:00+08:00",
          "2024-05-28T00:30:00+08:00",
          "2024-05-28T00:35:00+08:00",
          "2024-05-28T00:40:00+08:00",
          "2024-05-28T00:45:00+08:00",
          "2024-05-28T00:50:00+08:00",
          "2024-05-28T00:55:00+08:00",
          "2024-05-28T01:00:00+08:00",
          "2024-05-28T01:05:00+08:00",
          "2024-05-28T01:10:00+08:00",
          "2024-05-28T01:15:00+08:00",
          "2024-05-28T01:20:00+08:00",
          "2024-05-28T01:25:00+08:00",
          "2024-05-28T01:30:00+08:00",
          "2024-05-28T01:35:00+08:00",
          "2024-05-28T01:40:00+08:00",
          "2024-05-28T01:45:00+08:00",
          "2024-05-28T01:50:00+08:00",
          "2024-05-28T01:55:00+08:00",
          "2024-05-28T02:00:00+08:00",
          "2024-05-28T02:05:00+08:00",
          "2024-05-28T02:10:00+08:00",
          "2024-05-28T02:15:00+08:00",
          "2024-05-28T02:20:00+08:00",
          "2024-05-28T02:25:00+08:00"
         ],
         "xaxis": "x3",
         "y": [
          0,
          0,
          0,
          0,
          0,
          0,
          0,
          0,
          0,
          0,
          0,
          0,
          0,
          0.017633309999998837,
          0.017633309999998837,
          0.017633309999998837,
          0.017633309999998837,
          0.017633309999998837,
          0.017633309999998837,
          0.017633309999998837,
          0.017633309999998837,
          0.017633309999998837,
          0.017633309999998837,
          0.017633309999998837,
          0.017633309999998837,
          0.017633309999998837,
          0.017633309999998837,
          0.017633309999998837,
          0.017633309999998837,
          0.019057232500002234
         ],
         "yaxis": "y3"
        },
        {
         "name": "Cumulative Return (%) - Momentum Up",
         "type": "scatter",
         "visible": "legendonly",
         "x": [
          "2024-05-28T00:00:00+08:00",
          "2024-05-28T00:05:00+08:00",
          "2024-05-28T00:10:00+08:00",
          "2024-05-28T00:15:00+08:00",
          "2024-05-28T00:20:00+08:00",
          "2024-05-28T00:25:00+08:00",
          "2024-05-28T00:30:00+08:00",
          "2024-05-28T00:35:00+08:00",
          "2024-05-28T00:40:00+08:00",
          "2024-05-28T00:45:00+08:00",
          "2024-05-28T00:50:00+08:00",
          "2024-05-28T00:55:00+08:00",
          "2024-05-28T01:00:00+08:00",
          "2024-05-28T01:05:00+08:00",
          "2024-05-28T01:10:00+08:00",
          "2024-05-28T01:15:00+08:00",
          "2024-05-28T01:20:00+08:00",
          "2024-05-28T01:25:00+08:00",
          "2024-05-28T01:30:00+08:00",
          "2024-05-28T01:35:00+08:00",
          "2024-05-28T01:40:00+08:00",
          "2024-05-28T01:45:00+08:00",
          "2024-05-28T01:50:00+08:00",
          "2024-05-28T01:55:00+08:00",
          "2024-05-28T02:00:00+08:00",
          "2024-05-28T02:05:00+08:00",
          "2024-05-28T02:10:00+08:00",
          "2024-05-28T02:15:00+08:00",
          "2024-05-28T02:20:00+08:00",
          "2024-05-28T02:25:00+08:00"
         ],
         "xaxis": "x3",
         "y": [
          0,
          0,
          0,
          0,
          -0.037678964999998316,
          -0.037678964999998316,
          -0.037678964999998316,
          -0.037678964999998316,
          -0.037678964999998316,
          -0.037678964999998316,
          -0.037678964999998316,
          -0.037678964999998316,
          -0.037678964999998316,
          -0.037678964999998316,
          -0.037678964999998316,
          -0.037678964999998316,
          -0.037678964999998316,
          -0.037678964999998316,
          -0.037678964999998316,
          -0.037678964999998316,
          -0.037678964999998316,
          -0.037678964999998316,
          -0.037678964999998316,
          -0.037678964999998316,
          -0.037678964999998316,
          -0.037678964999998316,
          -0.037678964999998316,
          -0.037678964999998316,
          -0.037678964999998316,
          -0.037678964999998316
         ],
         "yaxis": "y3"
        },
        {
         "name": "Cumulative Return (%) - Momentum Down",
         "type": "scatter",
         "visible": "legendonly",
         "x": [
          "2024-05-28T00:00:00+08:00",
          "2024-05-28T00:05:00+08:00",
          "2024-05-28T00:10:00+08:00",
          "2024-05-28T00:15:00+08:00",
          "2024-05-28T00:20:00+08:00",
          "2024-05-28T00:25:00+08:00",
          "2024-05-28T00:30:00+08:00",
          "2024-05-28T00:35:00+08:00",
          "2024-05-28T00:40:00+08:00",
          "2024-05-28T00:45:00+08:00",
          "2024-05-28T00:50:00+08:00",
          "2024-05-28T00:55:00+08:00",
          "2024-05-28T01:00:00+08:00",
          "2024-05-28T01:05:00+08:00",
          "2024-05-28T01:10:00+08:00",
          "2024-05-28T01:15:00+08:00",
          "2024-05-28T01:20:00+08:00",
          "2024-05-28T01:25:00+08:00",
          "2024-05-28T01:30:00+08:00",
          "2024-05-28T01:35:00+08:00",
          "2024-05-28T01:40:00+08:00",
          "2024-05-28T01:45:00+08:00",
          "2024-05-28T01:50:00+08:00",
          "2024-05-28T01:55:00+08:00",
          "2024-05-28T02:00:00+08:00",
          "2024-05-28T02:05:00+08:00",
          "2024-05-28T02:10:00+08:00",
          "2024-05-28T02:15:00+08:00",
          "2024-05-28T02:20:00+08:00",
          "2024-05-28T02:25:00+08:00"
         ],
         "xaxis": "x3",
         "y": [
          0,
          0,
          0,
          0,
          0,
          0,
          0,
          0,
          0,
          0,
          0,
          0,
          0,
          0,
          0,
          0,
          0,
          0,
          0,
          0,
          0,
          0,
          0,
          0,
          0,
          0,
          0,
          0,
          0,
          0
         ],
         "yaxis": "y3"
        },
        {
         "name": "Cumulative PnL (Fiat)",
         "type": "scatter",
         "visible": "legendonly",
         "x": [
          "2024-05-28T00:00:00+08:00",
          "2024-05-28T00:05:00+08:00",
          "2024-05-28T00:10:00+08:00",
          "2024-05-28T00:15:00+08:00",
          "2024-05-28T00:20:00+08:00",
          "2024-05-28T00:25:00+08:00",
          "2024-05-28T00:30:00+08:00",
          "2024-05-28T00:35:00+08:00",
          "2024-05-28T00:40:00+08:00",
          "2024-05-28T00:45:00+08:00",
          "2024-05-28T00:50:00+08:00",
          "2024-05-28T00:55:00+08:00",
          "2024-05-28T01:00:00+08:00",
          "2024-05-28T01:05:00+08:00",
          "2024-05-28T01:10:00+08:00",
          "2024-05-28T01:15:00+08:00",
          "2024-05-28T01:20:00+08:00",
          "2024-05-28T01:25:00+08:00",
          "2024-05-28T01:30:00+08:00",
          "2024-05-28T01:35:00+08:00",
          "2024-05-28T01:40:00+08:00",
          "2024-05-28T01:45:00+08:00",
          "2024-05-28T01:50:00+08:00",
          "2024-05-28T01:55:00+08:00",
          "2024-05-28T02:00:00+08:00",
          "2024-05-28T02:05:00+08:00",
          "2024-05-28T02:10:00+08:00",
          "2024-05-28T02:15:00+08:00",
          "2024-05-28T02:20:00+08:00",
          "2024-05-28T02:25:00+08:00"
         ],
         "xaxis": "x3",
         "y": [
          0,
          0,
          0,
          0,
          -1.5071585999999326,
          -1.5071585999999326,
          -1.5071585999999326,
          -1.5071585999999326,
          -1.5071585999999326,
          -1.5071585999999326,
          -1.5071585999999326,
          -1.5071585999999326,
          -1.5071585999999326,
          -0.8018261999999791,
          -0.8018261999999791,
          -0.8018261999999791,
          -0.8018261999999791,
          -0.8018261999999791,
          -0.8018261999999791,
          -0.8018261999999791,
          -0.8018261999999791,
          -0.8018261999999791,
          -0.8018261999999791,
          -0.8018261999999791,
          -0.8018261999999791,
          -0.8018261999999791,
          -0.8018261999999791,
          -0.8018261999999791,
          -0.8018261999999791,
          -0.7448692999998432
         ],
         "yaxis": "y3"
        },
        {
         "name": "Cumulative PnL (Fiat) - Mean Revert",
         "type": "scatter",
         "visible": "legendonly",
         "x": [
          "2024-05-28T00:00:00+08:00",
          "2024-05-28T00:05:00+08:00",
          "2024-05-28T00:10:00+08:00",
          "2024-05-28T00:15:00+08:00",
          "2024-05-28T00:20:00+08:00",
          "2024-05-28T00:25:00+08:00",
          "2024-05-28T00:30:00+08:00",
          "2024-05-28T00:35:00+08:00",
          "2024-05-28T00:40:00+08:00",
          "2024-05-28T00:45:00+08:00",
          "2024-05-28T00:50:00+08:00",
          "2024-05-28T00:55:00+08:00",
          "2024-05-28T01:00:00+08:00",
          "2024-05-28T01:05:00+08:00",
          "2024-05-28T01:10:00+08:00",
          "2024-05-28T01:15:00+08:00",
          "2024-05-28T01:20:00+08:00",
          "2024-05-28T01:25:00+08:00",
          "2024-05-28T01:30:00+08:00",
          "2024-05-28T01:35:00+08:00",
          "2024-05-28T01:40:00+08:00",
          "2024-05-28T01:45:00+08:00",
          "2024-05-28T01:50:00+08:00",
          "2024-05-28T01:55:00+08:00",
          "2024-05-28T02:00:00+08:00",
          "2024-05-28T02:05:00+08:00",
          "2024-05-28T02:10:00+08:00",
          "2024-05-28T02:15:00+08:00",
          "2024-05-28T02:20:00+08:00",
          "2024-05-28T02:25:00+08:00"
         ],
         "xaxis": "x3",
         "y": [
          0,
          0,
          0,
          0,
          0,
          0,
          0,
          0,
          0,
          0,
          0,
          0,
          0,
          0.7053323999999536,
          0.7053323999999536,
          0.7053323999999536,
          0.7053323999999536,
          0.7053323999999536,
          0.7053323999999536,
          0.7053323999999536,
          0.7053323999999536,
          0.7053323999999536,
          0.7053323999999536,
          0.7053323999999536,
          0.7053323999999536,
          0.7053323999999536,
          0.7053323999999536,
          0.7053323999999536,
          0.7053323999999536,
          0.7622893000000894
         ],
         "yaxis": "y3"
        },
        {
         "name": "Cumulative PnL (Fiat) - Momentum Up",
         "type": "scatter",
         "visible": "legendonly",
         "x": [
          "2024-05-28T00:00:00+08:00",
          "2024-05-28T00:05:00+08:00",
          "2024-05-28T00:10:00+08:00",
          "2024-05-28T00:15:00+08:00",
          "2024-05-28T00:20:00+08:00",
          "2024-05-28T00:25:00+08:00",
          "2024-05-28T00:30:00+08:00",
          "2024-05-28T00:35:00+08:00",
          "2024-05-28T00:40:00+08:00",
          "2024-05-28T00:45:00+08:00",
          "2024-05-28T00:50:00+08:00",
          "2024-05-28T00:55:00+08:00",
          "2024-05-28T01:00:00+08:00",
          "2024-05-28T01:05:00+08:00",
          "2024-05-28T01:10:00+08:00",
          "2024-05-28T01:15:00+08:00",
          "2024-05-28T01:20:00+08:00",
          "2024-05-28T01:25:00+08:00",
          "2024-05-28T01:30:00+08:00",
          "2024-05-28T01:35:00+08:00",
          "2024-05-28T01:40:00+08:00",
          "2024-05-28T01:45:00+08:00",
          "2024-05-28T01:50:00+08:00",
          "2024-05-28T01:55:00+08:00",
          "2024-05-28T02:00:00+08:00",
          "2024-05-28T02:05:00+08:00",
          "2024-05-28T02:10:00+08:00",
          "2024-05-28T02:15:00+08:00",
          "2024-05-28T02:20:00+08:00",
          "2024-05-28T02:25:00+08:00"
         ],
         "xaxis": "x3",
         "y": [
          0,
          0,
          0,
          0,
          -1.5071585999999326,
          -1.5071585999999326,
          -1.5071585999999326,
          -1.5071585999999326,
          -1.5071585999999326,
          -1.5071585999999326,
          -1.5071585999999326,
          -1.5071585999999326,
          -1.5071585999999326,
          -1.5071585999999326,
          -1.5071585999999326,
          -1.5071585999999326,
          -1.5071585999999326,
          -1.5071585999999326,
          -1.5071585999999326,
          -1.5071585999999326,
          -1.5071585999999326,
          -1.5071585999999326,
          -1.5071585999999326,
          -1.5071585999999326,
          -1.5071585999999326,
          -1.5071585999999326,
          -1.5071585999999326,
          -1.5071585999999326,
          -1.5071585999999326,
          -1.5071585999999326
         ],
         "yaxis": "y3"
        },
        {
         "name": "Cumulative PnL (Fiat) - Momentum Down",
         "type": "scatter",
         "visible": "legendonly",
         "x": [
          "2024-05-28T00:00:00+08:00",
          "2024-05-28T00:05:00+08:00",
          "2024-05-28T00:10:00+08:00",
          "2024-05-28T00:15:00+08:00",
          "2024-05-28T00:20:00+08:00",
          "2024-05-28T00:25:00+08:00",
          "2024-05-28T00:30:00+08:00",
          "2024-05-28T00:35:00+08:00",
          "2024-05-28T00:40:00+08:00",
          "2024-05-28T00:45:00+08:00",
          "2024-05-28T00:50:00+08:00",
          "2024-05-28T00:55:00+08:00",
          "2024-05-28T01:00:00+08:00",
          "2024-05-28T01:05:00+08:00",
          "2024-05-28T01:10:00+08:00",
          "2024-05-28T01:15:00+08:00",
          "2024-05-28T01:20:00+08:00",
          "2024-05-28T01:25:00+08:00",
          "2024-05-28T01:30:00+08:00",
          "2024-05-28T01:35:00+08:00",
          "2024-05-28T01:40:00+08:00",
          "2024-05-28T01:45:00+08:00",
          "2024-05-28T01:50:00+08:00",
          "2024-05-28T01:55:00+08:00",
          "2024-05-28T02:00:00+08:00",
          "2024-05-28T02:05:00+08:00",
          "2024-05-28T02:10:00+08:00",
          "2024-05-28T02:15:00+08:00",
          "2024-05-28T02:20:00+08:00",
          "2024-05-28T02:25:00+08:00"
         ],
         "xaxis": "x3",
         "y": [
          0,
          0,
          0,
          0,
          0,
          0,
          0,
          0,
          0,
          0,
          0,
          0,
          0,
          0,
          0,
          0,
          0,
          0,
          0,
          0,
          0,
          0,
          0,
          0,
          0,
          0,
          0,
          0,
          0,
          0
         ],
         "yaxis": "y3"
        },
        {
         "name": "PnL (Fiat)",
         "type": "scatter",
         "visible": "legendonly",
         "x": [
          "2024-05-28T00:00:00+08:00",
          "2024-05-28T00:05:00+08:00",
          "2024-05-28T00:10:00+08:00",
          "2024-05-28T00:15:00+08:00",
          "2024-05-28T00:20:00+08:00",
          "2024-05-28T00:25:00+08:00",
          "2024-05-28T00:30:00+08:00",
          "2024-05-28T00:35:00+08:00",
          "2024-05-28T00:40:00+08:00",
          "2024-05-28T00:45:00+08:00",
          "2024-05-28T00:50:00+08:00",
          "2024-05-28T00:55:00+08:00",
          "2024-05-28T01:00:00+08:00",
          "2024-05-28T01:05:00+08:00",
          "2024-05-28T01:10:00+08:00",
          "2024-05-28T01:15:00+08:00",
          "2024-05-28T01:20:00+08:00",
          "2024-05-28T01:25:00+08:00",
          "2024-05-28T01:30:00+08:00",
          "2024-05-28T01:35:00+08:00",
          "2024-05-28T01:40:00+08:00",
          "2024-05-28T01:45:00+08:00",
          "2024-05-28T01:50:00+08:00",
          "2024-05-28T01:55:00+08:00",
          "2024-05-28T02:00:00+08:00",
          "2024-05-28T02:05:00+08:00",
          "2024-05-28T02:10:00+08:00",
          "2024-05-28T02:15:00+08:00",
          "2024-05-28T02:20:00+08:00",
          "2024-05-28T02:25:00+08:00"
         ],
         "xaxis": "x2",
         "y": [
          0,
          0,
          0,
          0,
          -1.5071585999999326,
          0,
          0,
          0,
          0,
          0,
          0,
          0,
          0,
          0.7053323999999536,
          0,
          0,
          0,
          0,
          0,
          0,
          0,
          0,
          0,
          0,
          0,
          0,
          0,
          0,
          0,
          0.05695690000013581
         ],
         "yaxis": "y2"
        },
        {
         "name": "PnL (Fiat) - Mean Revert",
         "type": "scatter",
         "visible": "legendonly",
         "x": [
          "2024-05-28T00:00:00+08:00",
          "2024-05-28T00:05:00+08:00",
          "2024-05-28T00:10:00+08:00",
          "2024-05-28T00:15:00+08:00",
          "2024-05-28T00:20:00+08:00",
          "2024-05-28T00:25:00+08:00",
          "2024-05-28T00:30:00+08:00",
          "2024-05-28T00:35:00+08:00",
          "2024-05-28T00:40:00+08:00",
          "2024-05-28T00:45:00+08:00",
          "2024-05-28T00:50:00+08:00",
          "2024-05-28T00:55:00+08:00",
          "2024-05-28T01:00:00+08:00",
          "2024-05-28T01:05:00+08:00",
          "2024-05-28T01:10:00+08:00",
          "2024-05-28T01:15:00+08:00",
          "2024-05-28T01:20:00+08:00",
          "2024-05-28T01:25:00+08:00",
          "2024-05-28T01:30:00+08:00",
          "2024-05-28T01:35:00+08:00",
          "2024-05-28T01:40:00+08:00",
          "2024-05-28T01:45:00+08:00",
          "2024-05-28T01:50:00+08:00",
          "2024-05-28T01:55:00+08:00",
          "2024-05-28T02:00:00+08:00",
          "2024-05-28T02:05:00+08:00",
          "2024-05-28T02:10:00+08:00",
          "2024-05-28T02:15:00+08:00",
          "2024-05-28T02:20:00+08:00",
          "2024-05-28T02:25:00+08:00"
         ],
         "xaxis": "x3",
         "y": [
          0,
          0,
          0,
          0,
          0,
          0,
          0,
          0,
          0,
          0,
          0,
          0,
          0,
          0.7053323999999536,
          0,
          0,
          0,
          0,
          0,
          0,
          0,
          0,
          0,
          0,
          0,
          0,
          0,
          0,
          0,
          0.05695690000013581
         ],
         "yaxis": "y3"
        },
        {
         "name": "PnL (Fiat) - Momentum Up",
         "type": "scatter",
         "visible": "legendonly",
         "x": [
          "2024-05-28T00:00:00+08:00",
          "2024-05-28T00:05:00+08:00",
          "2024-05-28T00:10:00+08:00",
          "2024-05-28T00:15:00+08:00",
          "2024-05-28T00:20:00+08:00",
          "2024-05-28T00:25:00+08:00",
          "2024-05-28T00:30:00+08:00",
          "2024-05-28T00:35:00+08:00",
          "2024-05-28T00:40:00+08:00",
          "2024-05-28T00:45:00+08:00",
          "2024-05-28T00:50:00+08:00",
          "2024-05-28T00:55:00+08:00",
          "2024-05-28T01:00:00+08:00",
          "2024-05-28T01:05:00+08:00",
          "2024-05-28T01:10:00+08:00",
          "2024-05-28T01:15:00+08:00",
          "2024-05-28T01:20:00+08:00",
          "2024-05-28T01:25:00+08:00",
          "2024-05-28T01:30:00+08:00",
          "2024-05-28T01:35:00+08:00",
          "2024-05-28T01:40:00+08:00",
          "2024-05-28T01:45:00+08:00",
          "2024-05-28T01:50:00+08:00",
          "2024-05-28T01:55:00+08:00",
          "2024-05-28T02:00:00+08:00",
          "2024-05-28T02:05:00+08:00",
          "2024-05-28T02:10:00+08:00",
          "2024-05-28T02:15:00+08:00",
          "2024-05-28T02:20:00+08:00",
          "2024-05-28T02:25:00+08:00"
         ],
         "xaxis": "x3",
         "y": [
          0,
          0,
          0,
          0,
          -1.5071585999999326,
          0,
          0,
          0,
          0,
          0,
          0,
          0,
          0,
          0,
          0,
          0,
          0,
          0,
          0,
          0,
          0,
          0,
          0,
          0,
          0,
          0,
          0,
          0,
          0,
          0
         ],
         "yaxis": "y3"
        },
        {
         "name": "PnL (Fiat) - Momentum Down",
         "type": "scatter",
         "visible": "legendonly",
         "x": [
          "2024-05-28T00:00:00+08:00",
          "2024-05-28T00:05:00+08:00",
          "2024-05-28T00:10:00+08:00",
          "2024-05-28T00:15:00+08:00",
          "2024-05-28T00:20:00+08:00",
          "2024-05-28T00:25:00+08:00",
          "2024-05-28T00:30:00+08:00",
          "2024-05-28T00:35:00+08:00",
          "2024-05-28T00:40:00+08:00",
          "2024-05-28T00:45:00+08:00",
          "2024-05-28T00:50:00+08:00",
          "2024-05-28T00:55:00+08:00",
          "2024-05-28T01:00:00+08:00",
          "2024-05-28T01:05:00+08:00",
          "2024-05-28T01:10:00+08:00",
          "2024-05-28T01:15:00+08:00",
          "2024-05-28T01:20:00+08:00",
          "2024-05-28T01:25:00+08:00",
          "2024-05-28T01:30:00+08:00",
          "2024-05-28T01:35:00+08:00",
          "2024-05-28T01:40:00+08:00",
          "2024-05-28T01:45:00+08:00",
          "2024-05-28T01:50:00+08:00",
          "2024-05-28T01:55:00+08:00",
          "2024-05-28T02:00:00+08:00",
          "2024-05-28T02:05:00+08:00",
          "2024-05-28T02:10:00+08:00",
          "2024-05-28T02:15:00+08:00",
          "2024-05-28T02:20:00+08:00",
          "2024-05-28T02:25:00+08:00"
         ],
         "xaxis": "x3",
         "y": [
          0,
          0,
          0,
          0,
          0,
          0,
          0,
          0,
          0,
          0,
          0,
          0,
          0,
          0,
          0,
          0,
          0,
          0,
          0,
          0,
          0,
          0,
          0,
          0,
          0,
          0,
          0,
          0,
          0,
          0
         ],
         "yaxis": "y3"
        },
        {
         "name": "Cumulative Gross Return (%)",
         "type": "scatter",
         "visible": "legendonly",
         "x": [
          "2024-05-28T00:00:00+08:00",
          "2024-05-28T00:05:00+08:00",
          "2024-05-28T00:10:00+08:00",
          "2024-05-28T00:15:00+08:00",
          "2024-05-28T00:20:00+08:00",
          "2024-05-28T00:25:00+08:00",
          "2024-05-28T00:30:00+08:00",
          "2024-05-28T00:35:00+08:00",
          "2024-05-28T00:40:00+08:00",
          "2024-05-28T00:45:00+08:00",
          "2024-05-28T00:50:00+08:00",
          "2024-05-28T00:55:00+08:00",
          "2024-05-28T01:00:00+08:00",
          "2024-05-28T01:05:00+08:00",
          "2024-05-28T01:10:00+08:00",
          "2024-05-28T01:15:00+08:00",
          "2024-05-28T01:20:00+08:00",
          "2024-05-28T01:25:00+08:00",
          "2024-05-28T01:30:00+08:00",
          "2024-05-28T01:35:00+08:00",
          "2024-05-28T01:40:00+08:00",
          "2024-05-28T01:45:00+08:00",
          "2024-05-28T01:50:00+08:00",
          "2024-05-28T01:55:00+08:00",
          "2024-05-28T02:00:00+08:00",
          "2024-05-28T02:05:00+08:00",
          "2024-05-28T02:10:00+08:00",
          "2024-05-28T02:15:00+08:00",
          "2024-05-28T02:20:00+08:00",
          "2024-05-28T02:25:00+08:00"
         ],
         "xaxis": "x3",
         "y": [
          0,
          0,
          0,
          0,
          -0.037678964999998316,
          -0.037678964999998316,
          -0.037678964999998316,
          -0.037678964999998316,
          -0.037678964999998316,
          -0.037678964999998316,
          -0.037678964999998316,
          -0.037678964999998316,
          -0.037678964999998316,
          -0.02004565499999948,
          -0.02004565499999948,
          -0.02004565499999948,
          -0.02004565499999948,
          -0.02004565499999948,
          -0.02004565499999948,
          -0.02004565499999948,
          -0.02004565499999948,
          -0.02004565499999948,
          -0.02004565499999948,
          -0.02004565499999948,
          -0.02004565499999948,
          -0.02004565499999948,
          -0.02004565499999948,
          -0.02004565499999948,
          -0.02004565499999948,
          -0.01862173249999608
         ],
         "yaxis": "y3"
        },
        {
         "name": "Cumulative Gross PnL (Fiat)",
         "type": "scatter",
         "visible": "legendonly",
         "x": [
          "2024-05-28T00:00:00+08:00",
          "2024-05-28T00:05:00+08:00",
          "2024-05-28T00:10:00+08:00",
          "2024-05-28T00:15:00+08:00",
          "2024-05-28T00:20:00+08:00",
          "2024-05-28T00:25:00+08:00",
          "2024-05-28T00:30:00+08:00",
          "2024-05-28T00:35:00+08:00",
          "2024-05-28T00:40:00+08:00",
          "2024-05-28T00:45:00+08:00",
          "2024-05-28T00:50:00+08:00",
          "2024-05-28T00:55:00+08:00",
          "2024-05-28T01:00:00+08:00",
          "2024-05-28T01:05:00+08:00",
          "2024-05-28T01:10:00+08:00",
          "2024-05-28T01:15:00+08:00",
          "2024-05-28T01:20:00+08:00",
          "2024-05-28T01:25:00+08:00",
          "2024-05-28T01:30:00+08:00",
          "2024-05-28T01:35:00+08:00",
          "2024-05-28T01:40:00+08:00",
          "2024-05-28T01:45:00+08:00",
          "2024-05-28T01:50:00+08:00",
          "2024-05-28T01:55:00+08:00",
          "2024-05-28T02:00:00+08:00",
          "2024-05-28T02:05:00+08:00",
          "2024-05-28T02:10:00+08:00",
          "2024-05-28T02:15:00+08:00",
          "2024-05-28T02:20:00+08:00",
          "2024-05-28T02:25:00+08:00"
         ],
         "xaxis": "x3",
         "y": [
          0,
          0,
          0,
          0,
          -1.5071585999999326,
          -1.5071585999999326,
          -1.5071585999999326,
          -1.5071585999999326,
          -1.5071585999999326,
          -1.5071585999999326,
          -1.5071585999999326,
          -1.5071585999999326,
          -1.5071585999999326,
          -0.8018261999999791,
          -0.8018261999999791,
          -0.8018261999999791,
          -0.8018261999999791,
          -0.8018261999999791,
          -0.8018261999999791,
          -0.8018261999999791,
          -0.8018261999999791,
          -0.8018261999999791,
          -0.8018261999999791,
          -0.8018261999999791,
          -0.8018261999999791,
          -0.8018261999999791,
          -0.8018261999999791,
          -0.8018261999999791,
          -0.8018261999999791,
          -0.7448692999998432
         ],
         "yaxis": "y3"
        },
        {
         "name": "Cumulative Trading Fee (Fiat)",
         "type": "scatter",
         "visible": "legendonly",
         "x": [
          "2024-05-28T00:00:00+08:00",
          "2024-05-28T00:05:00+08:00",
          "2024-05-28T00:10:00+08:00",
          "2024-05-28T00:15:00+08:00",
          "2024-05-28T00:20:00+08:00",
          "2024-05-28T00:25:00+08:00",
          "2024-05-28T00:30:00+08:00",
          "2024-05-28T00:35:00+08:00",
          "2024-05-28T00:40:00+08:00",
          "2024-05-28T00:45:00+08:00",
          "2024-05-28T00:50:00+08:00",
          "2024-05-28T00:55:00+08:00",
          "2024-05-28T01:00:00+08:00",
          "2024-05-28T01:05:00+08:00",
          "2024-05-28T01:10:00+08:00",
          "2024-05-28T01:15:00+08:00",
          "2024-05-28T01:20:00+08:00",
          "2024-05-28T01:25:00+08:00",
          "2024-05-28T01:30:00+08:00",
          "2024-05-28T01:35:00+08:00",
          "2024-05-28T01:40:00+08:00",
          "2024-05-28T01:45:00+08:00",
          "2024-05-28T01:50:00+08:00",
          "2024-05-28T01:55:00+08:00",
          "2024-05-28T02:00:00+08:00",
          "2024-05-28T02:05:00+08:00",
          "2024-05-28T02:10:00+08:00",
          "2024-05-28T02:15:00+08:00",
          "2024-05-28T02:20:00+08:00",
          "2024-05-28T02:25:00+08:00"
         ],
         "xaxis": "x3",
         "y": [
          0,
          0,
          0,
          0,
          0,
          0,
          0,
          0,
          0,
          0,
          0,
          0,
          0,
          0,
          0,
          0,
          0,
          0,
          0,
          0,
          0,
          0,
          0,
          0,
          0,
          0,
          0,
          0,
          0,
          0
         ],
         "yaxis": "y3"
        },
        {
         "name": "Average True Range",
         "type": "scatter",
         "x": [
          "2024-05-28T00:00:00+08:00",
          "2024-05-28T00:05:00+08:00",
          "2024-05-28T00:10:00+08:00",
          "2024-05-28T00:15:00+08:00",
          "2024-05-28T00:20:00+08:00",
          "2024-05-28T00:25:00+08:00",
          "2024-05-28T00:30:00+08:00",
          "2024-05-28T00:35:00+08:00",
          "2024-05-28T00:40:00+08:00",
          "2024-05-28T00:45:00+08:00",
          "2024-05-28T00:50:00+08:00",
          "2024-05-28T00:55:00+08:00",
          "2024-05-28T01:00:00+08:00",
          "2024-05-28T01:05:00+08:00",
          "2024-05-28T01:10:00+08:00",
          "2024-05-28T01:15:00+08:00",
          "2024-05-28T01:20:00+08:00",
          "2024-05-28T01:25:00+08:00",
          "2024-05-28T01:30:00+08:00",
          "2024-05-28T01:35:00+08:00",
          "2024-05-28T01:40:00+08:00",
          "2024-05-28T01:45:00+08:00",
          "2024-05-28T01:50:00+08:00",
          "2024-05-28T01:55:00+08:00",
          "2024-05-28T02:00:00+08:00",
          "2024-05-28T02:05:00+08:00",
          "2024-05-28T02:10:00+08:00",
          "2024-05-28T02:15:00+08:00",
          "2024-05-28T02:20:00+08:00",
          "2024-05-28T02:25:00+08:00"
         ],
         "xaxis": "x4",
         "y": [
          null,
          null,
          null,
          null,
          null,
          null,
          null,
          null,
          null,
          null,
          null,
          null,
          null,
          null,
          null,
          null,
          null,
          null,
          null,
          null,
          null,
          147.52899999999863,
          144.932999999998,
          145.2394999999975,
          139.62249999999693,
          130.51199999999736,
          128.49749999999767,
          122.91899999999805,
          120.34249999999739,
          117.22349999999787
         ],
         "yaxis": "y4"
        },
        {
         "name": "Close Std",
         "type": "scatter",
         "x": [
          "2024-05-28T00:00:00+08:00",
          "2024-05-28T00:05:00+08:00",
          "2024-05-28T00:10:00+08:00",
          "2024-05-28T00:15:00+08:00",
          "2024-05-28T00:20:00+08:00",
          "2024-05-28T00:25:00+08:00",
          "2024-05-28T00:30:00+08:00",
          "2024-05-28T00:35:00+08:00",
          "2024-05-28T00:40:00+08:00",
          "2024-05-28T00:45:00+08:00",
          "2024-05-28T00:50:00+08:00",
          "2024-05-28T00:55:00+08:00",
          "2024-05-28T01:00:00+08:00",
          "2024-05-28T01:05:00+08:00",
          "2024-05-28T01:10:00+08:00",
          "2024-05-28T01:15:00+08:00",
          "2024-05-28T01:20:00+08:00",
          "2024-05-28T01:25:00+08:00",
          "2024-05-28T01:30:00+08:00",
          "2024-05-28T01:35:00+08:00",
          "2024-05-28T01:40:00+08:00",
          "2024-05-28T01:45:00+08:00",
          "2024-05-28T01:50:00+08:00",
          "2024-05-28T01:55:00+08:00",
          "2024-05-28T02:00:00+08:00",
          "2024-05-28T02:05:00+08:00",
          "2024-05-28T02:10:00+08:00",
          "2024-05-28T02:15:00+08:00",
          "2024-05-28T02:20:00+08:00",
          "2024-05-28T02:25:00+08:00"
         ],
         "xaxis": "x4",
         "y": [
          null,
          null,
          null,
          null,
          null,
          null,
          null,
          null,
          null,
          null,
          null,
          null,
          null,
          null,
          null,
          null,
          null,
          null,
          null,
          null,
          153.4947270644074,
          149.57686886328685,
          137.48694003430765,
          124.63262156812962,
          92.76530950254144,
          86.98902634208625,
          71.59048808287464,
          71.06040264411854,
          66.69046802400072,
          63.62611909053898
         ],
         "yaxis": "y4"
        },
        {
         "showlegend": false,
         "type": "scatter",
         "x": [
          "2024-05-28T00:00:00+08:00",
          "2024-05-28T00:05:00+08:00",
          "2024-05-28T00:10:00+08:00",
          "2024-05-28T00:15:00+08:00",
          "2024-05-28T00:20:00+08:00",
          "2024-05-28T00:25:00+08:00",
          "2024-05-28T00:30:00+08:00",
          "2024-05-28T00:35:00+08:00",
          "2024-05-28T00:40:00+08:00",
          "2024-05-28T00:45:00+08:00",
          "2024-05-28T00:50:00+08:00",
          "2024-05-28T00:55:00+08:00",
          "2024-05-28T01:00:00+08:00",
          "2024-05-28T01:05:00+08:00",
          "2024-05-28T01:10:00+08:00",
          "2024-05-28T01:15:00+08:00",
          "2024-05-28T01:20:00+08:00",
          "2024-05-28T01:25:00+08:00",
          "2024-05-28T01:30:00+08:00",
          "2024-05-28T01:35:00+08:00",
          "2024-05-28T01:40:00+08:00",
          "2024-05-28T01:45:00+08:00",
          "2024-05-28T01:50:00+08:00",
          "2024-05-28T01:55:00+08:00",
          "2024-05-28T02:00:00+08:00",
          "2024-05-28T02:05:00+08:00",
          "2024-05-28T02:10:00+08:00",
          "2024-05-28T02:15:00+08:00",
          "2024-05-28T02:20:00+08:00",
          "2024-05-28T02:25:00+08:00"
         ],
         "xaxis": "x5",
         "y": [
          null,
          null,
          null,
          null,
          null,
          null,
          null,
          null,
          null,
          null,
          null,
          null,
          null,
          null,
          null,
          null,
          null,
          null,
          null,
          null,
          null,
          null,
          null,
          null,
          null,
          null,
          null,
          null,
          null,
          null
         ],
         "yaxis": "y5"
        },
        {
         "showlegend": false,
         "type": "scatter",
         "x": [
          "2024-05-28T00:00:00+08:00",
          "2024-05-28T00:05:00+08:00",
          "2024-05-28T00:10:00+08:00",
          "2024-05-28T00:15:00+08:00",
          "2024-05-28T00:20:00+08:00",
          "2024-05-28T00:25:00+08:00",
          "2024-05-28T00:30:00+08:00",
          "2024-05-28T00:35:00+08:00",
          "2024-05-28T00:40:00+08:00",
          "2024-05-28T00:45:00+08:00",
          "2024-05-28T00:50:00+08:00",
          "2024-05-28T00:55:00+08:00",
          "2024-05-28T01:00:00+08:00",
          "2024-05-28T01:05:00+08:00",
          "2024-05-28T01:10:00+08:00",
          "2024-05-28T01:15:00+08:00",
          "2024-05-28T01:20:00+08:00",
          "2024-05-28T01:25:00+08:00",
          "2024-05-28T01:30:00+08:00",
          "2024-05-28T01:35:00+08:00",
          "2024-05-28T01:40:00+08:00",
          "2024-05-28T01:45:00+08:00",
          "2024-05-28T01:50:00+08:00",
          "2024-05-28T01:55:00+08:00",
          "2024-05-28T02:00:00+08:00",
          "2024-05-28T02:05:00+08:00",
          "2024-05-28T02:10:00+08:00",
          "2024-05-28T02:15:00+08:00",
          "2024-05-28T02:20:00+08:00",
          "2024-05-28T02:25:00+08:00"
         ],
         "xaxis": "x6",
         "y": [
          null,
          null,
          null,
          null,
          null,
          null,
          null,
          null,
          null,
          null,
          null,
          null,
          null,
          null,
          null,
          null,
          null,
          null,
          null,
          null,
          null,
          null,
          null,
          null,
          null,
          null,
          null,
          null,
          null,
          null
         ],
         "yaxis": "y6"
        }
       ],
       "layout": {
        "annotations": [
         {
          "font": {
           "size": 16
          },
          "showarrow": false,
          "text": "Price OHLC",
          "x": 0.5,
          "xanchor": "center",
          "xref": "paper",
          "y": 1,
          "yanchor": "bottom",
          "yref": "paper"
         },
         {
          "font": {
           "size": 16
          },
          "showarrow": false,
          "text": "Volume",
          "x": 0.5,
          "xanchor": "center",
          "xref": "paper",
          "y": 0.5970588235294118,
          "yanchor": "bottom",
          "yref": "paper"
         },
         {
          "font": {
           "size": 16
          },
          "showarrow": false,
          "text": "Cumulated PnL / Return (%)",
          "x": 0.5,
          "xanchor": "center",
          "xref": "paper",
          "y": 0.5029411764705882,
          "yanchor": "bottom",
          "yref": "paper"
         },
         {
          "font": {
           "size": 16
          },
          "showarrow": false,
          "text": "Average True Range / Close Std (20 x 5m)",
          "x": 0.5,
          "xanchor": "center",
          "xref": "paper",
          "y": 0.3647058823529412,
          "yanchor": "bottom",
          "yref": "paper"
         },
         {
          "font": {
           "size": 16
          },
          "showarrow": false,
          "text": "Half Life",
          "x": 0.5,
          "xanchor": "center",
          "xref": "paper",
          "y": 0.22647058823529415,
          "yanchor": "bottom",
          "yref": "paper"
         },
         {
          "font": {
           "size": 16
          },
          "showarrow": false,
          "text": "Hurst Exponent",
          "x": 0.5,
          "xanchor": "center",
          "xref": "paper",
          "y": 0.08823529411764706,
          "yanchor": "bottom",
          "yref": "paper"
         }
        ],
        "height": 1800,
        "hovermode": "x",
        "shapes": [
         {
          "line": {
           "color": "green",
           "dash": "dash"
          },
          "type": "line",
          "x0": "2024-05-28T00:19:43.352000+08:00",
          "x1": "2024-05-28T00:21:54.712000+08:00",
          "xref": "x",
          "y0": 70704.33,
          "y1": 70704.33,
          "yref": "y"
         },
         {
          "line": {
           "color": "green",
           "dash": "dash"
          },
          "type": "line",
          "x0": "2024-05-28T00:19:43.352000+08:00",
          "x1": "2024-05-28T00:21:54.712000+08:00",
          "xref": "x",
          "y0": 70765.09,
          "y1": 70765.09,
          "yref": "y"
         },
         {
          "line": {
           "color": "green",
           "dash": "dash"
          },
          "type": "line",
          "x0": "2024-05-28T00:19:43.352000+08:00",
          "x1": "2024-05-28T00:21:54.712000+08:00",
          "xref": "x",
          "y0": 70825.86,
          "y1": 70825.86,
          "yref": "y"
         },
         {
          "line": {
           "color": "green",
           "dash": "dash"
          },
          "type": "line",
          "x0": "2024-05-28T00:19:43.352000+08:00",
          "x1": "2024-05-28T00:21:54.712000+08:00",
          "xref": "x",
          "y0": 70886.63,
          "y1": 70886.63,
          "yref": "y"
         },
         {
          "line": {
           "color": "green",
           "dash": "dash"
          },
          "type": "line",
          "x0": "2024-05-28T00:19:43.352000+08:00",
          "x1": "2024-05-28T00:21:54.712000+08:00",
          "xref": "x",
          "y0": 70947.4,
          "y1": 70947.4,
          "yref": "y"
         },
         {
          "line": {
           "color": "red",
           "dash": "dash"
          },
          "type": "line",
          "x0": "2024-05-28T00:19:43.352000+08:00",
          "x1": "2024-05-28T00:21:54.712000+08:00",
          "xref": "x",
          "y0": 71068.93,
          "y1": 71068.93,
          "yref": "y"
         },
         {
          "line": {
           "color": "red",
           "dash": "dash"
          },
          "type": "line",
          "x0": "2024-05-28T00:19:43.352000+08:00",
          "x1": "2024-05-28T00:21:54.712000+08:00",
          "xref": "x",
          "y0": 71129.7,
          "y1": 71129.7,
          "yref": "y"
         },
         {
          "line": {
           "color": "red",
           "dash": "dash"
          },
          "type": "line",
          "x0": "2024-05-28T00:19:43.352000+08:00",
          "x1": "2024-05-28T00:21:54.712000+08:00",
          "xref": "x",
          "y0": 71190.46,
          "y1": 71190.46,
          "yref": "y"
         },
         {
          "line": {
           "color": "red",
           "dash": "dash"
          },
          "type": "line",
          "x0": "2024-05-28T00:19:43.352000+08:00",
          "x1": "2024-05-28T00:21:54.712000+08:00",
          "xref": "x",
          "y0": 71251.23,
          "y1": 71251.23,
          "yref": "y"
         },
         {
          "line": {
           "color": "red",
           "dash": "dash"
          },
          "type": "line",
          "x0": "2024-05-28T00:19:43.352000+08:00",
          "x1": "2024-05-28T00:21:54.712000+08:00",
          "xref": "x",
          "y0": 71312,
          "y1": 71312,
          "yref": "y"
         },
         {
          "line": {
           "color": "green",
           "dash": "dash"
          },
          "type": "line",
          "x0": "2024-05-28T00:45:37.162000+08:00",
          "x1": "2024-05-28T01:24:21.080000+08:00",
          "xref": "x",
          "y0": 69980.53,
          "y1": 69980.53,
          "yref": "y"
         },
         {
          "line": {
           "color": "green",
           "dash": "dash"
          },
          "type": "line",
          "x0": "2024-05-28T00:45:37.162000+08:00",
          "x1": "2024-05-28T01:24:21.080000+08:00",
          "xref": "x",
          "y0": 70042.51,
          "y1": 70042.51,
          "yref": "y"
         },
         {
          "line": {
           "color": "green",
           "dash": "dash"
          },
          "type": "line",
          "x0": "2024-05-28T00:45:37.162000+08:00",
          "x1": "2024-05-28T01:24:21.080000+08:00",
          "xref": "x",
          "y0": 70104.48,
          "y1": 70104.48,
          "yref": "y"
         },
         {
          "line": {
           "color": "green",
           "dash": "dash"
          },
          "type": "line",
          "x0": "2024-05-28T00:45:37.162000+08:00",
          "x1": "2024-05-28T01:24:21.080000+08:00",
          "xref": "x",
          "y0": 70166.46,
          "y1": 70166.46,
          "yref": "y"
         },
         {
          "line": {
           "color": "green",
           "dash": "dash"
          },
          "type": "line",
          "x0": "2024-05-28T00:45:37.162000+08:00",
          "x1": "2024-05-28T01:24:21.080000+08:00",
          "xref": "x",
          "y0": 70228.44,
          "y1": 70228.44,
          "yref": "y"
         },
         {
          "line": {
           "color": "red",
           "dash": "dash"
          },
          "type": "line",
          "x0": "2024-05-28T00:45:37.162000+08:00",
          "x1": "2024-05-28T01:24:21.080000+08:00",
          "xref": "x",
          "y0": 70352.4,
          "y1": 70352.4,
          "yref": "y"
         },
         {
          "line": {
           "color": "red",
           "dash": "dash"
          },
          "type": "line",
          "x0": "2024-05-28T00:45:37.162000+08:00",
          "x1": "2024-05-28T01:24:21.080000+08:00",
          "xref": "x",
          "y0": 70414.38,
          "y1": 70414.38,
          "yref": "y"
         },
         {
          "line": {
           "color": "red",
           "dash": "dash"
          },
          "type": "line",
          "x0": "2024-05-28T00:45:37.162000+08:00",
          "x1": "2024-05-28T01:24:21.080000+08:00",
          "xref": "x",
          "y0": 70476.36,
          "y1": 70476.36,
          "yref": "y"
         },
         {
          "line": {
           "color": "red",
           "dash": "dash"
          },
          "type": "line",
          "x0": "2024-05-28T00:45:37.162000+08:00",
          "x1": "2024-05-28T01:24:21.080000+08:00",
          "xref": "x",
          "y0": 70538.33,
          "y1": 70538.33,
          "yref": "y"
         },
         {
          "line": {
           "color": "red",
           "dash": "dash"
          },
          "type": "line",
          "x0": "2024-05-28T00:45:37.162000+08:00",
          "x1": "2024-05-28T01:24:21.080000+08:00",
          "xref": "x",
          "y0": 70600.31,
          "y1": 70600.31,
          "yref": "y"
         }
        ],
        "template": {
         "data": {
          "bar": [
           {
            "error_x": {
             "color": "#2a3f5f"
            },
            "error_y": {
             "color": "#2a3f5f"
            },
            "marker": {
             "line": {
              "color": "#E5ECF6",
              "width": 0.5
             },
             "pattern": {
              "fillmode": "overlay",
              "size": 10,
              "solidity": 0.2
             }
            },
            "type": "bar"
           }
          ],
          "barpolar": [
           {
            "marker": {
             "line": {
              "color": "#E5ECF6",
              "width": 0.5
             },
             "pattern": {
              "fillmode": "overlay",
              "size": 10,
              "solidity": 0.2
             }
            },
            "type": "barpolar"
           }
          ],
          "carpet": [
           {
            "aaxis": {
             "endlinecolor": "#2a3f5f",
             "gridcolor": "white",
             "linecolor": "white",
             "minorgridcolor": "white",
             "startlinecolor": "#2a3f5f"
            },
            "baxis": {
             "endlinecolor": "#2a3f5f",
             "gridcolor": "white",
             "linecolor": "white",
             "minorgridcolor": "white",
             "startlinecolor": "#2a3f5f"
            },
            "type": "carpet"
           }
          ],
          "choropleth": [
           {
            "colorbar": {
             "outlinewidth": 0,
             "ticks": ""
            },
            "type": "choropleth"
           }
          ],
          "contour": [
           {
            "colorbar": {
             "outlinewidth": 0,
             "ticks": ""
            },
            "colorscale": [
             [
              0,
              "#0d0887"
             ],
             [
              0.1111111111111111,
              "#46039f"
             ],
             [
              0.2222222222222222,
              "#7201a8"
             ],
             [
              0.3333333333333333,
              "#9c179e"
             ],
             [
              0.4444444444444444,
              "#bd3786"
             ],
             [
              0.5555555555555556,
              "#d8576b"
             ],
             [
              0.6666666666666666,
              "#ed7953"
             ],
             [
              0.7777777777777778,
              "#fb9f3a"
             ],
             [
              0.8888888888888888,
              "#fdca26"
             ],
             [
              1,
              "#f0f921"
             ]
            ],
            "type": "contour"
           }
          ],
          "contourcarpet": [
           {
            "colorbar": {
             "outlinewidth": 0,
             "ticks": ""
            },
            "type": "contourcarpet"
           }
          ],
          "heatmap": [
           {
            "colorbar": {
             "outlinewidth": 0,
             "ticks": ""
            },
            "colorscale": [
             [
              0,
              "#0d0887"
             ],
             [
              0.1111111111111111,
              "#46039f"
             ],
             [
              0.2222222222222222,
              "#7201a8"
             ],
             [
              0.3333333333333333,
              "#9c179e"
             ],
             [
              0.4444444444444444,
              "#bd3786"
             ],
             [
              0.5555555555555556,
              "#d8576b"
             ],
             [
              0.6666666666666666,
              "#ed7953"
             ],
             [
              0.7777777777777778,
              "#fb9f3a"
             ],
             [
              0.8888888888888888,
              "#fdca26"
             ],
             [
              1,
              "#f0f921"
             ]
            ],
            "type": "heatmap"
           }
          ],
          "heatmapgl": [
           {
            "colorbar": {
             "outlinewidth": 0,
             "ticks": ""
            },
            "colorscale": [
             [
              0,
              "#0d0887"
             ],
             [
              0.1111111111111111,
              "#46039f"
             ],
             [
              0.2222222222222222,
              "#7201a8"
             ],
             [
              0.3333333333333333,
              "#9c179e"
             ],
             [
              0.4444444444444444,
              "#bd3786"
             ],
             [
              0.5555555555555556,
              "#d8576b"
             ],
             [
              0.6666666666666666,
              "#ed7953"
             ],
             [
              0.7777777777777778,
              "#fb9f3a"
             ],
             [
              0.8888888888888888,
              "#fdca26"
             ],
             [
              1,
              "#f0f921"
             ]
            ],
            "type": "heatmapgl"
           }
          ],
          "histogram": [
           {
            "marker": {
             "pattern": {
              "fillmode": "overlay",
              "size": 10,
              "solidity": 0.2
             }
            },
            "type": "histogram"
           }
          ],
          "histogram2d": [
           {
            "colorbar": {
             "outlinewidth": 0,
             "ticks": ""
            },
            "colorscale": [
             [
              0,
              "#0d0887"
             ],
             [
              0.1111111111111111,
              "#46039f"
             ],
             [
              0.2222222222222222,
              "#7201a8"
             ],
             [
              0.3333333333333333,
              "#9c179e"
             ],
             [
              0.4444444444444444,
              "#bd3786"
             ],
             [
              0.5555555555555556,
              "#d8576b"
             ],
             [
              0.6666666666666666,
              "#ed7953"
             ],
             [
              0.7777777777777778,
              "#fb9f3a"
             ],
             [
              0.8888888888888888,
              "#fdca26"
             ],
             [
              1,
              "#f0f921"
             ]
            ],
            "type": "histogram2d"
           }
          ],
          "histogram2dcontour": [
           {
            "colorbar": {
             "outlinewidth": 0,
             "ticks": ""
            },
            "colorscale": [
             [
              0,
              "#0d0887"
             ],
             [
              0.1111111111111111,
              "#46039f"
             ],
             [
              0.2222222222222222,
              "#7201a8"
             ],
             [
              0.3333333333333333,
              "#9c179e"
             ],
             [
              0.4444444444444444,
              "#bd3786"
             ],
             [
              0.5555555555555556,
              "#d8576b"
             ],
             [
              0.6666666666666666,
              "#ed7953"
             ],
             [
              0.7777777777777778,
              "#fb9f3a"
             ],
             [
              0.8888888888888888,
              "#fdca26"
             ],
             [
              1,
              "#f0f921"
             ]
            ],
            "type": "histogram2dcontour"
           }
          ],
          "mesh3d": [
           {
            "colorbar": {
             "outlinewidth": 0,
             "ticks": ""
            },
            "type": "mesh3d"
           }
          ],
          "parcoords": [
           {
            "line": {
             "colorbar": {
              "outlinewidth": 0,
              "ticks": ""
             }
            },
            "type": "parcoords"
           }
          ],
          "pie": [
           {
            "automargin": true,
            "type": "pie"
           }
          ],
          "scatter": [
           {
            "fillpattern": {
             "fillmode": "overlay",
             "size": 10,
             "solidity": 0.2
            },
            "type": "scatter"
           }
          ],
          "scatter3d": [
           {
            "line": {
             "colorbar": {
              "outlinewidth": 0,
              "ticks": ""
             }
            },
            "marker": {
             "colorbar": {
              "outlinewidth": 0,
              "ticks": ""
             }
            },
            "type": "scatter3d"
           }
          ],
          "scattercarpet": [
           {
            "marker": {
             "colorbar": {
              "outlinewidth": 0,
              "ticks": ""
             }
            },
            "type": "scattercarpet"
           }
          ],
          "scattergeo": [
           {
            "marker": {
             "colorbar": {
              "outlinewidth": 0,
              "ticks": ""
             }
            },
            "type": "scattergeo"
           }
          ],
          "scattergl": [
           {
            "marker": {
             "colorbar": {
              "outlinewidth": 0,
              "ticks": ""
             }
            },
            "type": "scattergl"
           }
          ],
          "scattermapbox": [
           {
            "marker": {
             "colorbar": {
              "outlinewidth": 0,
              "ticks": ""
             }
            },
            "type": "scattermapbox"
           }
          ],
          "scatterpolar": [
           {
            "marker": {
             "colorbar": {
              "outlinewidth": 0,
              "ticks": ""
             }
            },
            "type": "scatterpolar"
           }
          ],
          "scatterpolargl": [
           {
            "marker": {
             "colorbar": {
              "outlinewidth": 0,
              "ticks": ""
             }
            },
            "type": "scatterpolargl"
           }
          ],
          "scatterternary": [
           {
            "marker": {
             "colorbar": {
              "outlinewidth": 0,
              "ticks": ""
             }
            },
            "type": "scatterternary"
           }
          ],
          "surface": [
           {
            "colorbar": {
             "outlinewidth": 0,
             "ticks": ""
            },
            "colorscale": [
             [
              0,
              "#0d0887"
             ],
             [
              0.1111111111111111,
              "#46039f"
             ],
             [
              0.2222222222222222,
              "#7201a8"
             ],
             [
              0.3333333333333333,
              "#9c179e"
             ],
             [
              0.4444444444444444,
              "#bd3786"
             ],
             [
              0.5555555555555556,
              "#d8576b"
             ],
             [
              0.6666666666666666,
              "#ed7953"
             ],
             [
              0.7777777777777778,
              "#fb9f3a"
             ],
             [
              0.8888888888888888,
              "#fdca26"
             ],
             [
              1,
              "#f0f921"
             ]
            ],
            "type": "surface"
           }
          ],
          "table": [
           {
            "cells": {
             "fill": {
              "color": "#EBF0F8"
             },
             "line": {
              "color": "white"
             }
            },
            "header": {
             "fill": {
              "color": "#C8D4E3"
             },
             "line": {
              "color": "white"
             }
            },
            "type": "table"
           }
          ]
         },
         "layout": {
          "annotationdefaults": {
           "arrowcolor": "#2a3f5f",
           "arrowhead": 0,
           "arrowwidth": 1
          },
          "autotypenumbers": "strict",
          "coloraxis": {
           "colorbar": {
            "outlinewidth": 0,
            "ticks": ""
           }
          },
          "colorscale": {
           "diverging": [
            [
             0,
             "#8e0152"
            ],
            [
             0.1,
             "#c51b7d"
            ],
            [
             0.2,
             "#de77ae"
            ],
            [
             0.3,
             "#f1b6da"
            ],
            [
             0.4,
             "#fde0ef"
            ],
            [
             0.5,
             "#f7f7f7"
            ],
            [
             0.6,
             "#e6f5d0"
            ],
            [
             0.7,
             "#b8e186"
            ],
            [
             0.8,
             "#7fbc41"
            ],
            [
             0.9,
             "#4d9221"
            ],
            [
             1,
             "#276419"
            ]
           ],
           "sequential": [
            [
             0,
             "#0d0887"
            ],
            [
             0.1111111111111111,
             "#46039f"
            ],
            [
             0.2222222222222222,
             "#7201a8"
            ],
            [
             0.3333333333333333,
             "#9c179e"
            ],
            [
             0.4444444444444444,
             "#bd3786"
            ],
            [
             0.5555555555555556,
             "#d8576b"
            ],
            [
             0.6666666666666666,
             "#ed7953"
            ],
            [
             0.7777777777777778,
             "#fb9f3a"
            ],
            [
             0.8888888888888888,
             "#fdca26"
            ],
            [
             1,
             "#f0f921"
            ]
           ],
           "sequentialminus": [
            [
             0,
             "#0d0887"
            ],
            [
             0.1111111111111111,
             "#46039f"
            ],
            [
             0.2222222222222222,
             "#7201a8"
            ],
            [
             0.3333333333333333,
             "#9c179e"
            ],
            [
             0.4444444444444444,
             "#bd3786"
            ],
            [
             0.5555555555555556,
             "#d8576b"
            ],
            [
             0.6666666666666666,
             "#ed7953"
            ],
            [
             0.7777777777777778,
             "#fb9f3a"
            ],
            [
             0.8888888888888888,
             "#fdca26"
            ],
            [
             1,
             "#f0f921"
            ]
           ]
          },
          "colorway": [
           "#636efa",
           "#EF553B",
           "#00cc96",
           "#ab63fa",
           "#FFA15A",
           "#19d3f3",
           "#FF6692",
           "#B6E880",
           "#FF97FF",
           "#FECB52"
          ],
          "font": {
           "color": "#2a3f5f"
          },
          "geo": {
           "bgcolor": "white",
           "lakecolor": "white",
           "landcolor": "#E5ECF6",
           "showlakes": true,
           "showland": true,
           "subunitcolor": "white"
          },
          "hoverlabel": {
           "align": "left"
          },
          "hovermode": "closest",
          "mapbox": {
           "style": "light"
          },
          "paper_bgcolor": "white",
          "plot_bgcolor": "#E5ECF6",
          "polar": {
           "angularaxis": {
            "gridcolor": "white",
            "linecolor": "white",
            "ticks": ""
           },
           "bgcolor": "#E5ECF6",
           "radialaxis": {
            "gridcolor": "white",
            "linecolor": "white",
            "ticks": ""
           }
          },
          "scene": {
           "xaxis": {
            "backgroundcolor": "#E5ECF6",
            "gridcolor": "white",
            "gridwidth": 2,
            "linecolor": "white",
            "showbackground": true,
            "ticks": "",
            "zerolinecolor": "white"
           },
           "yaxis": {
            "backgroundcolor": "#E5ECF6",
            "gridcolor": "white",
            "gridwidth": 2,
            "linecolor": "white",
            "showbackground": true,
            "ticks": "",
            "zerolinecolor": "white"
           },
           "zaxis": {
            "backgroundcolor": "#E5ECF6",
            "gridcolor": "white",
            "gridwidth": 2,
            "linecolor": "white",
            "showbackground": true,
            "ticks": "",
            "zerolinecolor": "white"
           }
          },
          "shapedefaults": {
           "line": {
            "color": "#2a3f5f"
           }
          },
          "ternary": {
           "aaxis": {
            "gridcolor": "white",
            "linecolor": "white",
            "ticks": ""
           },
           "baxis": {
            "gridcolor": "white",
            "linecolor": "white",
            "ticks": ""
           },
           "bgcolor": "#E5ECF6",
           "caxis": {
            "gridcolor": "white",
            "linecolor": "white",
            "ticks": ""
           }
          },
          "title": {
           "x": 0.05
          },
          "xaxis": {
           "automargin": true,
           "gridcolor": "white",
           "linecolor": "white",
           "ticks": "",
           "title": {
            "standoff": 15
           },
           "zerolinecolor": "white",
           "zerolinewidth": 2
          },
          "yaxis": {
           "automargin": true,
           "gridcolor": "white",
           "linecolor": "white",
           "ticks": "",
           "title": {
            "standoff": 15
           },
           "zerolinecolor": "white",
           "zerolinewidth": 2
          }
         }
        },
        "title": {
         "text": "BTCFDUSD"
        },
        "width": 1500,
        "xaxis": {
         "anchor": "y",
         "domain": [
          0,
          1
         ],
         "matches": "x6",
         "rangeslider": {
          "visible": false
         },
         "showticklabels": false
        },
        "xaxis2": {
         "anchor": "y2",
         "domain": [
          0,
          1
         ],
         "matches": "x6",
         "showticklabels": false
        },
        "xaxis3": {
         "anchor": "y3",
         "domain": [
          0,
          1
         ],
         "matches": "x6",
         "showticklabels": false
        },
        "xaxis4": {
         "anchor": "y4",
         "domain": [
          0,
          1
         ],
         "matches": "x6",
         "showticklabels": false
        },
        "xaxis5": {
         "anchor": "y5",
         "domain": [
          0,
          1
         ],
         "matches": "x6",
         "showticklabels": false
        },
        "xaxis6": {
         "anchor": "y6",
         "domain": [
          0,
          1
         ]
        },
        "yaxis": {
         "anchor": "x",
         "domain": [
          0.6470588235294118,
          1
         ]
        },
        "yaxis2": {
         "anchor": "x2",
         "domain": [
          0.5529411764705883,
          0.5970588235294118
         ]
        },
        "yaxis3": {
         "anchor": "x3",
         "domain": [
          0.4147058823529412,
          0.5029411764705882
         ]
        },
        "yaxis4": {
         "anchor": "x4",
         "domain": [
          0.27647058823529413,
          0.3647058823529412
         ]
        },
        "yaxis5": {
         "anchor": "x5",
         "domain": [
          0.13823529411764707,
          0.22647058823529415
         ]
        },
        "yaxis6": {
         "anchor": "x6",
         "domain": [
          0,
          0.08823529411764706
         ]
        }
       }
      }
     },
     "metadata": {},
     "output_type": "display_data"
    },
    {
     "data": {
      "text/html": [
       "<div>\n",
       "<style scoped>\n",
       "    .dataframe tbody tr th:only-of-type {\n",
       "        vertical-align: middle;\n",
       "    }\n",
       "\n",
       "    .dataframe tbody tr th {\n",
       "        vertical-align: top;\n",
       "    }\n",
       "\n",
       "    .dataframe thead th {\n",
       "        text-align: right;\n",
       "    }\n",
       "</style>\n",
       "<table border=\"1\" class=\"dataframe\">\n",
       "  <thead>\n",
       "    <tr style=\"text-align: right;\">\n",
       "      <th></th>\n",
       "      <th>Measure</th>\n",
       "      <th>grid_SOLv1</th>\n",
       "    </tr>\n",
       "  </thead>\n",
       "  <tbody>\n",
       "    <tr>\n",
       "      <th>0</th>\n",
       "      <td>Pnl</td>\n",
       "      <td>1.6975</td>\n",
       "    </tr>\n",
       "    <tr>\n",
       "      <th>1</th>\n",
       "      <td>Trading Fee</td>\n",
       "      <td>0.0000</td>\n",
       "    </tr>\n",
       "    <tr>\n",
       "      <th>2</th>\n",
       "      <td>Cumulative Return</td>\n",
       "      <td>1.0017</td>\n",
       "    </tr>\n",
       "    <tr>\n",
       "      <th>3</th>\n",
       "      <td>Annualized Return</td>\n",
       "      <td>5.8664</td>\n",
       "    </tr>\n",
       "    <tr>\n",
       "      <th>4</th>\n",
       "      <td>Annualized Volatility</td>\n",
       "      <td>0.0902</td>\n",
       "    </tr>\n",
       "    <tr>\n",
       "      <th>5</th>\n",
       "      <td>Annualized Sharpe Ratio</td>\n",
       "      <td>64.4673</td>\n",
       "    </tr>\n",
       "    <tr>\n",
       "      <th>6</th>\n",
       "      <td>Maximum Drawdown</td>\n",
       "      <td>-0.0007</td>\n",
       "    </tr>\n",
       "  </tbody>\n",
       "</table>\n",
       "</div>"
      ],
      "text/plain": [
       "                   Measure  grid_SOLv1\n",
       "0                      Pnl      1.6975\n",
       "1              Trading Fee      0.0000\n",
       "2        Cumulative Return      1.0017\n",
       "3        Annualized Return      5.8664\n",
       "4    Annualized Volatility      0.0902\n",
       "5  Annualized Sharpe Ratio     64.4673\n",
       "6         Maximum Drawdown     -0.0007"
      ]
     },
     "metadata": {},
     "output_type": "display_data"
    },
    {
     "data": {
      "application/vnd.plotly.v1+json": {
       "config": {
        "plotlyServerURL": "https://plot.ly"
       },
       "data": [
        {
         "close": [
          171.27,
          171.63,
          171.5,
          171.97,
          171.69,
          171.73,
          171.04,
          171.31,
          171.08,
          171.03,
          171.89,
          171.54,
          171.89,
          172.07,
          172.15,
          171.69,
          171.55,
          172.11,
          171.8,
          171.85,
          171.76,
          171.6,
          171.32,
          171.25,
          171.37,
          171.52,
          171.33,
          171.12,
          171.12,
          171.11
         ],
         "high": [
          171.52,
          171.74,
          171.9,
          172.04,
          171.98,
          172.14,
          171.89,
          171.37,
          171.56,
          171.1,
          172,
          171.92,
          172.11,
          172.11,
          172.33,
          172.34,
          171.98,
          172.31,
          172.16,
          171.98,
          171.91,
          171.93,
          171.67,
          171.66,
          171.55,
          171.66,
          171.75,
          171.64,
          171.38,
          171.28
         ],
         "legendgroup": "OHCL",
         "low": [
          171.05,
          171.02,
          171.43,
          171.43,
          171.23,
          171.66,
          170.88,
          170.71,
          170.98,
          170.51,
          170.98,
          171.42,
          171.49,
          171.87,
          171.98,
          171.6,
          171.34,
          171.45,
          171.72,
          171.71,
          171.63,
          171.25,
          171.19,
          171.23,
          171.24,
          171.31,
          171.3,
          171.05,
          170.95,
          171.06
         ],
         "name": "OHLC",
         "open": [
          171.07,
          171.28,
          171.62,
          171.5,
          171.98,
          171.68,
          171.75,
          171.03,
          171.31,
          171.08,
          170.99,
          171.89,
          171.55,
          171.91,
          172.1,
          172.16,
          171.71,
          171.55,
          172.1,
          171.82,
          171.85,
          171.75,
          171.62,
          171.31,
          171.28,
          171.38,
          171.52,
          171.33,
          171.1,
          171.09
         ],
         "type": "candlestick",
         "x": [
          "2024-05-28T00:00:00+08:00",
          "2024-05-28T00:05:00+08:00",
          "2024-05-28T00:10:00+08:00",
          "2024-05-28T00:15:00+08:00",
          "2024-05-28T00:20:00+08:00",
          "2024-05-28T00:25:00+08:00",
          "2024-05-28T00:30:00+08:00",
          "2024-05-28T00:35:00+08:00",
          "2024-05-28T00:40:00+08:00",
          "2024-05-28T00:45:00+08:00",
          "2024-05-28T00:50:00+08:00",
          "2024-05-28T00:55:00+08:00",
          "2024-05-28T01:00:00+08:00",
          "2024-05-28T01:05:00+08:00",
          "2024-05-28T01:10:00+08:00",
          "2024-05-28T01:15:00+08:00",
          "2024-05-28T01:20:00+08:00",
          "2024-05-28T01:25:00+08:00",
          "2024-05-28T01:30:00+08:00",
          "2024-05-28T01:35:00+08:00",
          "2024-05-28T01:40:00+08:00",
          "2024-05-28T01:45:00+08:00",
          "2024-05-28T01:50:00+08:00",
          "2024-05-28T01:55:00+08:00",
          "2024-05-28T02:00:00+08:00",
          "2024-05-28T02:05:00+08:00",
          "2024-05-28T02:10:00+08:00",
          "2024-05-28T02:15:00+08:00",
          "2024-05-28T02:20:00+08:00",
          "2024-05-28T02:25:00+08:00"
         ],
         "xaxis": "x",
         "yaxis": "y"
        },
        {
         "legendgroup": "SMA 20d",
         "marker": {
          "color": "rgb(31, 119, 180)"
         },
         "name": "SMA 20d",
         "type": "scatter",
         "x": [
          "2024-05-28T00:00:00+08:00",
          "2024-05-28T00:05:00+08:00",
          "2024-05-28T00:10:00+08:00",
          "2024-05-28T00:15:00+08:00",
          "2024-05-28T00:20:00+08:00",
          "2024-05-28T00:25:00+08:00",
          "2024-05-28T00:30:00+08:00",
          "2024-05-28T00:35:00+08:00",
          "2024-05-28T00:40:00+08:00",
          "2024-05-28T00:45:00+08:00",
          "2024-05-28T00:50:00+08:00",
          "2024-05-28T00:55:00+08:00",
          "2024-05-28T01:00:00+08:00",
          "2024-05-28T01:05:00+08:00",
          "2024-05-28T01:10:00+08:00",
          "2024-05-28T01:15:00+08:00",
          "2024-05-28T01:20:00+08:00",
          "2024-05-28T01:25:00+08:00",
          "2024-05-28T01:30:00+08:00",
          "2024-05-28T01:35:00+08:00",
          "2024-05-28T01:40:00+08:00",
          "2024-05-28T01:45:00+08:00",
          "2024-05-28T01:50:00+08:00",
          "2024-05-28T01:55:00+08:00",
          "2024-05-28T02:00:00+08:00",
          "2024-05-28T02:05:00+08:00",
          "2024-05-28T02:10:00+08:00",
          "2024-05-28T02:15:00+08:00",
          "2024-05-28T02:20:00+08:00",
          "2024-05-28T02:25:00+08:00"
         ],
         "xaxis": "x",
         "y": [
          null,
          null,
          null,
          null,
          null,
          null,
          null,
          null,
          null,
          null,
          null,
          null,
          null,
          null,
          null,
          null,
          null,
          null,
          null,
          null,
          171.6395,
          171.66400000000002,
          171.6625,
          171.65349999999998,
          171.6175,
          171.60150000000002,
          171.591,
          171.6055,
          171.596,
          171.598
         ],
         "yaxis": "y"
        },
        {
         "marker": {
          "color": "rgb(44, 160, 44)"
         },
         "showlegend": false,
         "type": "bar",
         "x": [
          "2024-05-28T00:00:00+08:00",
          "2024-05-28T00:05:00+08:00",
          "2024-05-28T00:15:00+08:00",
          "2024-05-28T00:25:00+08:00",
          "2024-05-28T00:35:00+08:00",
          "2024-05-28T00:50:00+08:00",
          "2024-05-28T01:00:00+08:00",
          "2024-05-28T01:05:00+08:00",
          "2024-05-28T01:10:00+08:00",
          "2024-05-28T01:25:00+08:00",
          "2024-05-28T01:35:00+08:00",
          "2024-05-28T02:00:00+08:00",
          "2024-05-28T02:05:00+08:00",
          "2024-05-28T02:20:00+08:00",
          "2024-05-28T02:25:00+08:00"
         ],
         "xaxis": "x2",
         "y": [
          7181.889,
          8719.472,
          8129.184,
          4643.664,
          5574.588,
          7536.581,
          6643.187,
          2991.867,
          3273.631,
          4934.565,
          2970.142,
          3847.236,
          3049.395,
          3422.369,
          1628.336
         ],
         "yaxis": "y2"
        },
        {
         "marker": {
          "color": "rgb(214, 39, 40)"
         },
         "showlegend": false,
         "type": "bar",
         "x": [
          "2024-05-28T00:10:00+08:00",
          "2024-05-28T00:20:00+08:00",
          "2024-05-28T00:30:00+08:00",
          "2024-05-28T00:40:00+08:00",
          "2024-05-28T00:45:00+08:00",
          "2024-05-28T00:55:00+08:00",
          "2024-05-28T01:15:00+08:00",
          "2024-05-28T01:20:00+08:00",
          "2024-05-28T01:30:00+08:00",
          "2024-05-28T01:40:00+08:00",
          "2024-05-28T01:45:00+08:00",
          "2024-05-28T01:50:00+08:00",
          "2024-05-28T01:55:00+08:00",
          "2024-05-28T02:10:00+08:00",
          "2024-05-28T02:15:00+08:00"
         ],
         "xaxis": "x2",
         "y": [
          9973.556,
          6055.176,
          6097.094,
          3989.975,
          4706.391,
          3366.08,
          3948.244,
          4470.501,
          3535.889,
          1760.711,
          3024.461,
          2776.463,
          2255.63,
          2350.236,
          4007.401
         ],
         "yaxis": "y2"
        },
        {
         "marker": {
          "color": "green",
          "size": 15,
          "symbol": 5
         },
         "mode": "markers",
         "name": "Buy",
         "type": "scatter",
         "x": [
          "2024-05-28T00:48:00.383000+08:00",
          "2024-05-28T00:46:36.300000+08:00",
          "2024-05-28T01:10:29.064000+08:00",
          "2024-05-28T01:10:47.059000+08:00",
          "2024-05-28T02:19:25.464000+08:00",
          "2024-05-28T02:19:22.624000+08:00",
          "2024-05-28T01:47:51.270000+08:00"
         ],
         "xaxis": "x",
         "y": [
          170.59,
          170.73000000000002,
          172.16000000000003,
          172.29000000000002,
          171.05,
          171.17,
          171.3
         ],
         "yaxis": "y"
        },
        {
         "marker": {
          "color": "red",
          "size": 15,
          "symbol": 6
         },
         "mode": "markers",
         "name": "Sell",
         "type": "scatter",
         "x": [
          "2024-05-28T00:49:08.560000+08:00",
          "2024-05-28T00:50:23.374000+08:00",
          "2024-05-28T01:24:41.146000+08:00",
          "2024-05-28T01:26:13.034000+08:00",
          "2024-05-28T01:26:20.848000+08:00",
          "2024-05-28T01:26:44.951000+08:00",
          "2024-05-28T01:27:13.950000+08:00"
         ],
         "xaxis": "x",
         "y": [
          171.01,
          171.15,
          171.56,
          171.69,
          171.81,
          171.94,
          172.07
         ],
         "yaxis": "y"
        },
        {
         "marker": {
          "color": "green",
          "size": 15,
          "symbol": "x"
         },
         "mode": "markers",
         "name": "Buy to Close",
         "type": "scatter",
         "x": [],
         "xaxis": "x",
         "y": [],
         "yaxis": "y"
        },
        {
         "marker": {
          "color": "red",
          "size": 15,
          "symbol": "x"
         },
         "mode": "markers",
         "name": "Sell to Close",
         "type": "scatter",
         "x": [
          "2024-05-28T01:23:57.562000+08:00"
         ],
         "xaxis": "x",
         "y": [
          171.59
         ],
         "yaxis": "y"
        },
        {
         "name": "Cumulative Return (%)",
         "type": "scatter",
         "x": [
          "2024-05-28T00:00:00+08:00",
          "2024-05-28T00:05:00+08:00",
          "2024-05-28T00:10:00+08:00",
          "2024-05-28T00:15:00+08:00",
          "2024-05-28T00:20:00+08:00",
          "2024-05-28T00:25:00+08:00",
          "2024-05-28T00:30:00+08:00",
          "2024-05-28T00:35:00+08:00",
          "2024-05-28T00:40:00+08:00",
          "2024-05-28T00:45:00+08:00",
          "2024-05-28T00:50:00+08:00",
          "2024-05-28T00:55:00+08:00",
          "2024-05-28T01:00:00+08:00",
          "2024-05-28T01:05:00+08:00",
          "2024-05-28T01:10:00+08:00",
          "2024-05-28T01:15:00+08:00",
          "2024-05-28T01:20:00+08:00",
          "2024-05-28T01:25:00+08:00",
          "2024-05-28T01:30:00+08:00",
          "2024-05-28T01:35:00+08:00",
          "2024-05-28T01:40:00+08:00",
          "2024-05-28T01:45:00+08:00",
          "2024-05-28T01:50:00+08:00",
          "2024-05-28T01:55:00+08:00",
          "2024-05-28T02:00:00+08:00",
          "2024-05-28T02:05:00+08:00",
          "2024-05-28T02:10:00+08:00",
          "2024-05-28T02:15:00+08:00",
          "2024-05-28T02:20:00+08:00",
          "2024-05-28T02:25:00+08:00"
         ],
         "xaxis": "x3",
         "y": [
          0,
          0,
          0,
          0,
          0,
          0,
          0,
          0,
          0,
          0,
          0.04913999999999854,
          0.04913999999999854,
          0.04913999999999854,
          0.04913999999999854,
          0.04913999999999854,
          0.04913999999999854,
          0.04913999999999854,
          -0.024393000000003683,
          -0.024393000000003683,
          -0.024393000000003683,
          -0.024393000000003683,
          -0.024393000000003683,
          -0.009235000000004214,
          -0.009235000000004214,
          -0.009235000000004214,
          -0.009235000000004214,
          -0.009235000000004214,
          -0.009235000000004214,
          0.06538899999999584,
          0.16974599999999374
         ],
         "yaxis": "y3"
        },
        {
         "name": "Cumulative Return (%) - Mean Revert",
         "type": "scatter",
         "visible": "legendonly",
         "x": [
          "2024-05-28T00:00:00+08:00",
          "2024-05-28T00:05:00+08:00",
          "2024-05-28T00:10:00+08:00",
          "2024-05-28T00:15:00+08:00",
          "2024-05-28T00:20:00+08:00",
          "2024-05-28T00:25:00+08:00",
          "2024-05-28T00:30:00+08:00",
          "2024-05-28T00:35:00+08:00",
          "2024-05-28T00:40:00+08:00",
          "2024-05-28T00:45:00+08:00",
          "2024-05-28T00:50:00+08:00",
          "2024-05-28T00:55:00+08:00",
          "2024-05-28T01:00:00+08:00",
          "2024-05-28T01:05:00+08:00",
          "2024-05-28T01:10:00+08:00",
          "2024-05-28T01:15:00+08:00",
          "2024-05-28T01:20:00+08:00",
          "2024-05-28T01:25:00+08:00",
          "2024-05-28T01:30:00+08:00",
          "2024-05-28T01:35:00+08:00",
          "2024-05-28T01:40:00+08:00",
          "2024-05-28T01:45:00+08:00",
          "2024-05-28T01:50:00+08:00",
          "2024-05-28T01:55:00+08:00",
          "2024-05-28T02:00:00+08:00",
          "2024-05-28T02:05:00+08:00",
          "2024-05-28T02:10:00+08:00",
          "2024-05-28T02:15:00+08:00",
          "2024-05-28T02:20:00+08:00",
          "2024-05-28T02:25:00+08:00"
         ],
         "xaxis": "x3",
         "y": [
          0,
          0,
          0,
          0,
          0,
          0,
          0,
          0,
          0,
          0,
          0.04913999999999854,
          0.04913999999999854,
          0.04913999999999854,
          0.04913999999999854,
          0.04913999999999854,
          0.04913999999999854,
          0.04913999999999854,
          0.04913999999999854,
          0.04913999999999854,
          0.04913999999999854,
          0.04913999999999854,
          0.04913999999999854,
          0.06429799999999801,
          0.06429799999999801,
          0.06429799999999801,
          0.06429799999999801,
          0.06429799999999801,
          0.06429799999999801,
          0.13892199999999807,
          0.243278999999996
         ],
         "yaxis": "y3"
        },
        {
         "name": "Cumulative Return (%) - Momentum Up",
         "type": "scatter",
         "visible": "legendonly",
         "x": [
          "2024-05-28T00:00:00+08:00",
          "2024-05-28T00:05:00+08:00",
          "2024-05-28T00:10:00+08:00",
          "2024-05-28T00:15:00+08:00",
          "2024-05-28T00:20:00+08:00",
          "2024-05-28T00:25:00+08:00",
          "2024-05-28T00:30:00+08:00",
          "2024-05-28T00:35:00+08:00",
          "2024-05-28T00:40:00+08:00",
          "2024-05-28T00:45:00+08:00",
          "2024-05-28T00:50:00+08:00",
          "2024-05-28T00:55:00+08:00",
          "2024-05-28T01:00:00+08:00",
          "2024-05-28T01:05:00+08:00",
          "2024-05-28T01:10:00+08:00",
          "2024-05-28T01:15:00+08:00",
          "2024-05-28T01:20:00+08:00",
          "2024-05-28T01:25:00+08:00",
          "2024-05-28T01:30:00+08:00",
          "2024-05-28T01:35:00+08:00",
          "2024-05-28T01:40:00+08:00",
          "2024-05-28T01:45:00+08:00",
          "2024-05-28T01:50:00+08:00",
          "2024-05-28T01:55:00+08:00",
          "2024-05-28T02:00:00+08:00",
          "2024-05-28T02:05:00+08:00",
          "2024-05-28T02:10:00+08:00",
          "2024-05-28T02:15:00+08:00",
          "2024-05-28T02:20:00+08:00",
          "2024-05-28T02:25:00+08:00"
         ],
         "xaxis": "x3",
         "y": [
          0,
          0,
          0,
          0,
          0,
          0,
          0,
          0,
          0,
          0,
          0,
          0,
          0,
          0,
          0,
          0,
          0,
          -0.07353300000000222,
          -0.07353300000000222,
          -0.07353300000000222,
          -0.07353300000000222,
          -0.07353300000000222,
          -0.07353300000000222,
          -0.07353300000000222,
          -0.07353300000000222,
          -0.07353300000000222,
          -0.07353300000000222,
          -0.07353300000000222,
          -0.07353300000000222,
          -0.07353300000000222
         ],
         "yaxis": "y3"
        },
        {
         "name": "Cumulative Return (%) - Momentum Down",
         "type": "scatter",
         "visible": "legendonly",
         "x": [
          "2024-05-28T00:00:00+08:00",
          "2024-05-28T00:05:00+08:00",
          "2024-05-28T00:10:00+08:00",
          "2024-05-28T00:15:00+08:00",
          "2024-05-28T00:20:00+08:00",
          "2024-05-28T00:25:00+08:00",
          "2024-05-28T00:30:00+08:00",
          "2024-05-28T00:35:00+08:00",
          "2024-05-28T00:40:00+08:00",
          "2024-05-28T00:45:00+08:00",
          "2024-05-28T00:50:00+08:00",
          "2024-05-28T00:55:00+08:00",
          "2024-05-28T01:00:00+08:00",
          "2024-05-28T01:05:00+08:00",
          "2024-05-28T01:10:00+08:00",
          "2024-05-28T01:15:00+08:00",
          "2024-05-28T01:20:00+08:00",
          "2024-05-28T01:25:00+08:00",
          "2024-05-28T01:30:00+08:00",
          "2024-05-28T01:35:00+08:00",
          "2024-05-28T01:40:00+08:00",
          "2024-05-28T01:45:00+08:00",
          "2024-05-28T01:50:00+08:00",
          "2024-05-28T01:55:00+08:00",
          "2024-05-28T02:00:00+08:00",
          "2024-05-28T02:05:00+08:00",
          "2024-05-28T02:10:00+08:00",
          "2024-05-28T02:15:00+08:00",
          "2024-05-28T02:20:00+08:00",
          "2024-05-28T02:25:00+08:00"
         ],
         "xaxis": "x3",
         "y": [
          0,
          0,
          0,
          0,
          0,
          0,
          0,
          0,
          0,
          0,
          0,
          0,
          0,
          0,
          0,
          0,
          0,
          0,
          0,
          0,
          0,
          0,
          0,
          0,
          0,
          0,
          0,
          0,
          0,
          0
         ],
         "yaxis": "y3"
        },
        {
         "name": "Cumulative PnL (Fiat)",
         "type": "scatter",
         "visible": "legendonly",
         "x": [
          "2024-05-28T00:00:00+08:00",
          "2024-05-28T00:05:00+08:00",
          "2024-05-28T00:10:00+08:00",
          "2024-05-28T00:15:00+08:00",
          "2024-05-28T00:20:00+08:00",
          "2024-05-28T00:25:00+08:00",
          "2024-05-28T00:30:00+08:00",
          "2024-05-28T00:35:00+08:00",
          "2024-05-28T00:40:00+08:00",
          "2024-05-28T00:45:00+08:00",
          "2024-05-28T00:50:00+08:00",
          "2024-05-28T00:55:00+08:00",
          "2024-05-28T01:00:00+08:00",
          "2024-05-28T01:05:00+08:00",
          "2024-05-28T01:10:00+08:00",
          "2024-05-28T01:15:00+08:00",
          "2024-05-28T01:20:00+08:00",
          "2024-05-28T01:25:00+08:00",
          "2024-05-28T01:30:00+08:00",
          "2024-05-28T01:35:00+08:00",
          "2024-05-28T01:40:00+08:00",
          "2024-05-28T01:45:00+08:00",
          "2024-05-28T01:50:00+08:00",
          "2024-05-28T01:55:00+08:00",
          "2024-05-28T02:00:00+08:00",
          "2024-05-28T02:05:00+08:00",
          "2024-05-28T02:10:00+08:00",
          "2024-05-28T02:15:00+08:00",
          "2024-05-28T02:20:00+08:00",
          "2024-05-28T02:25:00+08:00"
         ],
         "xaxis": "x3",
         "y": [
          0,
          0,
          0,
          0,
          0,
          0,
          0,
          0,
          0,
          0,
          0.4913999999999854,
          0.4913999999999854,
          0.4913999999999854,
          0.4913999999999854,
          0.4913999999999854,
          0.4913999999999854,
          0.4913999999999854,
          -0.24393000000003684,
          -0.24393000000003684,
          -0.24393000000003684,
          -0.24393000000003684,
          -0.24393000000003684,
          -0.09235000000004215,
          -0.09235000000004215,
          -0.09235000000004215,
          -0.09235000000004215,
          -0.09235000000004215,
          -0.09235000000004215,
          0.6538899999999584,
          1.6974599999999374
         ],
         "yaxis": "y3"
        },
        {
         "name": "Cumulative PnL (Fiat) - Mean Revert",
         "type": "scatter",
         "visible": "legendonly",
         "x": [
          "2024-05-28T00:00:00+08:00",
          "2024-05-28T00:05:00+08:00",
          "2024-05-28T00:10:00+08:00",
          "2024-05-28T00:15:00+08:00",
          "2024-05-28T00:20:00+08:00",
          "2024-05-28T00:25:00+08:00",
          "2024-05-28T00:30:00+08:00",
          "2024-05-28T00:35:00+08:00",
          "2024-05-28T00:40:00+08:00",
          "2024-05-28T00:45:00+08:00",
          "2024-05-28T00:50:00+08:00",
          "2024-05-28T00:55:00+08:00",
          "2024-05-28T01:00:00+08:00",
          "2024-05-28T01:05:00+08:00",
          "2024-05-28T01:10:00+08:00",
          "2024-05-28T01:15:00+08:00",
          "2024-05-28T01:20:00+08:00",
          "2024-05-28T01:25:00+08:00",
          "2024-05-28T01:30:00+08:00",
          "2024-05-28T01:35:00+08:00",
          "2024-05-28T01:40:00+08:00",
          "2024-05-28T01:45:00+08:00",
          "2024-05-28T01:50:00+08:00",
          "2024-05-28T01:55:00+08:00",
          "2024-05-28T02:00:00+08:00",
          "2024-05-28T02:05:00+08:00",
          "2024-05-28T02:10:00+08:00",
          "2024-05-28T02:15:00+08:00",
          "2024-05-28T02:20:00+08:00",
          "2024-05-28T02:25:00+08:00"
         ],
         "xaxis": "x3",
         "y": [
          0,
          0,
          0,
          0,
          0,
          0,
          0,
          0,
          0,
          0,
          0.4913999999999854,
          0.4913999999999854,
          0.4913999999999854,
          0.4913999999999854,
          0.4913999999999854,
          0.4913999999999854,
          0.4913999999999854,
          0.4913999999999854,
          0.4913999999999854,
          0.4913999999999854,
          0.4913999999999854,
          0.4913999999999854,
          0.6429799999999801,
          0.6429799999999801,
          0.6429799999999801,
          0.6429799999999801,
          0.6429799999999801,
          0.6429799999999801,
          1.3892199999999808,
          2.43278999999996
         ],
         "yaxis": "y3"
        },
        {
         "name": "Cumulative PnL (Fiat) - Momentum Up",
         "type": "scatter",
         "visible": "legendonly",
         "x": [
          "2024-05-28T00:00:00+08:00",
          "2024-05-28T00:05:00+08:00",
          "2024-05-28T00:10:00+08:00",
          "2024-05-28T00:15:00+08:00",
          "2024-05-28T00:20:00+08:00",
          "2024-05-28T00:25:00+08:00",
          "2024-05-28T00:30:00+08:00",
          "2024-05-28T00:35:00+08:00",
          "2024-05-28T00:40:00+08:00",
          "2024-05-28T00:45:00+08:00",
          "2024-05-28T00:50:00+08:00",
          "2024-05-28T00:55:00+08:00",
          "2024-05-28T01:00:00+08:00",
          "2024-05-28T01:05:00+08:00",
          "2024-05-28T01:10:00+08:00",
          "2024-05-28T01:15:00+08:00",
          "2024-05-28T01:20:00+08:00",
          "2024-05-28T01:25:00+08:00",
          "2024-05-28T01:30:00+08:00",
          "2024-05-28T01:35:00+08:00",
          "2024-05-28T01:40:00+08:00",
          "2024-05-28T01:45:00+08:00",
          "2024-05-28T01:50:00+08:00",
          "2024-05-28T01:55:00+08:00",
          "2024-05-28T02:00:00+08:00",
          "2024-05-28T02:05:00+08:00",
          "2024-05-28T02:10:00+08:00",
          "2024-05-28T02:15:00+08:00",
          "2024-05-28T02:20:00+08:00",
          "2024-05-28T02:25:00+08:00"
         ],
         "xaxis": "x3",
         "y": [
          0,
          0,
          0,
          0,
          0,
          0,
          0,
          0,
          0,
          0,
          0,
          0,
          0,
          0,
          0,
          0,
          0,
          -0.7353300000000222,
          -0.7353300000000222,
          -0.7353300000000222,
          -0.7353300000000222,
          -0.7353300000000222,
          -0.7353300000000222,
          -0.7353300000000222,
          -0.7353300000000222,
          -0.7353300000000222,
          -0.7353300000000222,
          -0.7353300000000222,
          -0.7353300000000222,
          -0.7353300000000222
         ],
         "yaxis": "y3"
        },
        {
         "name": "Cumulative PnL (Fiat) - Momentum Down",
         "type": "scatter",
         "visible": "legendonly",
         "x": [
          "2024-05-28T00:00:00+08:00",
          "2024-05-28T00:05:00+08:00",
          "2024-05-28T00:10:00+08:00",
          "2024-05-28T00:15:00+08:00",
          "2024-05-28T00:20:00+08:00",
          "2024-05-28T00:25:00+08:00",
          "2024-05-28T00:30:00+08:00",
          "2024-05-28T00:35:00+08:00",
          "2024-05-28T00:40:00+08:00",
          "2024-05-28T00:45:00+08:00",
          "2024-05-28T00:50:00+08:00",
          "2024-05-28T00:55:00+08:00",
          "2024-05-28T01:00:00+08:00",
          "2024-05-28T01:05:00+08:00",
          "2024-05-28T01:10:00+08:00",
          "2024-05-28T01:15:00+08:00",
          "2024-05-28T01:20:00+08:00",
          "2024-05-28T01:25:00+08:00",
          "2024-05-28T01:30:00+08:00",
          "2024-05-28T01:35:00+08:00",
          "2024-05-28T01:40:00+08:00",
          "2024-05-28T01:45:00+08:00",
          "2024-05-28T01:50:00+08:00",
          "2024-05-28T01:55:00+08:00",
          "2024-05-28T02:00:00+08:00",
          "2024-05-28T02:05:00+08:00",
          "2024-05-28T02:10:00+08:00",
          "2024-05-28T02:15:00+08:00",
          "2024-05-28T02:20:00+08:00",
          "2024-05-28T02:25:00+08:00"
         ],
         "xaxis": "x3",
         "y": [
          0,
          0,
          0,
          0,
          0,
          0,
          0,
          0,
          0,
          0,
          0,
          0,
          0,
          0,
          0,
          0,
          0,
          0,
          0,
          0,
          0,
          0,
          0,
          0,
          0,
          0,
          0,
          0,
          0,
          0
         ],
         "yaxis": "y3"
        },
        {
         "name": "PnL (Fiat)",
         "type": "scatter",
         "visible": "legendonly",
         "x": [
          "2024-05-28T00:00:00+08:00",
          "2024-05-28T00:05:00+08:00",
          "2024-05-28T00:10:00+08:00",
          "2024-05-28T00:15:00+08:00",
          "2024-05-28T00:20:00+08:00",
          "2024-05-28T00:25:00+08:00",
          "2024-05-28T00:30:00+08:00",
          "2024-05-28T00:35:00+08:00",
          "2024-05-28T00:40:00+08:00",
          "2024-05-28T00:45:00+08:00",
          "2024-05-28T00:50:00+08:00",
          "2024-05-28T00:55:00+08:00",
          "2024-05-28T01:00:00+08:00",
          "2024-05-28T01:05:00+08:00",
          "2024-05-28T01:10:00+08:00",
          "2024-05-28T01:15:00+08:00",
          "2024-05-28T01:20:00+08:00",
          "2024-05-28T01:25:00+08:00",
          "2024-05-28T01:30:00+08:00",
          "2024-05-28T01:35:00+08:00",
          "2024-05-28T01:40:00+08:00",
          "2024-05-28T01:45:00+08:00",
          "2024-05-28T01:50:00+08:00",
          "2024-05-28T01:55:00+08:00",
          "2024-05-28T02:00:00+08:00",
          "2024-05-28T02:05:00+08:00",
          "2024-05-28T02:10:00+08:00",
          "2024-05-28T02:15:00+08:00",
          "2024-05-28T02:20:00+08:00",
          "2024-05-28T02:25:00+08:00"
         ],
         "xaxis": "x2",
         "y": [
          0,
          0,
          0,
          0,
          0,
          0,
          0,
          0,
          0,
          0,
          0.4913999999999854,
          0,
          0,
          0,
          0,
          0,
          0,
          -0.7353300000000222,
          0,
          0,
          0,
          0,
          0.1515799999999947,
          0,
          0,
          0,
          0,
          0,
          0.7462400000000006,
          1.0435699999999788
         ],
         "yaxis": "y2"
        },
        {
         "name": "PnL (Fiat) - Mean Revert",
         "type": "scatter",
         "visible": "legendonly",
         "x": [
          "2024-05-28T00:00:00+08:00",
          "2024-05-28T00:05:00+08:00",
          "2024-05-28T00:10:00+08:00",
          "2024-05-28T00:15:00+08:00",
          "2024-05-28T00:20:00+08:00",
          "2024-05-28T00:25:00+08:00",
          "2024-05-28T00:30:00+08:00",
          "2024-05-28T00:35:00+08:00",
          "2024-05-28T00:40:00+08:00",
          "2024-05-28T00:45:00+08:00",
          "2024-05-28T00:50:00+08:00",
          "2024-05-28T00:55:00+08:00",
          "2024-05-28T01:00:00+08:00",
          "2024-05-28T01:05:00+08:00",
          "2024-05-28T01:10:00+08:00",
          "2024-05-28T01:15:00+08:00",
          "2024-05-28T01:20:00+08:00",
          "2024-05-28T01:25:00+08:00",
          "2024-05-28T01:30:00+08:00",
          "2024-05-28T01:35:00+08:00",
          "2024-05-28T01:40:00+08:00",
          "2024-05-28T01:45:00+08:00",
          "2024-05-28T01:50:00+08:00",
          "2024-05-28T01:55:00+08:00",
          "2024-05-28T02:00:00+08:00",
          "2024-05-28T02:05:00+08:00",
          "2024-05-28T02:10:00+08:00",
          "2024-05-28T02:15:00+08:00",
          "2024-05-28T02:20:00+08:00",
          "2024-05-28T02:25:00+08:00"
         ],
         "xaxis": "x3",
         "y": [
          0,
          0,
          0,
          0,
          0,
          0,
          0,
          0,
          0,
          0,
          0.4913999999999854,
          0,
          0,
          0,
          0,
          0,
          0,
          0,
          0,
          0,
          0,
          0,
          0.1515799999999947,
          0,
          0,
          0,
          0,
          0,
          0.7462400000000006,
          1.0435699999999788
         ],
         "yaxis": "y3"
        },
        {
         "name": "PnL (Fiat) - Momentum Up",
         "type": "scatter",
         "visible": "legendonly",
         "x": [
          "2024-05-28T00:00:00+08:00",
          "2024-05-28T00:05:00+08:00",
          "2024-05-28T00:10:00+08:00",
          "2024-05-28T00:15:00+08:00",
          "2024-05-28T00:20:00+08:00",
          "2024-05-28T00:25:00+08:00",
          "2024-05-28T00:30:00+08:00",
          "2024-05-28T00:35:00+08:00",
          "2024-05-28T00:40:00+08:00",
          "2024-05-28T00:45:00+08:00",
          "2024-05-28T00:50:00+08:00",
          "2024-05-28T00:55:00+08:00",
          "2024-05-28T01:00:00+08:00",
          "2024-05-28T01:05:00+08:00",
          "2024-05-28T01:10:00+08:00",
          "2024-05-28T01:15:00+08:00",
          "2024-05-28T01:20:00+08:00",
          "2024-05-28T01:25:00+08:00",
          "2024-05-28T01:30:00+08:00",
          "2024-05-28T01:35:00+08:00",
          "2024-05-28T01:40:00+08:00",
          "2024-05-28T01:45:00+08:00",
          "2024-05-28T01:50:00+08:00",
          "2024-05-28T01:55:00+08:00",
          "2024-05-28T02:00:00+08:00",
          "2024-05-28T02:05:00+08:00",
          "2024-05-28T02:10:00+08:00",
          "2024-05-28T02:15:00+08:00",
          "2024-05-28T02:20:00+08:00",
          "2024-05-28T02:25:00+08:00"
         ],
         "xaxis": "x3",
         "y": [
          0,
          0,
          0,
          0,
          0,
          0,
          0,
          0,
          0,
          0,
          0,
          0,
          0,
          0,
          0,
          0,
          0,
          -0.7353300000000222,
          0,
          0,
          0,
          0,
          0,
          0,
          0,
          0,
          0,
          0,
          0,
          0
         ],
         "yaxis": "y3"
        },
        {
         "name": "PnL (Fiat) - Momentum Down",
         "type": "scatter",
         "visible": "legendonly",
         "x": [
          "2024-05-28T00:00:00+08:00",
          "2024-05-28T00:05:00+08:00",
          "2024-05-28T00:10:00+08:00",
          "2024-05-28T00:15:00+08:00",
          "2024-05-28T00:20:00+08:00",
          "2024-05-28T00:25:00+08:00",
          "2024-05-28T00:30:00+08:00",
          "2024-05-28T00:35:00+08:00",
          "2024-05-28T00:40:00+08:00",
          "2024-05-28T00:45:00+08:00",
          "2024-05-28T00:50:00+08:00",
          "2024-05-28T00:55:00+08:00",
          "2024-05-28T01:00:00+08:00",
          "2024-05-28T01:05:00+08:00",
          "2024-05-28T01:10:00+08:00",
          "2024-05-28T01:15:00+08:00",
          "2024-05-28T01:20:00+08:00",
          "2024-05-28T01:25:00+08:00",
          "2024-05-28T01:30:00+08:00",
          "2024-05-28T01:35:00+08:00",
          "2024-05-28T01:40:00+08:00",
          "2024-05-28T01:45:00+08:00",
          "2024-05-28T01:50:00+08:00",
          "2024-05-28T01:55:00+08:00",
          "2024-05-28T02:00:00+08:00",
          "2024-05-28T02:05:00+08:00",
          "2024-05-28T02:10:00+08:00",
          "2024-05-28T02:15:00+08:00",
          "2024-05-28T02:20:00+08:00",
          "2024-05-28T02:25:00+08:00"
         ],
         "xaxis": "x3",
         "y": [
          0,
          0,
          0,
          0,
          0,
          0,
          0,
          0,
          0,
          0,
          0,
          0,
          0,
          0,
          0,
          0,
          0,
          0,
          0,
          0,
          0,
          0,
          0,
          0,
          0,
          0,
          0,
          0,
          0,
          0
         ],
         "yaxis": "y3"
        },
        {
         "name": "Cumulative Gross Return (%)",
         "type": "scatter",
         "visible": "legendonly",
         "x": [
          "2024-05-28T00:00:00+08:00",
          "2024-05-28T00:05:00+08:00",
          "2024-05-28T00:10:00+08:00",
          "2024-05-28T00:15:00+08:00",
          "2024-05-28T00:20:00+08:00",
          "2024-05-28T00:25:00+08:00",
          "2024-05-28T00:30:00+08:00",
          "2024-05-28T00:35:00+08:00",
          "2024-05-28T00:40:00+08:00",
          "2024-05-28T00:45:00+08:00",
          "2024-05-28T00:50:00+08:00",
          "2024-05-28T00:55:00+08:00",
          "2024-05-28T01:00:00+08:00",
          "2024-05-28T01:05:00+08:00",
          "2024-05-28T01:10:00+08:00",
          "2024-05-28T01:15:00+08:00",
          "2024-05-28T01:20:00+08:00",
          "2024-05-28T01:25:00+08:00",
          "2024-05-28T01:30:00+08:00",
          "2024-05-28T01:35:00+08:00",
          "2024-05-28T01:40:00+08:00",
          "2024-05-28T01:45:00+08:00",
          "2024-05-28T01:50:00+08:00",
          "2024-05-28T01:55:00+08:00",
          "2024-05-28T02:00:00+08:00",
          "2024-05-28T02:05:00+08:00",
          "2024-05-28T02:10:00+08:00",
          "2024-05-28T02:15:00+08:00",
          "2024-05-28T02:20:00+08:00",
          "2024-05-28T02:25:00+08:00"
         ],
         "xaxis": "x3",
         "y": [
          0,
          0,
          0,
          0,
          0,
          0,
          0,
          0,
          0,
          0,
          0.04913999999999854,
          0.04913999999999854,
          0.04913999999999854,
          0.04913999999999854,
          0.04913999999999854,
          0.04913999999999854,
          0.04913999999999854,
          -0.024393000000003683,
          -0.024393000000003683,
          -0.024393000000003683,
          -0.024393000000003683,
          -0.024393000000003683,
          -0.009235000000004214,
          -0.009235000000004214,
          -0.009235000000004214,
          -0.009235000000004214,
          -0.009235000000004214,
          -0.009235000000004214,
          0.06538899999999584,
          0.16974599999999374
         ],
         "yaxis": "y3"
        },
        {
         "name": "Cumulative Gross PnL (Fiat)",
         "type": "scatter",
         "visible": "legendonly",
         "x": [
          "2024-05-28T00:00:00+08:00",
          "2024-05-28T00:05:00+08:00",
          "2024-05-28T00:10:00+08:00",
          "2024-05-28T00:15:00+08:00",
          "2024-05-28T00:20:00+08:00",
          "2024-05-28T00:25:00+08:00",
          "2024-05-28T00:30:00+08:00",
          "2024-05-28T00:35:00+08:00",
          "2024-05-28T00:40:00+08:00",
          "2024-05-28T00:45:00+08:00",
          "2024-05-28T00:50:00+08:00",
          "2024-05-28T00:55:00+08:00",
          "2024-05-28T01:00:00+08:00",
          "2024-05-28T01:05:00+08:00",
          "2024-05-28T01:10:00+08:00",
          "2024-05-28T01:15:00+08:00",
          "2024-05-28T01:20:00+08:00",
          "2024-05-28T01:25:00+08:00",
          "2024-05-28T01:30:00+08:00",
          "2024-05-28T01:35:00+08:00",
          "2024-05-28T01:40:00+08:00",
          "2024-05-28T01:45:00+08:00",
          "2024-05-28T01:50:00+08:00",
          "2024-05-28T01:55:00+08:00",
          "2024-05-28T02:00:00+08:00",
          "2024-05-28T02:05:00+08:00",
          "2024-05-28T02:10:00+08:00",
          "2024-05-28T02:15:00+08:00",
          "2024-05-28T02:20:00+08:00",
          "2024-05-28T02:25:00+08:00"
         ],
         "xaxis": "x3",
         "y": [
          0,
          0,
          0,
          0,
          0,
          0,
          0,
          0,
          0,
          0,
          0.4913999999999854,
          0.4913999999999854,
          0.4913999999999854,
          0.4913999999999854,
          0.4913999999999854,
          0.4913999999999854,
          0.4913999999999854,
          -0.24393000000003684,
          -0.24393000000003684,
          -0.24393000000003684,
          -0.24393000000003684,
          -0.24393000000003684,
          -0.09235000000004215,
          -0.09235000000004215,
          -0.09235000000004215,
          -0.09235000000004215,
          -0.09235000000004215,
          -0.09235000000004215,
          0.6538899999999584,
          1.6974599999999374
         ],
         "yaxis": "y3"
        },
        {
         "name": "Cumulative Trading Fee (Fiat)",
         "type": "scatter",
         "visible": "legendonly",
         "x": [
          "2024-05-28T00:00:00+08:00",
          "2024-05-28T00:05:00+08:00",
          "2024-05-28T00:10:00+08:00",
          "2024-05-28T00:15:00+08:00",
          "2024-05-28T00:20:00+08:00",
          "2024-05-28T00:25:00+08:00",
          "2024-05-28T00:30:00+08:00",
          "2024-05-28T00:35:00+08:00",
          "2024-05-28T00:40:00+08:00",
          "2024-05-28T00:45:00+08:00",
          "2024-05-28T00:50:00+08:00",
          "2024-05-28T00:55:00+08:00",
          "2024-05-28T01:00:00+08:00",
          "2024-05-28T01:05:00+08:00",
          "2024-05-28T01:10:00+08:00",
          "2024-05-28T01:15:00+08:00",
          "2024-05-28T01:20:00+08:00",
          "2024-05-28T01:25:00+08:00",
          "2024-05-28T01:30:00+08:00",
          "2024-05-28T01:35:00+08:00",
          "2024-05-28T01:40:00+08:00",
          "2024-05-28T01:45:00+08:00",
          "2024-05-28T01:50:00+08:00",
          "2024-05-28T01:55:00+08:00",
          "2024-05-28T02:00:00+08:00",
          "2024-05-28T02:05:00+08:00",
          "2024-05-28T02:10:00+08:00",
          "2024-05-28T02:15:00+08:00",
          "2024-05-28T02:20:00+08:00",
          "2024-05-28T02:25:00+08:00"
         ],
         "xaxis": "x3",
         "y": [
          0,
          0,
          0,
          0,
          0,
          0,
          0,
          0,
          0,
          0,
          0,
          0,
          0,
          0,
          0,
          0,
          0,
          0,
          0,
          0,
          0,
          0,
          0,
          0,
          0,
          0,
          0,
          0,
          0,
          0
         ],
         "yaxis": "y3"
        },
        {
         "name": "Average True Range",
         "type": "scatter",
         "x": [
          "2024-05-28T00:00:00+08:00",
          "2024-05-28T00:05:00+08:00",
          "2024-05-28T00:10:00+08:00",
          "2024-05-28T00:15:00+08:00",
          "2024-05-28T00:20:00+08:00",
          "2024-05-28T00:25:00+08:00",
          "2024-05-28T00:30:00+08:00",
          "2024-05-28T00:35:00+08:00",
          "2024-05-28T00:40:00+08:00",
          "2024-05-28T00:45:00+08:00",
          "2024-05-28T00:50:00+08:00",
          "2024-05-28T00:55:00+08:00",
          "2024-05-28T01:00:00+08:00",
          "2024-05-28T01:05:00+08:00",
          "2024-05-28T01:10:00+08:00",
          "2024-05-28T01:15:00+08:00",
          "2024-05-28T01:20:00+08:00",
          "2024-05-28T01:25:00+08:00",
          "2024-05-28T01:30:00+08:00",
          "2024-05-28T01:35:00+08:00",
          "2024-05-28T01:40:00+08:00",
          "2024-05-28T01:45:00+08:00",
          "2024-05-28T01:50:00+08:00",
          "2024-05-28T01:55:00+08:00",
          "2024-05-28T02:00:00+08:00",
          "2024-05-28T02:05:00+08:00",
          "2024-05-28T02:10:00+08:00",
          "2024-05-28T02:15:00+08:00",
          "2024-05-28T02:20:00+08:00",
          "2024-05-28T02:25:00+08:00"
         ],
         "xaxis": "x4",
         "y": [
          null,
          null,
          null,
          null,
          null,
          null,
          null,
          null,
          null,
          null,
          null,
          null,
          null,
          null,
          null,
          null,
          null,
          null,
          null,
          null,
          null,
          0.5915000000000006,
          0.589500000000001,
          0.5900000000000005,
          0.5810000000000016,
          0.5590000000000017,
          0.552500000000002,
          0.5245000000000019,
          0.5210000000000008,
          0.5135000000000005
         ],
         "yaxis": "y4"
        },
        {
         "name": "Close Std",
         "type": "scatter",
         "x": [
          "2024-05-28T00:00:00+08:00",
          "2024-05-28T00:05:00+08:00",
          "2024-05-28T00:10:00+08:00",
          "2024-05-28T00:15:00+08:00",
          "2024-05-28T00:20:00+08:00",
          "2024-05-28T00:25:00+08:00",
          "2024-05-28T00:30:00+08:00",
          "2024-05-28T00:35:00+08:00",
          "2024-05-28T00:40:00+08:00",
          "2024-05-28T00:45:00+08:00",
          "2024-05-28T00:50:00+08:00",
          "2024-05-28T00:55:00+08:00",
          "2024-05-28T01:00:00+08:00",
          "2024-05-28T01:05:00+08:00",
          "2024-05-28T01:10:00+08:00",
          "2024-05-28T01:15:00+08:00",
          "2024-05-28T01:20:00+08:00",
          "2024-05-28T01:25:00+08:00",
          "2024-05-28T01:30:00+08:00",
          "2024-05-28T01:35:00+08:00",
          "2024-05-28T01:40:00+08:00",
          "2024-05-28T01:45:00+08:00",
          "2024-05-28T01:50:00+08:00",
          "2024-05-28T01:55:00+08:00",
          "2024-05-28T02:00:00+08:00",
          "2024-05-28T02:05:00+08:00",
          "2024-05-28T02:10:00+08:00",
          "2024-05-28T02:15:00+08:00",
          "2024-05-28T02:20:00+08:00",
          "2024-05-28T02:25:00+08:00"
         ],
         "xaxis": "x4",
         "y": [
          null,
          null,
          null,
          null,
          null,
          null,
          null,
          null,
          null,
          null,
          null,
          null,
          null,
          null,
          null,
          null,
          null,
          null,
          null,
          null,
          0.3488247184626252,
          0.3385635289837028,
          0.338788476160201,
          0.34565384266252763,
          0.34843824492485725,
          0.3522599966830681,
          0.3513567687513147,
          0.3329212804062929,
          0.34431319891541223,
          0.34126082014848563
         ],
         "yaxis": "y4"
        },
        {
         "showlegend": false,
         "type": "scatter",
         "x": [
          "2024-05-28T00:00:00+08:00",
          "2024-05-28T00:05:00+08:00",
          "2024-05-28T00:10:00+08:00",
          "2024-05-28T00:15:00+08:00",
          "2024-05-28T00:20:00+08:00",
          "2024-05-28T00:25:00+08:00",
          "2024-05-28T00:30:00+08:00",
          "2024-05-28T00:35:00+08:00",
          "2024-05-28T00:40:00+08:00",
          "2024-05-28T00:45:00+08:00",
          "2024-05-28T00:50:00+08:00",
          "2024-05-28T00:55:00+08:00",
          "2024-05-28T01:00:00+08:00",
          "2024-05-28T01:05:00+08:00",
          "2024-05-28T01:10:00+08:00",
          "2024-05-28T01:15:00+08:00",
          "2024-05-28T01:20:00+08:00",
          "2024-05-28T01:25:00+08:00",
          "2024-05-28T01:30:00+08:00",
          "2024-05-28T01:35:00+08:00",
          "2024-05-28T01:40:00+08:00",
          "2024-05-28T01:45:00+08:00",
          "2024-05-28T01:50:00+08:00",
          "2024-05-28T01:55:00+08:00",
          "2024-05-28T02:00:00+08:00",
          "2024-05-28T02:05:00+08:00",
          "2024-05-28T02:10:00+08:00",
          "2024-05-28T02:15:00+08:00",
          "2024-05-28T02:20:00+08:00",
          "2024-05-28T02:25:00+08:00"
         ],
         "xaxis": "x5",
         "y": [
          null,
          null,
          null,
          null,
          null,
          null,
          null,
          null,
          null,
          null,
          null,
          null,
          null,
          null,
          null,
          null,
          null,
          null,
          null,
          null,
          null,
          null,
          null,
          null,
          null,
          null,
          null,
          null,
          null,
          null
         ],
         "yaxis": "y5"
        },
        {
         "showlegend": false,
         "type": "scatter",
         "x": [
          "2024-05-28T00:00:00+08:00",
          "2024-05-28T00:05:00+08:00",
          "2024-05-28T00:10:00+08:00",
          "2024-05-28T00:15:00+08:00",
          "2024-05-28T00:20:00+08:00",
          "2024-05-28T00:25:00+08:00",
          "2024-05-28T00:30:00+08:00",
          "2024-05-28T00:35:00+08:00",
          "2024-05-28T00:40:00+08:00",
          "2024-05-28T00:45:00+08:00",
          "2024-05-28T00:50:00+08:00",
          "2024-05-28T00:55:00+08:00",
          "2024-05-28T01:00:00+08:00",
          "2024-05-28T01:05:00+08:00",
          "2024-05-28T01:10:00+08:00",
          "2024-05-28T01:15:00+08:00",
          "2024-05-28T01:20:00+08:00",
          "2024-05-28T01:25:00+08:00",
          "2024-05-28T01:30:00+08:00",
          "2024-05-28T01:35:00+08:00",
          "2024-05-28T01:40:00+08:00",
          "2024-05-28T01:45:00+08:00",
          "2024-05-28T01:50:00+08:00",
          "2024-05-28T01:55:00+08:00",
          "2024-05-28T02:00:00+08:00",
          "2024-05-28T02:05:00+08:00",
          "2024-05-28T02:10:00+08:00",
          "2024-05-28T02:15:00+08:00",
          "2024-05-28T02:20:00+08:00",
          "2024-05-28T02:25:00+08:00"
         ],
         "xaxis": "x6",
         "y": [
          null,
          null,
          null,
          null,
          null,
          null,
          null,
          null,
          null,
          null,
          null,
          null,
          null,
          null,
          null,
          null,
          null,
          null,
          null,
          null,
          null,
          null,
          null,
          null,
          null,
          null,
          null,
          null,
          null,
          null
         ],
         "yaxis": "y6"
        }
       ],
       "layout": {
        "annotations": [
         {
          "font": {
           "size": 16
          },
          "showarrow": false,
          "text": "Price OHLC",
          "x": 0.5,
          "xanchor": "center",
          "xref": "paper",
          "y": 1,
          "yanchor": "bottom",
          "yref": "paper"
         },
         {
          "font": {
           "size": 16
          },
          "showarrow": false,
          "text": "Volume",
          "x": 0.5,
          "xanchor": "center",
          "xref": "paper",
          "y": 0.5970588235294118,
          "yanchor": "bottom",
          "yref": "paper"
         },
         {
          "font": {
           "size": 16
          },
          "showarrow": false,
          "text": "Cumulated PnL / Return (%)",
          "x": 0.5,
          "xanchor": "center",
          "xref": "paper",
          "y": 0.5029411764705882,
          "yanchor": "bottom",
          "yref": "paper"
         },
         {
          "font": {
           "size": 16
          },
          "showarrow": false,
          "text": "Average True Range / Close Std (20 x 5m)",
          "x": 0.5,
          "xanchor": "center",
          "xref": "paper",
          "y": 0.3647058823529412,
          "yanchor": "bottom",
          "yref": "paper"
         },
         {
          "font": {
           "size": 16
          },
          "showarrow": false,
          "text": "Half Life",
          "x": 0.5,
          "xanchor": "center",
          "xref": "paper",
          "y": 0.22647058823529415,
          "yanchor": "bottom",
          "yref": "paper"
         },
         {
          "font": {
           "size": 16
          },
          "showarrow": false,
          "text": "Hurst Exponent",
          "x": 0.5,
          "xanchor": "center",
          "xref": "paper",
          "y": 0.08823529411764706,
          "yanchor": "bottom",
          "yref": "paper"
         }
        ],
        "height": 1800,
        "hovermode": "x",
        "shapes": [
         {
          "line": {
           "color": "green",
           "dash": "dash"
          },
          "type": "line",
          "x0": "2024-05-28T00:46:36.300000+08:00",
          "x1": "2024-05-28T00:50:29.832000+08:00",
          "xref": "x",
          "y0": 170.18,
          "y1": 170.18,
          "yref": "y"
         },
         {
          "line": {
           "color": "green",
           "dash": "dash"
          },
          "type": "line",
          "x0": "2024-05-28T00:46:36.300000+08:00",
          "x1": "2024-05-28T00:50:29.832000+08:00",
          "xref": "x",
          "y0": 170.31,
          "y1": 170.31,
          "yref": "y"
         },
         {
          "line": {
           "color": "green",
           "dash": "dash"
          },
          "type": "line",
          "x0": "2024-05-28T00:46:36.300000+08:00",
          "x1": "2024-05-28T00:50:29.832000+08:00",
          "xref": "x",
          "y0": 170.45,
          "y1": 170.45,
          "yref": "y"
         },
         {
          "line": {
           "color": "green",
           "dash": "dash"
          },
          "type": "line",
          "x0": "2024-05-28T00:46:36.300000+08:00",
          "x1": "2024-05-28T00:50:29.832000+08:00",
          "xref": "x",
          "y0": 170.59,
          "y1": 170.59,
          "yref": "y"
         },
         {
          "line": {
           "color": "green",
           "dash": "dash"
          },
          "type": "line",
          "x0": "2024-05-28T00:46:36.300000+08:00",
          "x1": "2024-05-28T00:50:29.832000+08:00",
          "xref": "x",
          "y0": 170.73,
          "y1": 170.73,
          "yref": "y"
         },
         {
          "line": {
           "color": "red",
           "dash": "dash"
          },
          "type": "line",
          "x0": "2024-05-28T00:46:36.300000+08:00",
          "x1": "2024-05-28T00:50:29.832000+08:00",
          "xref": "x",
          "y0": 171.01,
          "y1": 171.01,
          "yref": "y"
         },
         {
          "line": {
           "color": "red",
           "dash": "dash"
          },
          "type": "line",
          "x0": "2024-05-28T00:46:36.300000+08:00",
          "x1": "2024-05-28T00:50:29.832000+08:00",
          "xref": "x",
          "y0": 171.15,
          "y1": 171.15,
          "yref": "y"
         },
         {
          "line": {
           "color": "red",
           "dash": "dash"
          },
          "type": "line",
          "x0": "2024-05-28T00:46:36.300000+08:00",
          "x1": "2024-05-28T00:50:29.832000+08:00",
          "xref": "x",
          "y0": 171.29,
          "y1": 171.29,
          "yref": "y"
         },
         {
          "line": {
           "color": "red",
           "dash": "dash"
          },
          "type": "line",
          "x0": "2024-05-28T00:46:36.300000+08:00",
          "x1": "2024-05-28T00:50:29.832000+08:00",
          "xref": "x",
          "y0": 171.43,
          "y1": 171.43,
          "yref": "y"
         },
         {
          "line": {
           "color": "red",
           "dash": "dash"
          },
          "type": "line",
          "x0": "2024-05-28T00:46:36.300000+08:00",
          "x1": "2024-05-28T00:50:29.832000+08:00",
          "xref": "x",
          "y0": 171.56,
          "y1": 171.56,
          "yref": "y"
         },
         {
          "line": {
           "color": "green",
           "dash": "dash"
          },
          "type": "line",
          "x0": "2024-05-28T01:10:29.064000+08:00",
          "x1": "2024-05-28T01:23:56.705000+08:00",
          "xref": "x",
          "y0": 172.16,
          "y1": 172.16,
          "yref": "y"
         },
         {
          "line": {
           "color": "green",
           "dash": "dash"
          },
          "type": "line",
          "x0": "2024-05-28T01:10:29.064000+08:00",
          "x1": "2024-05-28T01:23:56.705000+08:00",
          "xref": "x",
          "y0": 172.29,
          "y1": 172.29,
          "yref": "y"
         },
         {
          "line": {
           "color": "green",
           "dash": "dash"
          },
          "type": "line",
          "x0": "2024-05-28T01:10:29.064000+08:00",
          "x1": "2024-05-28T01:23:56.705000+08:00",
          "xref": "x",
          "y0": 172.43,
          "y1": 172.43,
          "yref": "y"
         },
         {
          "line": {
           "color": "green",
           "dash": "dash"
          },
          "type": "line",
          "x0": "2024-05-28T01:10:29.064000+08:00",
          "x1": "2024-05-28T01:23:56.705000+08:00",
          "xref": "x",
          "y0": 172.56,
          "y1": 172.56,
          "yref": "y"
         },
         {
          "line": {
           "color": "green",
           "dash": "dash"
          },
          "type": "line",
          "x0": "2024-05-28T01:10:29.064000+08:00",
          "x1": "2024-05-28T01:23:56.705000+08:00",
          "xref": "x",
          "y0": 172.7,
          "y1": 172.7,
          "yref": "y"
         },
         {
          "line": {
           "color": "red",
           "dash": "dash"
          },
          "type": "line",
          "x0": "2024-05-28T01:10:29.064000+08:00",
          "x1": "2024-05-28T01:23:56.705000+08:00",
          "xref": "x",
          "y0": 172.97,
          "y1": 172.97,
          "yref": "y"
         },
         {
          "line": {
           "color": "red",
           "dash": "dash"
          },
          "type": "line",
          "x0": "2024-05-28T01:10:29.064000+08:00",
          "x1": "2024-05-28T01:23:56.705000+08:00",
          "xref": "x",
          "y0": 173.11,
          "y1": 173.11,
          "yref": "y"
         },
         {
          "line": {
           "color": "red",
           "dash": "dash"
          },
          "type": "line",
          "x0": "2024-05-28T01:10:29.064000+08:00",
          "x1": "2024-05-28T01:23:56.705000+08:00",
          "xref": "x",
          "y0": 173.24,
          "y1": 173.24,
          "yref": "y"
         },
         {
          "line": {
           "color": "red",
           "dash": "dash"
          },
          "type": "line",
          "x0": "2024-05-28T01:10:29.064000+08:00",
          "x1": "2024-05-28T01:23:56.705000+08:00",
          "xref": "x",
          "y0": 173.38,
          "y1": 173.38,
          "yref": "y"
         },
         {
          "line": {
           "color": "red",
           "dash": "dash"
          },
          "type": "line",
          "x0": "2024-05-28T01:10:29.064000+08:00",
          "x1": "2024-05-28T01:23:56.705000+08:00",
          "xref": "x",
          "y0": 173.52,
          "y1": 173.52,
          "yref": "y"
         },
         {
          "line": {
           "color": "green",
           "dash": "dash"
          },
          "type": "line",
          "x0": "2024-05-28T01:24:28.337000+08:00",
          "x1": "2024-05-28T02:19:25.464000+08:00",
          "xref": "x",
          "y0": 170.79,
          "y1": 170.79,
          "yref": "y"
         },
         {
          "line": {
           "color": "green",
           "dash": "dash"
          },
          "type": "line",
          "x0": "2024-05-28T01:24:28.337000+08:00",
          "x1": "2024-05-28T02:19:25.464000+08:00",
          "xref": "x",
          "y0": 170.92,
          "y1": 170.92,
          "yref": "y"
         },
         {
          "line": {
           "color": "green",
           "dash": "dash"
          },
          "type": "line",
          "x0": "2024-05-28T01:24:28.337000+08:00",
          "x1": "2024-05-28T02:19:25.464000+08:00",
          "xref": "x",
          "y0": 171.05,
          "y1": 171.05,
          "yref": "y"
         },
         {
          "line": {
           "color": "green",
           "dash": "dash"
          },
          "type": "line",
          "x0": "2024-05-28T01:24:28.337000+08:00",
          "x1": "2024-05-28T02:19:25.464000+08:00",
          "xref": "x",
          "y0": 171.17,
          "y1": 171.17,
          "yref": "y"
         },
         {
          "line": {
           "color": "green",
           "dash": "dash"
          },
          "type": "line",
          "x0": "2024-05-28T01:24:28.337000+08:00",
          "x1": "2024-05-28T02:19:25.464000+08:00",
          "xref": "x",
          "y0": 171.3,
          "y1": 171.3,
          "yref": "y"
         },
         {
          "line": {
           "color": "red",
           "dash": "dash"
          },
          "type": "line",
          "x0": "2024-05-28T01:24:28.337000+08:00",
          "x1": "2024-05-28T02:19:25.464000+08:00",
          "xref": "x",
          "y0": 171.56,
          "y1": 171.56,
          "yref": "y"
         },
         {
          "line": {
           "color": "red",
           "dash": "dash"
          },
          "type": "line",
          "x0": "2024-05-28T01:24:28.337000+08:00",
          "x1": "2024-05-28T02:19:25.464000+08:00",
          "xref": "x",
          "y0": 171.69,
          "y1": 171.69,
          "yref": "y"
         },
         {
          "line": {
           "color": "red",
           "dash": "dash"
          },
          "type": "line",
          "x0": "2024-05-28T01:24:28.337000+08:00",
          "x1": "2024-05-28T02:19:25.464000+08:00",
          "xref": "x",
          "y0": 171.81,
          "y1": 171.81,
          "yref": "y"
         },
         {
          "line": {
           "color": "red",
           "dash": "dash"
          },
          "type": "line",
          "x0": "2024-05-28T01:24:28.337000+08:00",
          "x1": "2024-05-28T02:19:25.464000+08:00",
          "xref": "x",
          "y0": 171.94,
          "y1": 171.94,
          "yref": "y"
         },
         {
          "line": {
           "color": "red",
           "dash": "dash"
          },
          "type": "line",
          "x0": "2024-05-28T01:24:28.337000+08:00",
          "x1": "2024-05-28T02:19:25.464000+08:00",
          "xref": "x",
          "y0": 172.07,
          "y1": 172.07,
          "yref": "y"
         }
        ],
        "template": {
         "data": {
          "bar": [
           {
            "error_x": {
             "color": "#2a3f5f"
            },
            "error_y": {
             "color": "#2a3f5f"
            },
            "marker": {
             "line": {
              "color": "#E5ECF6",
              "width": 0.5
             },
             "pattern": {
              "fillmode": "overlay",
              "size": 10,
              "solidity": 0.2
             }
            },
            "type": "bar"
           }
          ],
          "barpolar": [
           {
            "marker": {
             "line": {
              "color": "#E5ECF6",
              "width": 0.5
             },
             "pattern": {
              "fillmode": "overlay",
              "size": 10,
              "solidity": 0.2
             }
            },
            "type": "barpolar"
           }
          ],
          "carpet": [
           {
            "aaxis": {
             "endlinecolor": "#2a3f5f",
             "gridcolor": "white",
             "linecolor": "white",
             "minorgridcolor": "white",
             "startlinecolor": "#2a3f5f"
            },
            "baxis": {
             "endlinecolor": "#2a3f5f",
             "gridcolor": "white",
             "linecolor": "white",
             "minorgridcolor": "white",
             "startlinecolor": "#2a3f5f"
            },
            "type": "carpet"
           }
          ],
          "choropleth": [
           {
            "colorbar": {
             "outlinewidth": 0,
             "ticks": ""
            },
            "type": "choropleth"
           }
          ],
          "contour": [
           {
            "colorbar": {
             "outlinewidth": 0,
             "ticks": ""
            },
            "colorscale": [
             [
              0,
              "#0d0887"
             ],
             [
              0.1111111111111111,
              "#46039f"
             ],
             [
              0.2222222222222222,
              "#7201a8"
             ],
             [
              0.3333333333333333,
              "#9c179e"
             ],
             [
              0.4444444444444444,
              "#bd3786"
             ],
             [
              0.5555555555555556,
              "#d8576b"
             ],
             [
              0.6666666666666666,
              "#ed7953"
             ],
             [
              0.7777777777777778,
              "#fb9f3a"
             ],
             [
              0.8888888888888888,
              "#fdca26"
             ],
             [
              1,
              "#f0f921"
             ]
            ],
            "type": "contour"
           }
          ],
          "contourcarpet": [
           {
            "colorbar": {
             "outlinewidth": 0,
             "ticks": ""
            },
            "type": "contourcarpet"
           }
          ],
          "heatmap": [
           {
            "colorbar": {
             "outlinewidth": 0,
             "ticks": ""
            },
            "colorscale": [
             [
              0,
              "#0d0887"
             ],
             [
              0.1111111111111111,
              "#46039f"
             ],
             [
              0.2222222222222222,
              "#7201a8"
             ],
             [
              0.3333333333333333,
              "#9c179e"
             ],
             [
              0.4444444444444444,
              "#bd3786"
             ],
             [
              0.5555555555555556,
              "#d8576b"
             ],
             [
              0.6666666666666666,
              "#ed7953"
             ],
             [
              0.7777777777777778,
              "#fb9f3a"
             ],
             [
              0.8888888888888888,
              "#fdca26"
             ],
             [
              1,
              "#f0f921"
             ]
            ],
            "type": "heatmap"
           }
          ],
          "heatmapgl": [
           {
            "colorbar": {
             "outlinewidth": 0,
             "ticks": ""
            },
            "colorscale": [
             [
              0,
              "#0d0887"
             ],
             [
              0.1111111111111111,
              "#46039f"
             ],
             [
              0.2222222222222222,
              "#7201a8"
             ],
             [
              0.3333333333333333,
              "#9c179e"
             ],
             [
              0.4444444444444444,
              "#bd3786"
             ],
             [
              0.5555555555555556,
              "#d8576b"
             ],
             [
              0.6666666666666666,
              "#ed7953"
             ],
             [
              0.7777777777777778,
              "#fb9f3a"
             ],
             [
              0.8888888888888888,
              "#fdca26"
             ],
             [
              1,
              "#f0f921"
             ]
            ],
            "type": "heatmapgl"
           }
          ],
          "histogram": [
           {
            "marker": {
             "pattern": {
              "fillmode": "overlay",
              "size": 10,
              "solidity": 0.2
             }
            },
            "type": "histogram"
           }
          ],
          "histogram2d": [
           {
            "colorbar": {
             "outlinewidth": 0,
             "ticks": ""
            },
            "colorscale": [
             [
              0,
              "#0d0887"
             ],
             [
              0.1111111111111111,
              "#46039f"
             ],
             [
              0.2222222222222222,
              "#7201a8"
             ],
             [
              0.3333333333333333,
              "#9c179e"
             ],
             [
              0.4444444444444444,
              "#bd3786"
             ],
             [
              0.5555555555555556,
              "#d8576b"
             ],
             [
              0.6666666666666666,
              "#ed7953"
             ],
             [
              0.7777777777777778,
              "#fb9f3a"
             ],
             [
              0.8888888888888888,
              "#fdca26"
             ],
             [
              1,
              "#f0f921"
             ]
            ],
            "type": "histogram2d"
           }
          ],
          "histogram2dcontour": [
           {
            "colorbar": {
             "outlinewidth": 0,
             "ticks": ""
            },
            "colorscale": [
             [
              0,
              "#0d0887"
             ],
             [
              0.1111111111111111,
              "#46039f"
             ],
             [
              0.2222222222222222,
              "#7201a8"
             ],
             [
              0.3333333333333333,
              "#9c179e"
             ],
             [
              0.4444444444444444,
              "#bd3786"
             ],
             [
              0.5555555555555556,
              "#d8576b"
             ],
             [
              0.6666666666666666,
              "#ed7953"
             ],
             [
              0.7777777777777778,
              "#fb9f3a"
             ],
             [
              0.8888888888888888,
              "#fdca26"
             ],
             [
              1,
              "#f0f921"
             ]
            ],
            "type": "histogram2dcontour"
           }
          ],
          "mesh3d": [
           {
            "colorbar": {
             "outlinewidth": 0,
             "ticks": ""
            },
            "type": "mesh3d"
           }
          ],
          "parcoords": [
           {
            "line": {
             "colorbar": {
              "outlinewidth": 0,
              "ticks": ""
             }
            },
            "type": "parcoords"
           }
          ],
          "pie": [
           {
            "automargin": true,
            "type": "pie"
           }
          ],
          "scatter": [
           {
            "fillpattern": {
             "fillmode": "overlay",
             "size": 10,
             "solidity": 0.2
            },
            "type": "scatter"
           }
          ],
          "scatter3d": [
           {
            "line": {
             "colorbar": {
              "outlinewidth": 0,
              "ticks": ""
             }
            },
            "marker": {
             "colorbar": {
              "outlinewidth": 0,
              "ticks": ""
             }
            },
            "type": "scatter3d"
           }
          ],
          "scattercarpet": [
           {
            "marker": {
             "colorbar": {
              "outlinewidth": 0,
              "ticks": ""
             }
            },
            "type": "scattercarpet"
           }
          ],
          "scattergeo": [
           {
            "marker": {
             "colorbar": {
              "outlinewidth": 0,
              "ticks": ""
             }
            },
            "type": "scattergeo"
           }
          ],
          "scattergl": [
           {
            "marker": {
             "colorbar": {
              "outlinewidth": 0,
              "ticks": ""
             }
            },
            "type": "scattergl"
           }
          ],
          "scattermapbox": [
           {
            "marker": {
             "colorbar": {
              "outlinewidth": 0,
              "ticks": ""
             }
            },
            "type": "scattermapbox"
           }
          ],
          "scatterpolar": [
           {
            "marker": {
             "colorbar": {
              "outlinewidth": 0,
              "ticks": ""
             }
            },
            "type": "scatterpolar"
           }
          ],
          "scatterpolargl": [
           {
            "marker": {
             "colorbar": {
              "outlinewidth": 0,
              "ticks": ""
             }
            },
            "type": "scatterpolargl"
           }
          ],
          "scatterternary": [
           {
            "marker": {
             "colorbar": {
              "outlinewidth": 0,
              "ticks": ""
             }
            },
            "type": "scatterternary"
           }
          ],
          "surface": [
           {
            "colorbar": {
             "outlinewidth": 0,
             "ticks": ""
            },
            "colorscale": [
             [
              0,
              "#0d0887"
             ],
             [
              0.1111111111111111,
              "#46039f"
             ],
             [
              0.2222222222222222,
              "#7201a8"
             ],
             [
              0.3333333333333333,
              "#9c179e"
             ],
             [
              0.4444444444444444,
              "#bd3786"
             ],
             [
              0.5555555555555556,
              "#d8576b"
             ],
             [
              0.6666666666666666,
              "#ed7953"
             ],
             [
              0.7777777777777778,
              "#fb9f3a"
             ],
             [
              0.8888888888888888,
              "#fdca26"
             ],
             [
              1,
              "#f0f921"
             ]
            ],
            "type": "surface"
           }
          ],
          "table": [
           {
            "cells": {
             "fill": {
              "color": "#EBF0F8"
             },
             "line": {
              "color": "white"
             }
            },
            "header": {
             "fill": {
              "color": "#C8D4E3"
             },
             "line": {
              "color": "white"
             }
            },
            "type": "table"
           }
          ]
         },
         "layout": {
          "annotationdefaults": {
           "arrowcolor": "#2a3f5f",
           "arrowhead": 0,
           "arrowwidth": 1
          },
          "autotypenumbers": "strict",
          "coloraxis": {
           "colorbar": {
            "outlinewidth": 0,
            "ticks": ""
           }
          },
          "colorscale": {
           "diverging": [
            [
             0,
             "#8e0152"
            ],
            [
             0.1,
             "#c51b7d"
            ],
            [
             0.2,
             "#de77ae"
            ],
            [
             0.3,
             "#f1b6da"
            ],
            [
             0.4,
             "#fde0ef"
            ],
            [
             0.5,
             "#f7f7f7"
            ],
            [
             0.6,
             "#e6f5d0"
            ],
            [
             0.7,
             "#b8e186"
            ],
            [
             0.8,
             "#7fbc41"
            ],
            [
             0.9,
             "#4d9221"
            ],
            [
             1,
             "#276419"
            ]
           ],
           "sequential": [
            [
             0,
             "#0d0887"
            ],
            [
             0.1111111111111111,
             "#46039f"
            ],
            [
             0.2222222222222222,
             "#7201a8"
            ],
            [
             0.3333333333333333,
             "#9c179e"
            ],
            [
             0.4444444444444444,
             "#bd3786"
            ],
            [
             0.5555555555555556,
             "#d8576b"
            ],
            [
             0.6666666666666666,
             "#ed7953"
            ],
            [
             0.7777777777777778,
             "#fb9f3a"
            ],
            [
             0.8888888888888888,
             "#fdca26"
            ],
            [
             1,
             "#f0f921"
            ]
           ],
           "sequentialminus": [
            [
             0,
             "#0d0887"
            ],
            [
             0.1111111111111111,
             "#46039f"
            ],
            [
             0.2222222222222222,
             "#7201a8"
            ],
            [
             0.3333333333333333,
             "#9c179e"
            ],
            [
             0.4444444444444444,
             "#bd3786"
            ],
            [
             0.5555555555555556,
             "#d8576b"
            ],
            [
             0.6666666666666666,
             "#ed7953"
            ],
            [
             0.7777777777777778,
             "#fb9f3a"
            ],
            [
             0.8888888888888888,
             "#fdca26"
            ],
            [
             1,
             "#f0f921"
            ]
           ]
          },
          "colorway": [
           "#636efa",
           "#EF553B",
           "#00cc96",
           "#ab63fa",
           "#FFA15A",
           "#19d3f3",
           "#FF6692",
           "#B6E880",
           "#FF97FF",
           "#FECB52"
          ],
          "font": {
           "color": "#2a3f5f"
          },
          "geo": {
           "bgcolor": "white",
           "lakecolor": "white",
           "landcolor": "#E5ECF6",
           "showlakes": true,
           "showland": true,
           "subunitcolor": "white"
          },
          "hoverlabel": {
           "align": "left"
          },
          "hovermode": "closest",
          "mapbox": {
           "style": "light"
          },
          "paper_bgcolor": "white",
          "plot_bgcolor": "#E5ECF6",
          "polar": {
           "angularaxis": {
            "gridcolor": "white",
            "linecolor": "white",
            "ticks": ""
           },
           "bgcolor": "#E5ECF6",
           "radialaxis": {
            "gridcolor": "white",
            "linecolor": "white",
            "ticks": ""
           }
          },
          "scene": {
           "xaxis": {
            "backgroundcolor": "#E5ECF6",
            "gridcolor": "white",
            "gridwidth": 2,
            "linecolor": "white",
            "showbackground": true,
            "ticks": "",
            "zerolinecolor": "white"
           },
           "yaxis": {
            "backgroundcolor": "#E5ECF6",
            "gridcolor": "white",
            "gridwidth": 2,
            "linecolor": "white",
            "showbackground": true,
            "ticks": "",
            "zerolinecolor": "white"
           },
           "zaxis": {
            "backgroundcolor": "#E5ECF6",
            "gridcolor": "white",
            "gridwidth": 2,
            "linecolor": "white",
            "showbackground": true,
            "ticks": "",
            "zerolinecolor": "white"
           }
          },
          "shapedefaults": {
           "line": {
            "color": "#2a3f5f"
           }
          },
          "ternary": {
           "aaxis": {
            "gridcolor": "white",
            "linecolor": "white",
            "ticks": ""
           },
           "baxis": {
            "gridcolor": "white",
            "linecolor": "white",
            "ticks": ""
           },
           "bgcolor": "#E5ECF6",
           "caxis": {
            "gridcolor": "white",
            "linecolor": "white",
            "ticks": ""
           }
          },
          "title": {
           "x": 0.05
          },
          "xaxis": {
           "automargin": true,
           "gridcolor": "white",
           "linecolor": "white",
           "ticks": "",
           "title": {
            "standoff": 15
           },
           "zerolinecolor": "white",
           "zerolinewidth": 2
          },
          "yaxis": {
           "automargin": true,
           "gridcolor": "white",
           "linecolor": "white",
           "ticks": "",
           "title": {
            "standoff": 15
           },
           "zerolinecolor": "white",
           "zerolinewidth": 2
          }
         }
        },
        "title": {
         "text": "SOLFDUSD"
        },
        "width": 1500,
        "xaxis": {
         "anchor": "y",
         "domain": [
          0,
          1
         ],
         "matches": "x6",
         "rangeslider": {
          "visible": false
         },
         "showticklabels": false
        },
        "xaxis2": {
         "anchor": "y2",
         "domain": [
          0,
          1
         ],
         "matches": "x6",
         "showticklabels": false
        },
        "xaxis3": {
         "anchor": "y3",
         "domain": [
          0,
          1
         ],
         "matches": "x6",
         "showticklabels": false
        },
        "xaxis4": {
         "anchor": "y4",
         "domain": [
          0,
          1
         ],
         "matches": "x6",
         "showticklabels": false
        },
        "xaxis5": {
         "anchor": "y5",
         "domain": [
          0,
          1
         ],
         "matches": "x6",
         "showticklabels": false
        },
        "xaxis6": {
         "anchor": "y6",
         "domain": [
          0,
          1
         ]
        },
        "yaxis": {
         "anchor": "x",
         "domain": [
          0.6470588235294118,
          1
         ]
        },
        "yaxis2": {
         "anchor": "x2",
         "domain": [
          0.5529411764705883,
          0.5970588235294118
         ]
        },
        "yaxis3": {
         "anchor": "x3",
         "domain": [
          0.4147058823529412,
          0.5029411764705882
         ]
        },
        "yaxis4": {
         "anchor": "x4",
         "domain": [
          0.27647058823529413,
          0.3647058823529412
         ]
        },
        "yaxis5": {
         "anchor": "x5",
         "domain": [
          0.13823529411764707,
          0.22647058823529415
         ]
        },
        "yaxis6": {
         "anchor": "x6",
         "domain": [
          0,
          0.08823529411764706
         ]
        }
       }
      }
     },
     "metadata": {},
     "output_type": "display_data"
    },
    {
     "data": {
      "text/html": [
       "<div>\n",
       "<style scoped>\n",
       "    .dataframe tbody tr th:only-of-type {\n",
       "        vertical-align: middle;\n",
       "    }\n",
       "\n",
       "    .dataframe tbody tr th {\n",
       "        vertical-align: top;\n",
       "    }\n",
       "\n",
       "    .dataframe thead th {\n",
       "        text-align: right;\n",
       "    }\n",
       "</style>\n",
       "<table border=\"1\" class=\"dataframe\">\n",
       "  <thead>\n",
       "    <tr style=\"text-align: right;\">\n",
       "      <th></th>\n",
       "      <th>Measure</th>\n",
       "      <th>grid_ETHv1</th>\n",
       "    </tr>\n",
       "  </thead>\n",
       "  <tbody>\n",
       "    <tr>\n",
       "      <th>0</th>\n",
       "      <td>Pnl</td>\n",
       "      <td>9.5719</td>\n",
       "    </tr>\n",
       "    <tr>\n",
       "      <th>1</th>\n",
       "      <td>Trading Fee</td>\n",
       "      <td>0.0000</td>\n",
       "    </tr>\n",
       "    <tr>\n",
       "      <th>2</th>\n",
       "      <td>Cumulative Return</td>\n",
       "      <td>1.0014</td>\n",
       "    </tr>\n",
       "    <tr>\n",
       "      <th>3</th>\n",
       "      <td>Annualized Return</td>\n",
       "      <td>4.7258</td>\n",
       "    </tr>\n",
       "    <tr>\n",
       "      <th>4</th>\n",
       "      <td>Annualized Volatility</td>\n",
       "      <td>0.0427</td>\n",
       "    </tr>\n",
       "    <tr>\n",
       "      <th>5</th>\n",
       "      <td>Annualized Sharpe Ratio</td>\n",
       "      <td>109.4615</td>\n",
       "    </tr>\n",
       "    <tr>\n",
       "      <th>6</th>\n",
       "      <td>Maximum Drawdown</td>\n",
       "      <td>0.0000</td>\n",
       "    </tr>\n",
       "  </tbody>\n",
       "</table>\n",
       "</div>"
      ],
      "text/plain": [
       "                   Measure  grid_ETHv1\n",
       "0                      Pnl      9.5719\n",
       "1              Trading Fee      0.0000\n",
       "2        Cumulative Return      1.0014\n",
       "3        Annualized Return      4.7258\n",
       "4    Annualized Volatility      0.0427\n",
       "5  Annualized Sharpe Ratio    109.4615\n",
       "6         Maximum Drawdown      0.0000"
      ]
     },
     "metadata": {},
     "output_type": "display_data"
    },
    {
     "data": {
      "application/vnd.plotly.v1+json": {
       "config": {
        "plotlyServerURL": "https://plot.ly"
       },
       "data": [
        {
         "close": [
          3966.45,
          3968.08,
          3967.48,
          3964.64,
          3953.23,
          3957.26,
          3952.17,
          3959.01,
          3956.15,
          3950.82,
          3950.64,
          3947.28,
          3944.08,
          3939.81,
          3944.71,
          3941.15,
          3931.32,
          3937.19,
          3944.26,
          3939.34,
          3937.36,
          3937.3,
          3939.14,
          3939.11,
          3937.11,
          3943.13,
          3939,
          3933.19,
          3935.86,
          3937.45
         ],
         "high": [
          3969.21,
          3975.45,
          3975,
          3969.56,
          3965.95,
          3964.09,
          3959.26,
          3960.36,
          3960.53,
          3955.9,
          3955.24,
          3951.37,
          3952.94,
          3946.38,
          3947.69,
          3946.75,
          3942.05,
          3942.35,
          3946.84,
          3945.63,
          3941.57,
          3939.18,
          3941,
          3943.24,
          3942.07,
          3943.18,
          3944.07,
          3940.63,
          3937.22,
          3938.31
         ],
         "legendgroup": "OHCL",
         "low": [
          3962.85,
          3961.77,
          3966.55,
          3960.28,
          3946.41,
          3951.29,
          3950.32,
          3950.43,
          3954.57,
          3947,
          3947.55,
          3943.23,
          3943.81,
          3937.4,
          3939.44,
          3940.41,
          3925,
          3928.84,
          3936.25,
          3938.43,
          3935.55,
          3928.55,
          3932.9,
          3938.75,
          3934.1,
          3935.75,
          3938.45,
          3932.4,
          3931.17,
          3934.8
         ],
         "name": "OHLC",
         "open": [
          3964.7,
          3966.45,
          3968.08,
          3967.31,
          3964.69,
          3953.6,
          3957.68,
          3951.99,
          3958.96,
          3955.9,
          3950.66,
          3950.62,
          3947.34,
          3944.08,
          3939.72,
          3944.98,
          3940.91,
          3931.33,
          3936.91,
          3944.42,
          3939.47,
          3937.36,
          3937.34,
          3939.32,
          3939.18,
          3936.85,
          3942.84,
          3938.85,
          3933.19,
          3935.73
         ],
         "type": "candlestick",
         "x": [
          "2024-05-28T00:00:00+08:00",
          "2024-05-28T00:05:00+08:00",
          "2024-05-28T00:10:00+08:00",
          "2024-05-28T00:15:00+08:00",
          "2024-05-28T00:20:00+08:00",
          "2024-05-28T00:25:00+08:00",
          "2024-05-28T00:30:00+08:00",
          "2024-05-28T00:35:00+08:00",
          "2024-05-28T00:40:00+08:00",
          "2024-05-28T00:45:00+08:00",
          "2024-05-28T00:50:00+08:00",
          "2024-05-28T00:55:00+08:00",
          "2024-05-28T01:00:00+08:00",
          "2024-05-28T01:05:00+08:00",
          "2024-05-28T01:10:00+08:00",
          "2024-05-28T01:15:00+08:00",
          "2024-05-28T01:20:00+08:00",
          "2024-05-28T01:25:00+08:00",
          "2024-05-28T01:30:00+08:00",
          "2024-05-28T01:35:00+08:00",
          "2024-05-28T01:40:00+08:00",
          "2024-05-28T01:45:00+08:00",
          "2024-05-28T01:50:00+08:00",
          "2024-05-28T01:55:00+08:00",
          "2024-05-28T02:00:00+08:00",
          "2024-05-28T02:05:00+08:00",
          "2024-05-28T02:10:00+08:00",
          "2024-05-28T02:15:00+08:00",
          "2024-05-28T02:20:00+08:00",
          "2024-05-28T02:25:00+08:00"
         ],
         "xaxis": "x",
         "yaxis": "y"
        },
        {
         "legendgroup": "SMA 20d",
         "marker": {
          "color": "rgb(31, 119, 180)"
         },
         "name": "SMA 20d",
         "type": "scatter",
         "x": [
          "2024-05-28T00:00:00+08:00",
          "2024-05-28T00:05:00+08:00",
          "2024-05-28T00:10:00+08:00",
          "2024-05-28T00:15:00+08:00",
          "2024-05-28T00:20:00+08:00",
          "2024-05-28T00:25:00+08:00",
          "2024-05-28T00:30:00+08:00",
          "2024-05-28T00:35:00+08:00",
          "2024-05-28T00:40:00+08:00",
          "2024-05-28T00:45:00+08:00",
          "2024-05-28T00:50:00+08:00",
          "2024-05-28T00:55:00+08:00",
          "2024-05-28T01:00:00+08:00",
          "2024-05-28T01:05:00+08:00",
          "2024-05-28T01:10:00+08:00",
          "2024-05-28T01:15:00+08:00",
          "2024-05-28T01:20:00+08:00",
          "2024-05-28T01:25:00+08:00",
          "2024-05-28T01:30:00+08:00",
          "2024-05-28T01:35:00+08:00",
          "2024-05-28T01:40:00+08:00",
          "2024-05-28T01:45:00+08:00",
          "2024-05-28T01:50:00+08:00",
          "2024-05-28T01:55:00+08:00",
          "2024-05-28T02:00:00+08:00",
          "2024-05-28T02:05:00+08:00",
          "2024-05-28T02:10:00+08:00",
          "2024-05-28T02:15:00+08:00",
          "2024-05-28T02:20:00+08:00",
          "2024-05-28T02:25:00+08:00"
         ],
         "xaxis": "x",
         "y": [
          null,
          null,
          null,
          null,
          null,
          null,
          null,
          null,
          null,
          null,
          null,
          null,
          null,
          null,
          null,
          null,
          null,
          null,
          null,
          null,
          3950.7535000000003,
          3949.2990000000004,
          3947.7599999999998,
          3946.343,
          3945.0665,
          3944.2604999999994,
          3943.554,
          3942.8955,
          3941.6045,
          3940.59
         ],
         "yaxis": "y"
        },
        {
         "marker": {
          "color": "rgb(44, 160, 44)"
         },
         "showlegend": false,
         "type": "bar",
         "x": [
          "2024-05-28T00:00:00+08:00",
          "2024-05-28T00:05:00+08:00",
          "2024-05-28T00:25:00+08:00",
          "2024-05-28T00:35:00+08:00",
          "2024-05-28T01:10:00+08:00",
          "2024-05-28T01:25:00+08:00",
          "2024-05-28T01:30:00+08:00",
          "2024-05-28T01:50:00+08:00",
          "2024-05-28T02:05:00+08:00",
          "2024-05-28T02:20:00+08:00",
          "2024-05-28T02:25:00+08:00"
         ],
         "xaxis": "x2",
         "y": [
          1911.9948,
          2236.6612,
          1697.7753,
          1598.244,
          856.2332,
          1252.2189,
          1215.5949,
          1013.4584,
          1004.473,
          701.45,
          394.7411
         ],
         "yaxis": "y2"
        },
        {
         "marker": {
          "color": "rgb(214, 39, 40)"
         },
         "showlegend": false,
         "type": "bar",
         "x": [
          "2024-05-28T00:10:00+08:00",
          "2024-05-28T00:15:00+08:00",
          "2024-05-28T00:20:00+08:00",
          "2024-05-28T00:30:00+08:00",
          "2024-05-28T00:40:00+08:00",
          "2024-05-28T00:45:00+08:00",
          "2024-05-28T00:50:00+08:00",
          "2024-05-28T00:55:00+08:00",
          "2024-05-28T01:00:00+08:00",
          "2024-05-28T01:05:00+08:00",
          "2024-05-28T01:15:00+08:00",
          "2024-05-28T01:20:00+08:00",
          "2024-05-28T01:35:00+08:00",
          "2024-05-28T01:40:00+08:00",
          "2024-05-28T01:45:00+08:00",
          "2024-05-28T01:55:00+08:00",
          "2024-05-28T02:00:00+08:00",
          "2024-05-28T02:10:00+08:00",
          "2024-05-28T02:15:00+08:00"
         ],
         "xaxis": "x2",
         "y": [
          1596.3659,
          1769.061,
          2584.3067,
          1680.9927,
          1218.4411,
          1320.0635,
          1417.9554,
          1497.0826,
          1273.1412,
          1431.4823,
          732.8111,
          1686.6167,
          946.4872,
          746.9101,
          1180.3681,
          707.0659,
          1270.8973,
          568.1773,
          1301.6225
         ],
         "yaxis": "y2"
        },
        {
         "marker": {
          "color": "green",
          "size": 15,
          "symbol": 5
         },
         "mode": "markers",
         "name": "Buy",
         "type": "scatter",
         "x": [
          "2024-05-28T01:21:24.604000+08:00",
          "2024-05-28T01:06:10.166000+08:00",
          "2024-05-28T00:57:00.821000+08:00",
          "2024-05-28T02:20:20.851000+08:00",
          "2024-05-28T02:15:14.061000+08:00",
          "2024-05-28T02:15:14.055000+08:00",
          "2024-05-28T02:13:08.926000+08:00"
         ],
         "xaxis": "x",
         "y": [
          3937.11,
          3941.07,
          3945.03,
          3931.7699999999995,
          3934.48,
          3937.19,
          3939.8999999999996
         ],
         "yaxis": "y"
        },
        {
         "marker": {
          "color": "red",
          "size": 15,
          "symbol": 6
         },
         "mode": "markers",
         "name": "Sell",
         "type": "scatter",
         "x": [
          "2024-05-28T00:22:21.372000+08:00",
          "2024-05-28T00:26:16.667000+08:00",
          "2024-05-28T00:26:28.095000+08:00"
         ],
         "xaxis": "x",
         "y": [
          3952.9499999999994,
          3956.91,
          3960.8699999999994
         ],
         "yaxis": "y"
        },
        {
         "marker": {
          "color": "green",
          "size": 15,
          "symbol": "x"
         },
         "mode": "markers",
         "name": "Buy to Close",
         "type": "scatter",
         "x": [],
         "xaxis": "x",
         "y": [],
         "yaxis": "y"
        },
        {
         "marker": {
          "color": "red",
          "size": 15,
          "symbol": "x"
         },
         "mode": "markers",
         "name": "Sell to Close",
         "type": "scatter",
         "x": [],
         "xaxis": "x",
         "y": [],
         "yaxis": "y"
        },
        {
         "name": "Cumulative Return (%)",
         "type": "scatter",
         "x": [
          "2024-05-28T00:00:00+08:00",
          "2024-05-28T00:05:00+08:00",
          "2024-05-28T00:10:00+08:00",
          "2024-05-28T00:15:00+08:00",
          "2024-05-28T00:20:00+08:00",
          "2024-05-28T00:25:00+08:00",
          "2024-05-28T00:30:00+08:00",
          "2024-05-28T00:35:00+08:00",
          "2024-05-28T00:40:00+08:00",
          "2024-05-28T00:45:00+08:00",
          "2024-05-28T00:50:00+08:00",
          "2024-05-28T00:55:00+08:00",
          "2024-05-28T01:00:00+08:00",
          "2024-05-28T01:05:00+08:00",
          "2024-05-28T01:10:00+08:00",
          "2024-05-28T01:15:00+08:00",
          "2024-05-28T01:20:00+08:00",
          "2024-05-28T01:25:00+08:00",
          "2024-05-28T01:30:00+08:00",
          "2024-05-28T01:35:00+08:00",
          "2024-05-28T01:40:00+08:00",
          "2024-05-28T01:45:00+08:00",
          "2024-05-28T01:50:00+08:00",
          "2024-05-28T01:55:00+08:00",
          "2024-05-28T02:00:00+08:00",
          "2024-05-28T02:05:00+08:00",
          "2024-05-28T02:10:00+08:00",
          "2024-05-28T02:15:00+08:00",
          "2024-05-28T02:20:00+08:00",
          "2024-05-28T02:25:00+08:00"
         ],
         "xaxis": "x3",
         "y": [
          0,
          0,
          0,
          0,
          0,
          0,
          0,
          0,
          0,
          0,
          0,
          0.020060228571426454,
          0.020060228571426454,
          0.06018068571428282,
          0.06018068571428282,
          0.06018068571428282,
          0.1203613714285668,
          0.1203613714285668,
          0.1203613714285668,
          0.1203613714285668,
          0.1203613714285668,
          0.1203613714285668,
          0.1203613714285668,
          0.1203613714285668,
          0.1203613714285668,
          0.1203613714285668,
          0.1203613714285668,
          0.1203613714285668,
          0.1203613714285668,
          0.13674208571428118
         ],
         "yaxis": "y3"
        },
        {
         "name": "Cumulative Return (%) - Mean Revert",
         "type": "scatter",
         "visible": "legendonly",
         "x": [
          "2024-05-28T00:00:00+08:00",
          "2024-05-28T00:05:00+08:00",
          "2024-05-28T00:10:00+08:00",
          "2024-05-28T00:15:00+08:00",
          "2024-05-28T00:20:00+08:00",
          "2024-05-28T00:25:00+08:00",
          "2024-05-28T00:30:00+08:00",
          "2024-05-28T00:35:00+08:00",
          "2024-05-28T00:40:00+08:00",
          "2024-05-28T00:45:00+08:00",
          "2024-05-28T00:50:00+08:00",
          "2024-05-28T00:55:00+08:00",
          "2024-05-28T01:00:00+08:00",
          "2024-05-28T01:05:00+08:00",
          "2024-05-28T01:10:00+08:00",
          "2024-05-28T01:15:00+08:00",
          "2024-05-28T01:20:00+08:00",
          "2024-05-28T01:25:00+08:00",
          "2024-05-28T01:30:00+08:00",
          "2024-05-28T01:35:00+08:00",
          "2024-05-28T01:40:00+08:00",
          "2024-05-28T01:45:00+08:00",
          "2024-05-28T01:50:00+08:00",
          "2024-05-28T01:55:00+08:00",
          "2024-05-28T02:00:00+08:00",
          "2024-05-28T02:05:00+08:00",
          "2024-05-28T02:10:00+08:00",
          "2024-05-28T02:15:00+08:00",
          "2024-05-28T02:20:00+08:00",
          "2024-05-28T02:25:00+08:00"
         ],
         "xaxis": "x3",
         "y": [
          0,
          0,
          0,
          0,
          0,
          0,
          0,
          0,
          0,
          0,
          0,
          0.020060228571426454,
          0.020060228571426454,
          0.06018068571428282,
          0.06018068571428282,
          0.06018068571428282,
          0.1203613714285668,
          0.1203613714285668,
          0.1203613714285668,
          0.1203613714285668,
          0.1203613714285668,
          0.1203613714285668,
          0.1203613714285668,
          0.1203613714285668,
          0.1203613714285668,
          0.1203613714285668,
          0.1203613714285668,
          0.1203613714285668,
          0.1203613714285668,
          0.13674208571428118
         ],
         "yaxis": "y3"
        },
        {
         "name": "Cumulative Return (%) - Momentum Up",
         "type": "scatter",
         "visible": "legendonly",
         "x": [
          "2024-05-28T00:00:00+08:00",
          "2024-05-28T00:05:00+08:00",
          "2024-05-28T00:10:00+08:00",
          "2024-05-28T00:15:00+08:00",
          "2024-05-28T00:20:00+08:00",
          "2024-05-28T00:25:00+08:00",
          "2024-05-28T00:30:00+08:00",
          "2024-05-28T00:35:00+08:00",
          "2024-05-28T00:40:00+08:00",
          "2024-05-28T00:45:00+08:00",
          "2024-05-28T00:50:00+08:00",
          "2024-05-28T00:55:00+08:00",
          "2024-05-28T01:00:00+08:00",
          "2024-05-28T01:05:00+08:00",
          "2024-05-28T01:10:00+08:00",
          "2024-05-28T01:15:00+08:00",
          "2024-05-28T01:20:00+08:00",
          "2024-05-28T01:25:00+08:00",
          "2024-05-28T01:30:00+08:00",
          "2024-05-28T01:35:00+08:00",
          "2024-05-28T01:40:00+08:00",
          "2024-05-28T01:45:00+08:00",
          "2024-05-28T01:50:00+08:00",
          "2024-05-28T01:55:00+08:00",
          "2024-05-28T02:00:00+08:00",
          "2024-05-28T02:05:00+08:00",
          "2024-05-28T02:10:00+08:00",
          "2024-05-28T02:15:00+08:00",
          "2024-05-28T02:20:00+08:00",
          "2024-05-28T02:25:00+08:00"
         ],
         "xaxis": "x3",
         "y": [
          0,
          0,
          0,
          0,
          0,
          0,
          0,
          0,
          0,
          0,
          0,
          0,
          0,
          0,
          0,
          0,
          0,
          0,
          0,
          0,
          0,
          0,
          0,
          0,
          0,
          0,
          0,
          0,
          0,
          0
         ],
         "yaxis": "y3"
        },
        {
         "name": "Cumulative Return (%) - Momentum Down",
         "type": "scatter",
         "visible": "legendonly",
         "x": [
          "2024-05-28T00:00:00+08:00",
          "2024-05-28T00:05:00+08:00",
          "2024-05-28T00:10:00+08:00",
          "2024-05-28T00:15:00+08:00",
          "2024-05-28T00:20:00+08:00",
          "2024-05-28T00:25:00+08:00",
          "2024-05-28T00:30:00+08:00",
          "2024-05-28T00:35:00+08:00",
          "2024-05-28T00:40:00+08:00",
          "2024-05-28T00:45:00+08:00",
          "2024-05-28T00:50:00+08:00",
          "2024-05-28T00:55:00+08:00",
          "2024-05-28T01:00:00+08:00",
          "2024-05-28T01:05:00+08:00",
          "2024-05-28T01:10:00+08:00",
          "2024-05-28T01:15:00+08:00",
          "2024-05-28T01:20:00+08:00",
          "2024-05-28T01:25:00+08:00",
          "2024-05-28T01:30:00+08:00",
          "2024-05-28T01:35:00+08:00",
          "2024-05-28T01:40:00+08:00",
          "2024-05-28T01:45:00+08:00",
          "2024-05-28T01:50:00+08:00",
          "2024-05-28T01:55:00+08:00",
          "2024-05-28T02:00:00+08:00",
          "2024-05-28T02:05:00+08:00",
          "2024-05-28T02:10:00+08:00",
          "2024-05-28T02:15:00+08:00",
          "2024-05-28T02:20:00+08:00",
          "2024-05-28T02:25:00+08:00"
         ],
         "xaxis": "x3",
         "y": [
          0,
          0,
          0,
          0,
          0,
          0,
          0,
          0,
          0,
          0,
          0,
          0,
          0,
          0,
          0,
          0,
          0,
          0,
          0,
          0,
          0,
          0,
          0,
          0,
          0,
          0,
          0,
          0,
          0,
          0
         ],
         "yaxis": "y3"
        },
        {
         "name": "Cumulative PnL (Fiat)",
         "type": "scatter",
         "visible": "legendonly",
         "x": [
          "2024-05-28T00:00:00+08:00",
          "2024-05-28T00:05:00+08:00",
          "2024-05-28T00:10:00+08:00",
          "2024-05-28T00:15:00+08:00",
          "2024-05-28T00:20:00+08:00",
          "2024-05-28T00:25:00+08:00",
          "2024-05-28T00:30:00+08:00",
          "2024-05-28T00:35:00+08:00",
          "2024-05-28T00:40:00+08:00",
          "2024-05-28T00:45:00+08:00",
          "2024-05-28T00:50:00+08:00",
          "2024-05-28T00:55:00+08:00",
          "2024-05-28T01:00:00+08:00",
          "2024-05-28T01:05:00+08:00",
          "2024-05-28T01:10:00+08:00",
          "2024-05-28T01:15:00+08:00",
          "2024-05-28T01:20:00+08:00",
          "2024-05-28T01:25:00+08:00",
          "2024-05-28T01:30:00+08:00",
          "2024-05-28T01:35:00+08:00",
          "2024-05-28T01:40:00+08:00",
          "2024-05-28T01:45:00+08:00",
          "2024-05-28T01:50:00+08:00",
          "2024-05-28T01:55:00+08:00",
          "2024-05-28T02:00:00+08:00",
          "2024-05-28T02:05:00+08:00",
          "2024-05-28T02:10:00+08:00",
          "2024-05-28T02:15:00+08:00",
          "2024-05-28T02:20:00+08:00",
          "2024-05-28T02:25:00+08:00"
         ],
         "xaxis": "x3",
         "y": [
          0,
          0,
          0,
          0,
          0,
          0,
          0,
          0,
          0,
          0,
          0,
          1.4042159999998518,
          1.4042159999998518,
          4.212647999999797,
          4.212647999999797,
          4.212647999999797,
          8.425295999999676,
          8.425295999999676,
          8.425295999999676,
          8.425295999999676,
          8.425295999999676,
          8.425295999999676,
          8.425295999999676,
          8.425295999999676,
          8.425295999999676,
          8.425295999999676,
          8.425295999999676,
          8.425295999999676,
          8.425295999999676,
          9.571945999999683
         ],
         "yaxis": "y3"
        },
        {
         "name": "Cumulative PnL (Fiat) - Mean Revert",
         "type": "scatter",
         "visible": "legendonly",
         "x": [
          "2024-05-28T00:00:00+08:00",
          "2024-05-28T00:05:00+08:00",
          "2024-05-28T00:10:00+08:00",
          "2024-05-28T00:15:00+08:00",
          "2024-05-28T00:20:00+08:00",
          "2024-05-28T00:25:00+08:00",
          "2024-05-28T00:30:00+08:00",
          "2024-05-28T00:35:00+08:00",
          "2024-05-28T00:40:00+08:00",
          "2024-05-28T00:45:00+08:00",
          "2024-05-28T00:50:00+08:00",
          "2024-05-28T00:55:00+08:00",
          "2024-05-28T01:00:00+08:00",
          "2024-05-28T01:05:00+08:00",
          "2024-05-28T01:10:00+08:00",
          "2024-05-28T01:15:00+08:00",
          "2024-05-28T01:20:00+08:00",
          "2024-05-28T01:25:00+08:00",
          "2024-05-28T01:30:00+08:00",
          "2024-05-28T01:35:00+08:00",
          "2024-05-28T01:40:00+08:00",
          "2024-05-28T01:45:00+08:00",
          "2024-05-28T01:50:00+08:00",
          "2024-05-28T01:55:00+08:00",
          "2024-05-28T02:00:00+08:00",
          "2024-05-28T02:05:00+08:00",
          "2024-05-28T02:10:00+08:00",
          "2024-05-28T02:15:00+08:00",
          "2024-05-28T02:20:00+08:00",
          "2024-05-28T02:25:00+08:00"
         ],
         "xaxis": "x3",
         "y": [
          0,
          0,
          0,
          0,
          0,
          0,
          0,
          0,
          0,
          0,
          0,
          1.4042159999998518,
          1.4042159999998518,
          4.212647999999797,
          4.212647999999797,
          4.212647999999797,
          8.425295999999676,
          8.425295999999676,
          8.425295999999676,
          8.425295999999676,
          8.425295999999676,
          8.425295999999676,
          8.425295999999676,
          8.425295999999676,
          8.425295999999676,
          8.425295999999676,
          8.425295999999676,
          8.425295999999676,
          8.425295999999676,
          9.571945999999683
         ],
         "yaxis": "y3"
        },
        {
         "name": "Cumulative PnL (Fiat) - Momentum Up",
         "type": "scatter",
         "visible": "legendonly",
         "x": [
          "2024-05-28T00:00:00+08:00",
          "2024-05-28T00:05:00+08:00",
          "2024-05-28T00:10:00+08:00",
          "2024-05-28T00:15:00+08:00",
          "2024-05-28T00:20:00+08:00",
          "2024-05-28T00:25:00+08:00",
          "2024-05-28T00:30:00+08:00",
          "2024-05-28T00:35:00+08:00",
          "2024-05-28T00:40:00+08:00",
          "2024-05-28T00:45:00+08:00",
          "2024-05-28T00:50:00+08:00",
          "2024-05-28T00:55:00+08:00",
          "2024-05-28T01:00:00+08:00",
          "2024-05-28T01:05:00+08:00",
          "2024-05-28T01:10:00+08:00",
          "2024-05-28T01:15:00+08:00",
          "2024-05-28T01:20:00+08:00",
          "2024-05-28T01:25:00+08:00",
          "2024-05-28T01:30:00+08:00",
          "2024-05-28T01:35:00+08:00",
          "2024-05-28T01:40:00+08:00",
          "2024-05-28T01:45:00+08:00",
          "2024-05-28T01:50:00+08:00",
          "2024-05-28T01:55:00+08:00",
          "2024-05-28T02:00:00+08:00",
          "2024-05-28T02:05:00+08:00",
          "2024-05-28T02:10:00+08:00",
          "2024-05-28T02:15:00+08:00",
          "2024-05-28T02:20:00+08:00",
          "2024-05-28T02:25:00+08:00"
         ],
         "xaxis": "x3",
         "y": [
          0,
          0,
          0,
          0,
          0,
          0,
          0,
          0,
          0,
          0,
          0,
          0,
          0,
          0,
          0,
          0,
          0,
          0,
          0,
          0,
          0,
          0,
          0,
          0,
          0,
          0,
          0,
          0,
          0,
          0
         ],
         "yaxis": "y3"
        },
        {
         "name": "Cumulative PnL (Fiat) - Momentum Down",
         "type": "scatter",
         "visible": "legendonly",
         "x": [
          "2024-05-28T00:00:00+08:00",
          "2024-05-28T00:05:00+08:00",
          "2024-05-28T00:10:00+08:00",
          "2024-05-28T00:15:00+08:00",
          "2024-05-28T00:20:00+08:00",
          "2024-05-28T00:25:00+08:00",
          "2024-05-28T00:30:00+08:00",
          "2024-05-28T00:35:00+08:00",
          "2024-05-28T00:40:00+08:00",
          "2024-05-28T00:45:00+08:00",
          "2024-05-28T00:50:00+08:00",
          "2024-05-28T00:55:00+08:00",
          "2024-05-28T01:00:00+08:00",
          "2024-05-28T01:05:00+08:00",
          "2024-05-28T01:10:00+08:00",
          "2024-05-28T01:15:00+08:00",
          "2024-05-28T01:20:00+08:00",
          "2024-05-28T01:25:00+08:00",
          "2024-05-28T01:30:00+08:00",
          "2024-05-28T01:35:00+08:00",
          "2024-05-28T01:40:00+08:00",
          "2024-05-28T01:45:00+08:00",
          "2024-05-28T01:50:00+08:00",
          "2024-05-28T01:55:00+08:00",
          "2024-05-28T02:00:00+08:00",
          "2024-05-28T02:05:00+08:00",
          "2024-05-28T02:10:00+08:00",
          "2024-05-28T02:15:00+08:00",
          "2024-05-28T02:20:00+08:00",
          "2024-05-28T02:25:00+08:00"
         ],
         "xaxis": "x3",
         "y": [
          0,
          0,
          0,
          0,
          0,
          0,
          0,
          0,
          0,
          0,
          0,
          0,
          0,
          0,
          0,
          0,
          0,
          0,
          0,
          0,
          0,
          0,
          0,
          0,
          0,
          0,
          0,
          0,
          0,
          0
         ],
         "yaxis": "y3"
        },
        {
         "name": "PnL (Fiat)",
         "type": "scatter",
         "visible": "legendonly",
         "x": [
          "2024-05-28T00:00:00+08:00",
          "2024-05-28T00:05:00+08:00",
          "2024-05-28T00:10:00+08:00",
          "2024-05-28T00:15:00+08:00",
          "2024-05-28T00:20:00+08:00",
          "2024-05-28T00:25:00+08:00",
          "2024-05-28T00:30:00+08:00",
          "2024-05-28T00:35:00+08:00",
          "2024-05-28T00:40:00+08:00",
          "2024-05-28T00:45:00+08:00",
          "2024-05-28T00:50:00+08:00",
          "2024-05-28T00:55:00+08:00",
          "2024-05-28T01:00:00+08:00",
          "2024-05-28T01:05:00+08:00",
          "2024-05-28T01:10:00+08:00",
          "2024-05-28T01:15:00+08:00",
          "2024-05-28T01:20:00+08:00",
          "2024-05-28T01:25:00+08:00",
          "2024-05-28T01:30:00+08:00",
          "2024-05-28T01:35:00+08:00",
          "2024-05-28T01:40:00+08:00",
          "2024-05-28T01:45:00+08:00",
          "2024-05-28T01:50:00+08:00",
          "2024-05-28T01:55:00+08:00",
          "2024-05-28T02:00:00+08:00",
          "2024-05-28T02:05:00+08:00",
          "2024-05-28T02:10:00+08:00",
          "2024-05-28T02:15:00+08:00",
          "2024-05-28T02:20:00+08:00",
          "2024-05-28T02:25:00+08:00"
         ],
         "xaxis": "x2",
         "y": [
          0,
          0,
          0,
          0,
          0,
          0,
          0,
          0,
          0,
          0,
          0,
          1.4042159999998518,
          0,
          2.808431999999945,
          0,
          0,
          4.212647999999878,
          0,
          0,
          0,
          0,
          0,
          0,
          0,
          0,
          0,
          0,
          0,
          0,
          1.1466500000000062
         ],
         "yaxis": "y2"
        },
        {
         "name": "PnL (Fiat) - Mean Revert",
         "type": "scatter",
         "visible": "legendonly",
         "x": [
          "2024-05-28T00:00:00+08:00",
          "2024-05-28T00:05:00+08:00",
          "2024-05-28T00:10:00+08:00",
          "2024-05-28T00:15:00+08:00",
          "2024-05-28T00:20:00+08:00",
          "2024-05-28T00:25:00+08:00",
          "2024-05-28T00:30:00+08:00",
          "2024-05-28T00:35:00+08:00",
          "2024-05-28T00:40:00+08:00",
          "2024-05-28T00:45:00+08:00",
          "2024-05-28T00:50:00+08:00",
          "2024-05-28T00:55:00+08:00",
          "2024-05-28T01:00:00+08:00",
          "2024-05-28T01:05:00+08:00",
          "2024-05-28T01:10:00+08:00",
          "2024-05-28T01:15:00+08:00",
          "2024-05-28T01:20:00+08:00",
          "2024-05-28T01:25:00+08:00",
          "2024-05-28T01:30:00+08:00",
          "2024-05-28T01:35:00+08:00",
          "2024-05-28T01:40:00+08:00",
          "2024-05-28T01:45:00+08:00",
          "2024-05-28T01:50:00+08:00",
          "2024-05-28T01:55:00+08:00",
          "2024-05-28T02:00:00+08:00",
          "2024-05-28T02:05:00+08:00",
          "2024-05-28T02:10:00+08:00",
          "2024-05-28T02:15:00+08:00",
          "2024-05-28T02:20:00+08:00",
          "2024-05-28T02:25:00+08:00"
         ],
         "xaxis": "x3",
         "y": [
          0,
          0,
          0,
          0,
          0,
          0,
          0,
          0,
          0,
          0,
          0,
          1.4042159999998518,
          0,
          2.808431999999945,
          0,
          0,
          4.212647999999878,
          0,
          0,
          0,
          0,
          0,
          0,
          0,
          0,
          0,
          0,
          0,
          0,
          1.1466500000000062
         ],
         "yaxis": "y3"
        },
        {
         "name": "PnL (Fiat) - Momentum Up",
         "type": "scatter",
         "visible": "legendonly",
         "x": [
          "2024-05-28T00:00:00+08:00",
          "2024-05-28T00:05:00+08:00",
          "2024-05-28T00:10:00+08:00",
          "2024-05-28T00:15:00+08:00",
          "2024-05-28T00:20:00+08:00",
          "2024-05-28T00:25:00+08:00",
          "2024-05-28T00:30:00+08:00",
          "2024-05-28T00:35:00+08:00",
          "2024-05-28T00:40:00+08:00",
          "2024-05-28T00:45:00+08:00",
          "2024-05-28T00:50:00+08:00",
          "2024-05-28T00:55:00+08:00",
          "2024-05-28T01:00:00+08:00",
          "2024-05-28T01:05:00+08:00",
          "2024-05-28T01:10:00+08:00",
          "2024-05-28T01:15:00+08:00",
          "2024-05-28T01:20:00+08:00",
          "2024-05-28T01:25:00+08:00",
          "2024-05-28T01:30:00+08:00",
          "2024-05-28T01:35:00+08:00",
          "2024-05-28T01:40:00+08:00",
          "2024-05-28T01:45:00+08:00",
          "2024-05-28T01:50:00+08:00",
          "2024-05-28T01:55:00+08:00",
          "2024-05-28T02:00:00+08:00",
          "2024-05-28T02:05:00+08:00",
          "2024-05-28T02:10:00+08:00",
          "2024-05-28T02:15:00+08:00",
          "2024-05-28T02:20:00+08:00",
          "2024-05-28T02:25:00+08:00"
         ],
         "xaxis": "x3",
         "y": [
          0,
          0,
          0,
          0,
          0,
          0,
          0,
          0,
          0,
          0,
          0,
          0,
          0,
          0,
          0,
          0,
          0,
          0,
          0,
          0,
          0,
          0,
          0,
          0,
          0,
          0,
          0,
          0,
          0,
          0
         ],
         "yaxis": "y3"
        },
        {
         "name": "PnL (Fiat) - Momentum Down",
         "type": "scatter",
         "visible": "legendonly",
         "x": [
          "2024-05-28T00:00:00+08:00",
          "2024-05-28T00:05:00+08:00",
          "2024-05-28T00:10:00+08:00",
          "2024-05-28T00:15:00+08:00",
          "2024-05-28T00:20:00+08:00",
          "2024-05-28T00:25:00+08:00",
          "2024-05-28T00:30:00+08:00",
          "2024-05-28T00:35:00+08:00",
          "2024-05-28T00:40:00+08:00",
          "2024-05-28T00:45:00+08:00",
          "2024-05-28T00:50:00+08:00",
          "2024-05-28T00:55:00+08:00",
          "2024-05-28T01:00:00+08:00",
          "2024-05-28T01:05:00+08:00",
          "2024-05-28T01:10:00+08:00",
          "2024-05-28T01:15:00+08:00",
          "2024-05-28T01:20:00+08:00",
          "2024-05-28T01:25:00+08:00",
          "2024-05-28T01:30:00+08:00",
          "2024-05-28T01:35:00+08:00",
          "2024-05-28T01:40:00+08:00",
          "2024-05-28T01:45:00+08:00",
          "2024-05-28T01:50:00+08:00",
          "2024-05-28T01:55:00+08:00",
          "2024-05-28T02:00:00+08:00",
          "2024-05-28T02:05:00+08:00",
          "2024-05-28T02:10:00+08:00",
          "2024-05-28T02:15:00+08:00",
          "2024-05-28T02:20:00+08:00",
          "2024-05-28T02:25:00+08:00"
         ],
         "xaxis": "x3",
         "y": [
          0,
          0,
          0,
          0,
          0,
          0,
          0,
          0,
          0,
          0,
          0,
          0,
          0,
          0,
          0,
          0,
          0,
          0,
          0,
          0,
          0,
          0,
          0,
          0,
          0,
          0,
          0,
          0,
          0,
          0
         ],
         "yaxis": "y3"
        },
        {
         "name": "Cumulative Gross Return (%)",
         "type": "scatter",
         "visible": "legendonly",
         "x": [
          "2024-05-28T00:00:00+08:00",
          "2024-05-28T00:05:00+08:00",
          "2024-05-28T00:10:00+08:00",
          "2024-05-28T00:15:00+08:00",
          "2024-05-28T00:20:00+08:00",
          "2024-05-28T00:25:00+08:00",
          "2024-05-28T00:30:00+08:00",
          "2024-05-28T00:35:00+08:00",
          "2024-05-28T00:40:00+08:00",
          "2024-05-28T00:45:00+08:00",
          "2024-05-28T00:50:00+08:00",
          "2024-05-28T00:55:00+08:00",
          "2024-05-28T01:00:00+08:00",
          "2024-05-28T01:05:00+08:00",
          "2024-05-28T01:10:00+08:00",
          "2024-05-28T01:15:00+08:00",
          "2024-05-28T01:20:00+08:00",
          "2024-05-28T01:25:00+08:00",
          "2024-05-28T01:30:00+08:00",
          "2024-05-28T01:35:00+08:00",
          "2024-05-28T01:40:00+08:00",
          "2024-05-28T01:45:00+08:00",
          "2024-05-28T01:50:00+08:00",
          "2024-05-28T01:55:00+08:00",
          "2024-05-28T02:00:00+08:00",
          "2024-05-28T02:05:00+08:00",
          "2024-05-28T02:10:00+08:00",
          "2024-05-28T02:15:00+08:00",
          "2024-05-28T02:20:00+08:00",
          "2024-05-28T02:25:00+08:00"
         ],
         "xaxis": "x3",
         "y": [
          0,
          0,
          0,
          0,
          0,
          0,
          0,
          0,
          0,
          0,
          0,
          0.020060228571426454,
          0.020060228571426454,
          0.06018068571428282,
          0.06018068571428282,
          0.06018068571428282,
          0.1203613714285668,
          0.1203613714285668,
          0.1203613714285668,
          0.1203613714285668,
          0.1203613714285668,
          0.1203613714285668,
          0.1203613714285668,
          0.1203613714285668,
          0.1203613714285668,
          0.1203613714285668,
          0.1203613714285668,
          0.1203613714285668,
          0.1203613714285668,
          0.13674208571428118
         ],
         "yaxis": "y3"
        },
        {
         "name": "Cumulative Gross PnL (Fiat)",
         "type": "scatter",
         "visible": "legendonly",
         "x": [
          "2024-05-28T00:00:00+08:00",
          "2024-05-28T00:05:00+08:00",
          "2024-05-28T00:10:00+08:00",
          "2024-05-28T00:15:00+08:00",
          "2024-05-28T00:20:00+08:00",
          "2024-05-28T00:25:00+08:00",
          "2024-05-28T00:30:00+08:00",
          "2024-05-28T00:35:00+08:00",
          "2024-05-28T00:40:00+08:00",
          "2024-05-28T00:45:00+08:00",
          "2024-05-28T00:50:00+08:00",
          "2024-05-28T00:55:00+08:00",
          "2024-05-28T01:00:00+08:00",
          "2024-05-28T01:05:00+08:00",
          "2024-05-28T01:10:00+08:00",
          "2024-05-28T01:15:00+08:00",
          "2024-05-28T01:20:00+08:00",
          "2024-05-28T01:25:00+08:00",
          "2024-05-28T01:30:00+08:00",
          "2024-05-28T01:35:00+08:00",
          "2024-05-28T01:40:00+08:00",
          "2024-05-28T01:45:00+08:00",
          "2024-05-28T01:50:00+08:00",
          "2024-05-28T01:55:00+08:00",
          "2024-05-28T02:00:00+08:00",
          "2024-05-28T02:05:00+08:00",
          "2024-05-28T02:10:00+08:00",
          "2024-05-28T02:15:00+08:00",
          "2024-05-28T02:20:00+08:00",
          "2024-05-28T02:25:00+08:00"
         ],
         "xaxis": "x3",
         "y": [
          0,
          0,
          0,
          0,
          0,
          0,
          0,
          0,
          0,
          0,
          0,
          1.4042159999998518,
          1.4042159999998518,
          4.212647999999797,
          4.212647999999797,
          4.212647999999797,
          8.425295999999676,
          8.425295999999676,
          8.425295999999676,
          8.425295999999676,
          8.425295999999676,
          8.425295999999676,
          8.425295999999676,
          8.425295999999676,
          8.425295999999676,
          8.425295999999676,
          8.425295999999676,
          8.425295999999676,
          8.425295999999676,
          9.571945999999683
         ],
         "yaxis": "y3"
        },
        {
         "name": "Cumulative Trading Fee (Fiat)",
         "type": "scatter",
         "visible": "legendonly",
         "x": [
          "2024-05-28T00:00:00+08:00",
          "2024-05-28T00:05:00+08:00",
          "2024-05-28T00:10:00+08:00",
          "2024-05-28T00:15:00+08:00",
          "2024-05-28T00:20:00+08:00",
          "2024-05-28T00:25:00+08:00",
          "2024-05-28T00:30:00+08:00",
          "2024-05-28T00:35:00+08:00",
          "2024-05-28T00:40:00+08:00",
          "2024-05-28T00:45:00+08:00",
          "2024-05-28T00:50:00+08:00",
          "2024-05-28T00:55:00+08:00",
          "2024-05-28T01:00:00+08:00",
          "2024-05-28T01:05:00+08:00",
          "2024-05-28T01:10:00+08:00",
          "2024-05-28T01:15:00+08:00",
          "2024-05-28T01:20:00+08:00",
          "2024-05-28T01:25:00+08:00",
          "2024-05-28T01:30:00+08:00",
          "2024-05-28T01:35:00+08:00",
          "2024-05-28T01:40:00+08:00",
          "2024-05-28T01:45:00+08:00",
          "2024-05-28T01:50:00+08:00",
          "2024-05-28T01:55:00+08:00",
          "2024-05-28T02:00:00+08:00",
          "2024-05-28T02:05:00+08:00",
          "2024-05-28T02:10:00+08:00",
          "2024-05-28T02:15:00+08:00",
          "2024-05-28T02:20:00+08:00",
          "2024-05-28T02:25:00+08:00"
         ],
         "xaxis": "x3",
         "y": [
          0,
          0,
          0,
          0,
          0,
          0,
          0,
          0,
          0,
          0,
          0,
          0,
          0,
          0,
          0,
          0,
          0,
          0,
          0,
          0,
          0,
          0,
          0,
          0,
          0,
          0,
          0,
          0,
          0,
          0
         ],
         "yaxis": "y3"
        },
        {
         "name": "Average True Range",
         "type": "scatter",
         "x": [
          "2024-05-28T00:00:00+08:00",
          "2024-05-28T00:05:00+08:00",
          "2024-05-28T00:10:00+08:00",
          "2024-05-28T00:15:00+08:00",
          "2024-05-28T00:20:00+08:00",
          "2024-05-28T00:25:00+08:00",
          "2024-05-28T00:30:00+08:00",
          "2024-05-28T00:35:00+08:00",
          "2024-05-28T00:40:00+08:00",
          "2024-05-28T00:45:00+08:00",
          "2024-05-28T00:50:00+08:00",
          "2024-05-28T00:55:00+08:00",
          "2024-05-28T01:00:00+08:00",
          "2024-05-28T01:05:00+08:00",
          "2024-05-28T01:10:00+08:00",
          "2024-05-28T01:15:00+08:00",
          "2024-05-28T01:20:00+08:00",
          "2024-05-28T01:25:00+08:00",
          "2024-05-28T01:30:00+08:00",
          "2024-05-28T01:35:00+08:00",
          "2024-05-28T01:40:00+08:00",
          "2024-05-28T01:45:00+08:00",
          "2024-05-28T01:50:00+08:00",
          "2024-05-28T01:55:00+08:00",
          "2024-05-28T02:00:00+08:00",
          "2024-05-28T02:05:00+08:00",
          "2024-05-28T02:10:00+08:00",
          "2024-05-28T02:15:00+08:00",
          "2024-05-28T02:20:00+08:00",
          "2024-05-28T02:25:00+08:00"
         ],
         "xaxis": "x4",
         "y": [
          null,
          null,
          null,
          null,
          null,
          null,
          null,
          null,
          null,
          null,
          null,
          null,
          null,
          null,
          null,
          null,
          null,
          null,
          null,
          null,
          null,
          10.019000000000005,
          9.866499999999997,
          9.849,
          9.609500000000002,
          9.031000000000017,
          8.7625,
          8.596500000000015,
          8.511500000000002,
          8.515999999999986
         ],
         "yaxis": "y4"
        },
        {
         "name": "Close Std",
         "type": "scatter",
         "x": [
          "2024-05-28T00:00:00+08:00",
          "2024-05-28T00:05:00+08:00",
          "2024-05-28T00:10:00+08:00",
          "2024-05-28T00:15:00+08:00",
          "2024-05-28T00:20:00+08:00",
          "2024-05-28T00:25:00+08:00",
          "2024-05-28T00:30:00+08:00",
          "2024-05-28T00:35:00+08:00",
          "2024-05-28T00:40:00+08:00",
          "2024-05-28T00:45:00+08:00",
          "2024-05-28T00:50:00+08:00",
          "2024-05-28T00:55:00+08:00",
          "2024-05-28T01:00:00+08:00",
          "2024-05-28T01:05:00+08:00",
          "2024-05-28T01:10:00+08:00",
          "2024-05-28T01:15:00+08:00",
          "2024-05-28T01:20:00+08:00",
          "2024-05-28T01:25:00+08:00",
          "2024-05-28T01:30:00+08:00",
          "2024-05-28T01:35:00+08:00",
          "2024-05-28T01:40:00+08:00",
          "2024-05-28T01:45:00+08:00",
          "2024-05-28T01:50:00+08:00",
          "2024-05-28T01:55:00+08:00",
          "2024-05-28T02:00:00+08:00",
          "2024-05-28T02:05:00+08:00",
          "2024-05-28T02:10:00+08:00",
          "2024-05-28T02:15:00+08:00",
          "2024-05-28T02:20:00+08:00",
          "2024-05-28T02:25:00+08:00"
         ],
         "xaxis": "x4",
         "y": [
          null,
          null,
          null,
          null,
          null,
          null,
          null,
          null,
          null,
          null,
          null,
          null,
          null,
          null,
          null,
          null,
          null,
          null,
          null,
          null,
          10.775598298201746,
          10.505264795380057,
          9.842792714522291,
          8.843668624323534,
          7.850397425407647,
          7.795465939283705,
          7.170570996863462,
          6.9386624488409,
          6.138496708650579,
          5.215287245458485
         ],
         "yaxis": "y4"
        },
        {
         "showlegend": false,
         "type": "scatter",
         "x": [
          "2024-05-28T00:00:00+08:00",
          "2024-05-28T00:05:00+08:00",
          "2024-05-28T00:10:00+08:00",
          "2024-05-28T00:15:00+08:00",
          "2024-05-28T00:20:00+08:00",
          "2024-05-28T00:25:00+08:00",
          "2024-05-28T00:30:00+08:00",
          "2024-05-28T00:35:00+08:00",
          "2024-05-28T00:40:00+08:00",
          "2024-05-28T00:45:00+08:00",
          "2024-05-28T00:50:00+08:00",
          "2024-05-28T00:55:00+08:00",
          "2024-05-28T01:00:00+08:00",
          "2024-05-28T01:05:00+08:00",
          "2024-05-28T01:10:00+08:00",
          "2024-05-28T01:15:00+08:00",
          "2024-05-28T01:20:00+08:00",
          "2024-05-28T01:25:00+08:00",
          "2024-05-28T01:30:00+08:00",
          "2024-05-28T01:35:00+08:00",
          "2024-05-28T01:40:00+08:00",
          "2024-05-28T01:45:00+08:00",
          "2024-05-28T01:50:00+08:00",
          "2024-05-28T01:55:00+08:00",
          "2024-05-28T02:00:00+08:00",
          "2024-05-28T02:05:00+08:00",
          "2024-05-28T02:10:00+08:00",
          "2024-05-28T02:15:00+08:00",
          "2024-05-28T02:20:00+08:00",
          "2024-05-28T02:25:00+08:00"
         ],
         "xaxis": "x5",
         "y": [
          null,
          null,
          null,
          null,
          null,
          null,
          null,
          null,
          null,
          null,
          null,
          null,
          null,
          null,
          null,
          null,
          null,
          null,
          null,
          null,
          null,
          null,
          null,
          null,
          null,
          null,
          null,
          null,
          null,
          null
         ],
         "yaxis": "y5"
        },
        {
         "showlegend": false,
         "type": "scatter",
         "x": [
          "2024-05-28T00:00:00+08:00",
          "2024-05-28T00:05:00+08:00",
          "2024-05-28T00:10:00+08:00",
          "2024-05-28T00:15:00+08:00",
          "2024-05-28T00:20:00+08:00",
          "2024-05-28T00:25:00+08:00",
          "2024-05-28T00:30:00+08:00",
          "2024-05-28T00:35:00+08:00",
          "2024-05-28T00:40:00+08:00",
          "2024-05-28T00:45:00+08:00",
          "2024-05-28T00:50:00+08:00",
          "2024-05-28T00:55:00+08:00",
          "2024-05-28T01:00:00+08:00",
          "2024-05-28T01:05:00+08:00",
          "2024-05-28T01:10:00+08:00",
          "2024-05-28T01:15:00+08:00",
          "2024-05-28T01:20:00+08:00",
          "2024-05-28T01:25:00+08:00",
          "2024-05-28T01:30:00+08:00",
          "2024-05-28T01:35:00+08:00",
          "2024-05-28T01:40:00+08:00",
          "2024-05-28T01:45:00+08:00",
          "2024-05-28T01:50:00+08:00",
          "2024-05-28T01:55:00+08:00",
          "2024-05-28T02:00:00+08:00",
          "2024-05-28T02:05:00+08:00",
          "2024-05-28T02:10:00+08:00",
          "2024-05-28T02:15:00+08:00",
          "2024-05-28T02:20:00+08:00",
          "2024-05-28T02:25:00+08:00"
         ],
         "xaxis": "x6",
         "y": [
          null,
          null,
          null,
          null,
          null,
          null,
          null,
          null,
          null,
          null,
          null,
          null,
          null,
          null,
          null,
          null,
          null,
          null,
          null,
          null,
          null,
          null,
          null,
          null,
          null,
          null,
          null,
          null,
          null,
          null
         ],
         "yaxis": "y6"
        }
       ],
       "layout": {
        "annotations": [
         {
          "font": {
           "size": 16
          },
          "showarrow": false,
          "text": "Price OHLC",
          "x": 0.5,
          "xanchor": "center",
          "xref": "paper",
          "y": 1,
          "yanchor": "bottom",
          "yref": "paper"
         },
         {
          "font": {
           "size": 16
          },
          "showarrow": false,
          "text": "Volume",
          "x": 0.5,
          "xanchor": "center",
          "xref": "paper",
          "y": 0.5970588235294118,
          "yanchor": "bottom",
          "yref": "paper"
         },
         {
          "font": {
           "size": 16
          },
          "showarrow": false,
          "text": "Cumulated PnL / Return (%)",
          "x": 0.5,
          "xanchor": "center",
          "xref": "paper",
          "y": 0.5029411764705882,
          "yanchor": "bottom",
          "yref": "paper"
         },
         {
          "font": {
           "size": 16
          },
          "showarrow": false,
          "text": "Average True Range / Close Std (20 x 5m)",
          "x": 0.5,
          "xanchor": "center",
          "xref": "paper",
          "y": 0.3647058823529412,
          "yanchor": "bottom",
          "yref": "paper"
         },
         {
          "font": {
           "size": 16
          },
          "showarrow": false,
          "text": "Half Life",
          "x": 0.5,
          "xanchor": "center",
          "xref": "paper",
          "y": 0.22647058823529415,
          "yanchor": "bottom",
          "yref": "paper"
         },
         {
          "font": {
           "size": 16
          },
          "showarrow": false,
          "text": "Hurst Exponent",
          "x": 0.5,
          "xanchor": "center",
          "xref": "paper",
          "y": 0.08823529411764706,
          "yanchor": "bottom",
          "yref": "paper"
         }
        ],
        "height": 1800,
        "hovermode": "x",
        "shapes": [
         {
          "line": {
           "color": "green",
           "dash": "dash"
          },
          "type": "line",
          "x0": "2024-05-28T00:22:21.372000+08:00",
          "x1": "2024-05-28T01:21:31.771000+08:00",
          "xref": "x",
          "y0": 3929.2,
          "y1": 3929.2,
          "yref": "y"
         },
         {
          "line": {
           "color": "green",
           "dash": "dash"
          },
          "type": "line",
          "x0": "2024-05-28T00:22:21.372000+08:00",
          "x1": "2024-05-28T01:21:31.771000+08:00",
          "xref": "x",
          "y0": 3933.15,
          "y1": 3933.15,
          "yref": "y"
         },
         {
          "line": {
           "color": "green",
           "dash": "dash"
          },
          "type": "line",
          "x0": "2024-05-28T00:22:21.372000+08:00",
          "x1": "2024-05-28T01:21:31.771000+08:00",
          "xref": "x",
          "y0": 3937.11,
          "y1": 3937.11,
          "yref": "y"
         },
         {
          "line": {
           "color": "green",
           "dash": "dash"
          },
          "type": "line",
          "x0": "2024-05-28T00:22:21.372000+08:00",
          "x1": "2024-05-28T01:21:31.771000+08:00",
          "xref": "x",
          "y0": 3941.07,
          "y1": 3941.07,
          "yref": "y"
         },
         {
          "line": {
           "color": "green",
           "dash": "dash"
          },
          "type": "line",
          "x0": "2024-05-28T00:22:21.372000+08:00",
          "x1": "2024-05-28T01:21:31.771000+08:00",
          "xref": "x",
          "y0": 3945.03,
          "y1": 3945.03,
          "yref": "y"
         },
         {
          "line": {
           "color": "red",
           "dash": "dash"
          },
          "type": "line",
          "x0": "2024-05-28T00:22:21.372000+08:00",
          "x1": "2024-05-28T01:21:31.771000+08:00",
          "xref": "x",
          "y0": 3952.95,
          "y1": 3952.95,
          "yref": "y"
         },
         {
          "line": {
           "color": "red",
           "dash": "dash"
          },
          "type": "line",
          "x0": "2024-05-28T00:22:21.372000+08:00",
          "x1": "2024-05-28T01:21:31.771000+08:00",
          "xref": "x",
          "y0": 3956.91,
          "y1": 3956.91,
          "yref": "y"
         },
         {
          "line": {
           "color": "red",
           "dash": "dash"
          },
          "type": "line",
          "x0": "2024-05-28T00:22:21.372000+08:00",
          "x1": "2024-05-28T01:21:31.771000+08:00",
          "xref": "x",
          "y0": 3960.87,
          "y1": 3960.87,
          "yref": "y"
         },
         {
          "line": {
           "color": "red",
           "dash": "dash"
          },
          "type": "line",
          "x0": "2024-05-28T00:22:21.372000+08:00",
          "x1": "2024-05-28T01:21:31.771000+08:00",
          "xref": "x",
          "y0": 3964.83,
          "y1": 3964.83,
          "yref": "y"
         },
         {
          "line": {
           "color": "red",
           "dash": "dash"
          },
          "type": "line",
          "x0": "2024-05-28T00:22:21.372000+08:00",
          "x1": "2024-05-28T01:21:31.771000+08:00",
          "xref": "x",
          "y0": 3968.78,
          "y1": 3968.78,
          "yref": "y"
         },
         {
          "line": {
           "color": "green",
           "dash": "dash"
          },
          "type": "line",
          "x0": "2024-05-28T02:09:58.064000+08:00",
          "x1": "2024-05-28T02:20:20.851000+08:00",
          "xref": "x",
          "y0": 3929.06,
          "y1": 3929.06,
          "yref": "y"
         },
         {
          "line": {
           "color": "green",
           "dash": "dash"
          },
          "type": "line",
          "x0": "2024-05-28T02:09:58.064000+08:00",
          "x1": "2024-05-28T02:20:20.851000+08:00",
          "xref": "x",
          "y0": 3931.77,
          "y1": 3931.77,
          "yref": "y"
         },
         {
          "line": {
           "color": "green",
           "dash": "dash"
          },
          "type": "line",
          "x0": "2024-05-28T02:09:58.064000+08:00",
          "x1": "2024-05-28T02:20:20.851000+08:00",
          "xref": "x",
          "y0": 3934.48,
          "y1": 3934.48,
          "yref": "y"
         },
         {
          "line": {
           "color": "green",
           "dash": "dash"
          },
          "type": "line",
          "x0": "2024-05-28T02:09:58.064000+08:00",
          "x1": "2024-05-28T02:20:20.851000+08:00",
          "xref": "x",
          "y0": 3937.19,
          "y1": 3937.19,
          "yref": "y"
         },
         {
          "line": {
           "color": "green",
           "dash": "dash"
          },
          "type": "line",
          "x0": "2024-05-28T02:09:58.064000+08:00",
          "x1": "2024-05-28T02:20:20.851000+08:00",
          "xref": "x",
          "y0": 3939.9,
          "y1": 3939.9,
          "yref": "y"
         },
         {
          "line": {
           "color": "red",
           "dash": "dash"
          },
          "type": "line",
          "x0": "2024-05-28T02:09:58.064000+08:00",
          "x1": "2024-05-28T02:20:20.851000+08:00",
          "xref": "x",
          "y0": 3945.32,
          "y1": 3945.32,
          "yref": "y"
         },
         {
          "line": {
           "color": "red",
           "dash": "dash"
          },
          "type": "line",
          "x0": "2024-05-28T02:09:58.064000+08:00",
          "x1": "2024-05-28T02:20:20.851000+08:00",
          "xref": "x",
          "y0": 3948.03,
          "y1": 3948.03,
          "yref": "y"
         },
         {
          "line": {
           "color": "red",
           "dash": "dash"
          },
          "type": "line",
          "x0": "2024-05-28T02:09:58.064000+08:00",
          "x1": "2024-05-28T02:20:20.851000+08:00",
          "xref": "x",
          "y0": 3950.74,
          "y1": 3950.74,
          "yref": "y"
         },
         {
          "line": {
           "color": "red",
           "dash": "dash"
          },
          "type": "line",
          "x0": "2024-05-28T02:09:58.064000+08:00",
          "x1": "2024-05-28T02:20:20.851000+08:00",
          "xref": "x",
          "y0": 3953.45,
          "y1": 3953.45,
          "yref": "y"
         },
         {
          "line": {
           "color": "red",
           "dash": "dash"
          },
          "type": "line",
          "x0": "2024-05-28T02:09:58.064000+08:00",
          "x1": "2024-05-28T02:20:20.851000+08:00",
          "xref": "x",
          "y0": 3956.16,
          "y1": 3956.16,
          "yref": "y"
         }
        ],
        "template": {
         "data": {
          "bar": [
           {
            "error_x": {
             "color": "#2a3f5f"
            },
            "error_y": {
             "color": "#2a3f5f"
            },
            "marker": {
             "line": {
              "color": "#E5ECF6",
              "width": 0.5
             },
             "pattern": {
              "fillmode": "overlay",
              "size": 10,
              "solidity": 0.2
             }
            },
            "type": "bar"
           }
          ],
          "barpolar": [
           {
            "marker": {
             "line": {
              "color": "#E5ECF6",
              "width": 0.5
             },
             "pattern": {
              "fillmode": "overlay",
              "size": 10,
              "solidity": 0.2
             }
            },
            "type": "barpolar"
           }
          ],
          "carpet": [
           {
            "aaxis": {
             "endlinecolor": "#2a3f5f",
             "gridcolor": "white",
             "linecolor": "white",
             "minorgridcolor": "white",
             "startlinecolor": "#2a3f5f"
            },
            "baxis": {
             "endlinecolor": "#2a3f5f",
             "gridcolor": "white",
             "linecolor": "white",
             "minorgridcolor": "white",
             "startlinecolor": "#2a3f5f"
            },
            "type": "carpet"
           }
          ],
          "choropleth": [
           {
            "colorbar": {
             "outlinewidth": 0,
             "ticks": ""
            },
            "type": "choropleth"
           }
          ],
          "contour": [
           {
            "colorbar": {
             "outlinewidth": 0,
             "ticks": ""
            },
            "colorscale": [
             [
              0,
              "#0d0887"
             ],
             [
              0.1111111111111111,
              "#46039f"
             ],
             [
              0.2222222222222222,
              "#7201a8"
             ],
             [
              0.3333333333333333,
              "#9c179e"
             ],
             [
              0.4444444444444444,
              "#bd3786"
             ],
             [
              0.5555555555555556,
              "#d8576b"
             ],
             [
              0.6666666666666666,
              "#ed7953"
             ],
             [
              0.7777777777777778,
              "#fb9f3a"
             ],
             [
              0.8888888888888888,
              "#fdca26"
             ],
             [
              1,
              "#f0f921"
             ]
            ],
            "type": "contour"
           }
          ],
          "contourcarpet": [
           {
            "colorbar": {
             "outlinewidth": 0,
             "ticks": ""
            },
            "type": "contourcarpet"
           }
          ],
          "heatmap": [
           {
            "colorbar": {
             "outlinewidth": 0,
             "ticks": ""
            },
            "colorscale": [
             [
              0,
              "#0d0887"
             ],
             [
              0.1111111111111111,
              "#46039f"
             ],
             [
              0.2222222222222222,
              "#7201a8"
             ],
             [
              0.3333333333333333,
              "#9c179e"
             ],
             [
              0.4444444444444444,
              "#bd3786"
             ],
             [
              0.5555555555555556,
              "#d8576b"
             ],
             [
              0.6666666666666666,
              "#ed7953"
             ],
             [
              0.7777777777777778,
              "#fb9f3a"
             ],
             [
              0.8888888888888888,
              "#fdca26"
             ],
             [
              1,
              "#f0f921"
             ]
            ],
            "type": "heatmap"
           }
          ],
          "heatmapgl": [
           {
            "colorbar": {
             "outlinewidth": 0,
             "ticks": ""
            },
            "colorscale": [
             [
              0,
              "#0d0887"
             ],
             [
              0.1111111111111111,
              "#46039f"
             ],
             [
              0.2222222222222222,
              "#7201a8"
             ],
             [
              0.3333333333333333,
              "#9c179e"
             ],
             [
              0.4444444444444444,
              "#bd3786"
             ],
             [
              0.5555555555555556,
              "#d8576b"
             ],
             [
              0.6666666666666666,
              "#ed7953"
             ],
             [
              0.7777777777777778,
              "#fb9f3a"
             ],
             [
              0.8888888888888888,
              "#fdca26"
             ],
             [
              1,
              "#f0f921"
             ]
            ],
            "type": "heatmapgl"
           }
          ],
          "histogram": [
           {
            "marker": {
             "pattern": {
              "fillmode": "overlay",
              "size": 10,
              "solidity": 0.2
             }
            },
            "type": "histogram"
           }
          ],
          "histogram2d": [
           {
            "colorbar": {
             "outlinewidth": 0,
             "ticks": ""
            },
            "colorscale": [
             [
              0,
              "#0d0887"
             ],
             [
              0.1111111111111111,
              "#46039f"
             ],
             [
              0.2222222222222222,
              "#7201a8"
             ],
             [
              0.3333333333333333,
              "#9c179e"
             ],
             [
              0.4444444444444444,
              "#bd3786"
             ],
             [
              0.5555555555555556,
              "#d8576b"
             ],
             [
              0.6666666666666666,
              "#ed7953"
             ],
             [
              0.7777777777777778,
              "#fb9f3a"
             ],
             [
              0.8888888888888888,
              "#fdca26"
             ],
             [
              1,
              "#f0f921"
             ]
            ],
            "type": "histogram2d"
           }
          ],
          "histogram2dcontour": [
           {
            "colorbar": {
             "outlinewidth": 0,
             "ticks": ""
            },
            "colorscale": [
             [
              0,
              "#0d0887"
             ],
             [
              0.1111111111111111,
              "#46039f"
             ],
             [
              0.2222222222222222,
              "#7201a8"
             ],
             [
              0.3333333333333333,
              "#9c179e"
             ],
             [
              0.4444444444444444,
              "#bd3786"
             ],
             [
              0.5555555555555556,
              "#d8576b"
             ],
             [
              0.6666666666666666,
              "#ed7953"
             ],
             [
              0.7777777777777778,
              "#fb9f3a"
             ],
             [
              0.8888888888888888,
              "#fdca26"
             ],
             [
              1,
              "#f0f921"
             ]
            ],
            "type": "histogram2dcontour"
           }
          ],
          "mesh3d": [
           {
            "colorbar": {
             "outlinewidth": 0,
             "ticks": ""
            },
            "type": "mesh3d"
           }
          ],
          "parcoords": [
           {
            "line": {
             "colorbar": {
              "outlinewidth": 0,
              "ticks": ""
             }
            },
            "type": "parcoords"
           }
          ],
          "pie": [
           {
            "automargin": true,
            "type": "pie"
           }
          ],
          "scatter": [
           {
            "fillpattern": {
             "fillmode": "overlay",
             "size": 10,
             "solidity": 0.2
            },
            "type": "scatter"
           }
          ],
          "scatter3d": [
           {
            "line": {
             "colorbar": {
              "outlinewidth": 0,
              "ticks": ""
             }
            },
            "marker": {
             "colorbar": {
              "outlinewidth": 0,
              "ticks": ""
             }
            },
            "type": "scatter3d"
           }
          ],
          "scattercarpet": [
           {
            "marker": {
             "colorbar": {
              "outlinewidth": 0,
              "ticks": ""
             }
            },
            "type": "scattercarpet"
           }
          ],
          "scattergeo": [
           {
            "marker": {
             "colorbar": {
              "outlinewidth": 0,
              "ticks": ""
             }
            },
            "type": "scattergeo"
           }
          ],
          "scattergl": [
           {
            "marker": {
             "colorbar": {
              "outlinewidth": 0,
              "ticks": ""
             }
            },
            "type": "scattergl"
           }
          ],
          "scattermapbox": [
           {
            "marker": {
             "colorbar": {
              "outlinewidth": 0,
              "ticks": ""
             }
            },
            "type": "scattermapbox"
           }
          ],
          "scatterpolar": [
           {
            "marker": {
             "colorbar": {
              "outlinewidth": 0,
              "ticks": ""
             }
            },
            "type": "scatterpolar"
           }
          ],
          "scatterpolargl": [
           {
            "marker": {
             "colorbar": {
              "outlinewidth": 0,
              "ticks": ""
             }
            },
            "type": "scatterpolargl"
           }
          ],
          "scatterternary": [
           {
            "marker": {
             "colorbar": {
              "outlinewidth": 0,
              "ticks": ""
             }
            },
            "type": "scatterternary"
           }
          ],
          "surface": [
           {
            "colorbar": {
             "outlinewidth": 0,
             "ticks": ""
            },
            "colorscale": [
             [
              0,
              "#0d0887"
             ],
             [
              0.1111111111111111,
              "#46039f"
             ],
             [
              0.2222222222222222,
              "#7201a8"
             ],
             [
              0.3333333333333333,
              "#9c179e"
             ],
             [
              0.4444444444444444,
              "#bd3786"
             ],
             [
              0.5555555555555556,
              "#d8576b"
             ],
             [
              0.6666666666666666,
              "#ed7953"
             ],
             [
              0.7777777777777778,
              "#fb9f3a"
             ],
             [
              0.8888888888888888,
              "#fdca26"
             ],
             [
              1,
              "#f0f921"
             ]
            ],
            "type": "surface"
           }
          ],
          "table": [
           {
            "cells": {
             "fill": {
              "color": "#EBF0F8"
             },
             "line": {
              "color": "white"
             }
            },
            "header": {
             "fill": {
              "color": "#C8D4E3"
             },
             "line": {
              "color": "white"
             }
            },
            "type": "table"
           }
          ]
         },
         "layout": {
          "annotationdefaults": {
           "arrowcolor": "#2a3f5f",
           "arrowhead": 0,
           "arrowwidth": 1
          },
          "autotypenumbers": "strict",
          "coloraxis": {
           "colorbar": {
            "outlinewidth": 0,
            "ticks": ""
           }
          },
          "colorscale": {
           "diverging": [
            [
             0,
             "#8e0152"
            ],
            [
             0.1,
             "#c51b7d"
            ],
            [
             0.2,
             "#de77ae"
            ],
            [
             0.3,
             "#f1b6da"
            ],
            [
             0.4,
             "#fde0ef"
            ],
            [
             0.5,
             "#f7f7f7"
            ],
            [
             0.6,
             "#e6f5d0"
            ],
            [
             0.7,
             "#b8e186"
            ],
            [
             0.8,
             "#7fbc41"
            ],
            [
             0.9,
             "#4d9221"
            ],
            [
             1,
             "#276419"
            ]
           ],
           "sequential": [
            [
             0,
             "#0d0887"
            ],
            [
             0.1111111111111111,
             "#46039f"
            ],
            [
             0.2222222222222222,
             "#7201a8"
            ],
            [
             0.3333333333333333,
             "#9c179e"
            ],
            [
             0.4444444444444444,
             "#bd3786"
            ],
            [
             0.5555555555555556,
             "#d8576b"
            ],
            [
             0.6666666666666666,
             "#ed7953"
            ],
            [
             0.7777777777777778,
             "#fb9f3a"
            ],
            [
             0.8888888888888888,
             "#fdca26"
            ],
            [
             1,
             "#f0f921"
            ]
           ],
           "sequentialminus": [
            [
             0,
             "#0d0887"
            ],
            [
             0.1111111111111111,
             "#46039f"
            ],
            [
             0.2222222222222222,
             "#7201a8"
            ],
            [
             0.3333333333333333,
             "#9c179e"
            ],
            [
             0.4444444444444444,
             "#bd3786"
            ],
            [
             0.5555555555555556,
             "#d8576b"
            ],
            [
             0.6666666666666666,
             "#ed7953"
            ],
            [
             0.7777777777777778,
             "#fb9f3a"
            ],
            [
             0.8888888888888888,
             "#fdca26"
            ],
            [
             1,
             "#f0f921"
            ]
           ]
          },
          "colorway": [
           "#636efa",
           "#EF553B",
           "#00cc96",
           "#ab63fa",
           "#FFA15A",
           "#19d3f3",
           "#FF6692",
           "#B6E880",
           "#FF97FF",
           "#FECB52"
          ],
          "font": {
           "color": "#2a3f5f"
          },
          "geo": {
           "bgcolor": "white",
           "lakecolor": "white",
           "landcolor": "#E5ECF6",
           "showlakes": true,
           "showland": true,
           "subunitcolor": "white"
          },
          "hoverlabel": {
           "align": "left"
          },
          "hovermode": "closest",
          "mapbox": {
           "style": "light"
          },
          "paper_bgcolor": "white",
          "plot_bgcolor": "#E5ECF6",
          "polar": {
           "angularaxis": {
            "gridcolor": "white",
            "linecolor": "white",
            "ticks": ""
           },
           "bgcolor": "#E5ECF6",
           "radialaxis": {
            "gridcolor": "white",
            "linecolor": "white",
            "ticks": ""
           }
          },
          "scene": {
           "xaxis": {
            "backgroundcolor": "#E5ECF6",
            "gridcolor": "white",
            "gridwidth": 2,
            "linecolor": "white",
            "showbackground": true,
            "ticks": "",
            "zerolinecolor": "white"
           },
           "yaxis": {
            "backgroundcolor": "#E5ECF6",
            "gridcolor": "white",
            "gridwidth": 2,
            "linecolor": "white",
            "showbackground": true,
            "ticks": "",
            "zerolinecolor": "white"
           },
           "zaxis": {
            "backgroundcolor": "#E5ECF6",
            "gridcolor": "white",
            "gridwidth": 2,
            "linecolor": "white",
            "showbackground": true,
            "ticks": "",
            "zerolinecolor": "white"
           }
          },
          "shapedefaults": {
           "line": {
            "color": "#2a3f5f"
           }
          },
          "ternary": {
           "aaxis": {
            "gridcolor": "white",
            "linecolor": "white",
            "ticks": ""
           },
           "baxis": {
            "gridcolor": "white",
            "linecolor": "white",
            "ticks": ""
           },
           "bgcolor": "#E5ECF6",
           "caxis": {
            "gridcolor": "white",
            "linecolor": "white",
            "ticks": ""
           }
          },
          "title": {
           "x": 0.05
          },
          "xaxis": {
           "automargin": true,
           "gridcolor": "white",
           "linecolor": "white",
           "ticks": "",
           "title": {
            "standoff": 15
           },
           "zerolinecolor": "white",
           "zerolinewidth": 2
          },
          "yaxis": {
           "automargin": true,
           "gridcolor": "white",
           "linecolor": "white",
           "ticks": "",
           "title": {
            "standoff": 15
           },
           "zerolinecolor": "white",
           "zerolinewidth": 2
          }
         }
        },
        "title": {
         "text": "ETHFDUSD"
        },
        "width": 1500,
        "xaxis": {
         "anchor": "y",
         "domain": [
          0,
          1
         ],
         "matches": "x6",
         "rangeslider": {
          "visible": false
         },
         "showticklabels": false
        },
        "xaxis2": {
         "anchor": "y2",
         "domain": [
          0,
          1
         ],
         "matches": "x6",
         "showticklabels": false
        },
        "xaxis3": {
         "anchor": "y3",
         "domain": [
          0,
          1
         ],
         "matches": "x6",
         "showticklabels": false
        },
        "xaxis4": {
         "anchor": "y4",
         "domain": [
          0,
          1
         ],
         "matches": "x6",
         "showticklabels": false
        },
        "xaxis5": {
         "anchor": "y5",
         "domain": [
          0,
          1
         ],
         "matches": "x6",
         "showticklabels": false
        },
        "xaxis6": {
         "anchor": "y6",
         "domain": [
          0,
          1
         ]
        },
        "yaxis": {
         "anchor": "x",
         "domain": [
          0.6470588235294118,
          1
         ]
        },
        "yaxis2": {
         "anchor": "x2",
         "domain": [
          0.5529411764705883,
          0.5970588235294118
         ]
        },
        "yaxis3": {
         "anchor": "x3",
         "domain": [
          0.4147058823529412,
          0.5029411764705882
         ]
        },
        "yaxis4": {
         "anchor": "x4",
         "domain": [
          0.27647058823529413,
          0.3647058823529412
         ]
        },
        "yaxis5": {
         "anchor": "x5",
         "domain": [
          0.13823529411764707,
          0.22647058823529415
         ]
        },
        "yaxis6": {
         "anchor": "x6",
         "domain": [
          0,
          0.08823529411764706
         ]
        }
       }
      }
     },
     "metadata": {},
     "output_type": "display_data"
    }
   ],
   "source": [
    "for k, v in strategy_dict.items():\n",
    "    strategy = v\n",
    "    strategy.load_data(date_str, lookback_end=date_str_end)    \n",
    "    strategy.summary(True, lastn=20)"
   ]
  },
  {
   "cell_type": "markdown",
   "metadata": {},
   "source": [
    "# Historical PnL"
   ]
  },
  {
   "cell_type": "code",
   "execution_count": 60,
   "metadata": {},
   "outputs": [
    {
     "data": {
      "image/png": "[encoded data removed]",
      "text/plain": [
       "<Figure size 1000x500 with 1 Axes>"
      ]
     },
     "metadata": {},
     "output_type": "display_data"
    },
    {
     "data": {
      "image/png": "[encoded data removed]",
      "text/plain": [
       "<Figure size 1000x500 with 1 Axes>"
      ]
     },
     "metadata": {},
     "output_type": "display_data"
    }
   ],
   "source": [
    "pnl = []\n",
    "for strategy in strategy_dict.values():\n",
    "    pnl.append(strategy.get_pnl())\n",
    "\n",
    "plt.figure(figsize=(10,5))\n",
    "pnl = pd.concat(pnl)\n",
    "pnl_all = pnl.groupby(['Date']).sum(numeric_only=True)\n",
    "pnl_all['pnl_cum'] = pnl_all['pnl'].cumsum()\n",
    "pnl_all.sum(numeric_only=True)\n",
    "plt.plot(pnl_all['pnl_cum'])\n",
    "plt.title('Grid Strategy Cumualtive Return')\n",
    "plt.grid()\n",
    "plt.ylabel('$USD')\n",
    "plt.show()\n",
    "\n",
    "plt.figure(figsize=(10,5))\n",
    "pnl_strategy = pnl.groupby(['Date', 'strategy']).sum(numeric_only=True).reset_index()\n",
    "for s in pnl_strategy['strategy'].unique():\n",
    "    t = pnl_strategy[pnl_strategy['strategy'] == s]\n",
    "    t['pnl_cum'] = t['pnl'].cumsum()\n",
    "    plt.plot(t['Date'], t['pnl_cum'], label=s)\n",
    "\n",
    "plt.title('Grid Strategy Cumualtive Return by instruments')\n",
    "plt.legend()\n",
    "plt.grid()\n",
    "plt.ylabel('$USD')\n",
    "plt.show()\n"
   ]
  },
  {
   "cell_type": "code",
   "execution_count": null,
   "metadata": {},
   "outputs": [],
   "source": []
  }
 ],
 "metadata": {
  "kernelspec": {
   "display_name": "Python 3",
   "language": "python",
   "name": "python3"
  },
  "language_info": {
   "codemirror_mode": {
    "name": "ipython",
    "version": 3
   },
   "file_extension": ".py",
   "mimetype": "text/x-python",
   "name": "python",
   "nbconvert_exporter": "python",
   "pygments_lexer": "ipython3",
   "version": "3.10.11"
  }
 },
 "nbformat": 4,
 "nbformat_minor": 2
}
