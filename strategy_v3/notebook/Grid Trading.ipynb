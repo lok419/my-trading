{
 "cells": [
  {
   "cell_type": "code",
   "execution_count": null,
   "metadata": {},
   "outputs": [],
   "source": [
    "%load_ext autoreload\n",
    "%autoreload 2\n",
    "\n",
    "import numpy as np\n",
    "from utils.data_helper import *\n",
    "from utils.data import *\n",
    "from utils.stats import *\n",
    "from utils.performance import *\n",
    "from plotly.subplots import make_subplots\n",
    "from account import Binance\n",
    "from binance.client import Client\n",
    "from pandas.core.frame import DataFrame\n",
    "import pandas as pd\n",
    "import warnings\n",
    "from strategy_v3.Strategy import *\n",
    "from strategy_v3.Executor import ExecutorBinance, ExecutorBacktest\n",
    "from strategy_v3.DataLoader import DataLoaderBinance\n",
    "from datetime import datetime, timezone\n",
    "from zoneinfo import ZoneInfo\n",
    "from time import sleep\n",
    "from tqdm import tqdm\n",
    "import pickle\n",
    "import logging\n",
    "from binance.exceptions import BinanceAPIException \n",
    "\n",
    "\n",
    "pd.set_option('display.max_rows', 100)\n",
    "pd.set_option('display.max_columns', 30)\n",
    "warnings.filterwarnings('ignore')"
   ]
  },
  {
   "cell_type": "code",
   "execution_count": null,
   "metadata": {},
   "outputs": [],
   "source": [
    "symbol = 'BTCFDUSD'\n",
    "binance = Binance()\n",
    "df = binance.get_historical_instrument_price(symbol, interval='1m', start_str='1 Day ago')\n",
    "plot_price_ohcl(df, symbol)"
   ]
  },
  {
   "cell_type": "markdown",
   "metadata": {},
   "source": [
    "# Grid Trading Logic (Arithmetic)"
   ]
  },
  {
   "cell_type": "markdown",
   "metadata": {},
   "source": [
    "### For each time interval, iterate thru below steps\n",
    "\n",
    "1. check if status is idle (i.e. no outstanding grid orders) and hurst exponent to see if this indicates mean-reverting trends\n",
    "\n",
    "2. If both yes for above, place grid orders via LIMIT ORDER\n",
    "\n",
    "- num orders   = grid_size * 2\n",
    "- grid spacing = historical volatility * vol scale\n",
    "- stop loss    = historical volatility * vol scale * vol_stoploss_scale\n",
    "\n",
    "3. fill the orders using high and low (backtest mode only)\n",
    "\n",
    "4. check if status neutral (i.e. have filled grid orders but positions are neutral). If yes, cancel all orders\n",
    "\n",
    "5. check if current price triggers stop-loss. If yes, cancel all orders and close out position via MARKET ORDER.\n",
    "\n",
    "### Notes\n",
    "\n",
    "Improvement: we should be able to predict either mean-reverting or trending and place a sutiable grids\n",
    "\n",
    "e.g. if the price is trending up, instead of placing a grid of 5-sells and 5-buys centered at current price, we can place a grid with 5-sells and 5-buys centered at current price + 1% to capture the momentum\n",
    "\n",
    "\n",
    "## Strategy logging\n",
    "\n",
    "2024-02-27: Attempt to use rolling average metrics based on looking back 2 * half life interval. Replace vol with half-life vol and center price from spot to half-life SMA close\n",
    "\n",
    "-  Tested BTCFDUSD on 15days. original cum returns is 6% whereas new change is 3% only\n",
    "\n",
    "2024-02-28: Attempt to use momentum order when hurst exponent is >= 0.6 and use extra momentum filters (Spot > T-5 > T-10) to put the momentum grid orders.\n",
    "\n",
    "-  Tested BTCFDUSD. this added more return on original strategy, because this is mutually exclusive with mean reverting orders, this enhance return during non-mean-reverting periods \n",
    "\n",
    "2024-02-29: Changed the momentum filters to be Spot > T-5 High and T-5 Low > T-10 High to be more conservative\n",
    "\n",
    "- Exectue refresh time updated from 30s to 1m to avoid small price volatolity to trigger the stoploss\n",
    "\n",
    "- For backtesting, shall we consider the interval high/low if this trigger stop-loss rather than just check close price???\n",
    "\n",
    "- [BTCFDUSD] Realized returns are now 2% after fixing the fill price\n",
    "\n",
    "- <b>Follow up: need to use STOP_LOSS_LIMIT for momentum orders</b>, because now all limit buy orders above market price are filled immediately, but we want to avoid that.\n",
    "\n",
    "2024-03-01: Updated momentum orders to use STOP-LOSS-LIMIT to avoid LIMIT ORDER executed immediately\n",
    "\n",
    "- Able to split the PnL from momentum orders and mean reverting orders.\n",
    "\n",
    "- [BTCFDUSD] Realized returns are now 4%\n",
    "\n",
    "- [SOLFDUSD] started to trade SOLFDUSD (need to change the quantity decision = 2)\n",
    "\n",
    "- <b>we need to build a server in order to systematically runs for multiple strategies, meanwhile we can also interrupt the model parameters during runtime</b>"
   ]
  },
  {
   "cell_type": "markdown",
   "metadata": {},
   "source": [
    "## BackTest Strategy"
   ]
  },
  {
   "cell_type": "code",
   "execution_count": null,
   "metadata": {},
   "outputs": [],
   "source": [
    "def backtest_strategy(strategy, start_str:str):\n",
    "    strategy.load_data(start_str)    \n",
    "    df = strategy.df.copy()\n",
    "    with tqdm(total = len(df)) as pbar:\n",
    "        for _, data in df.iterrows():\n",
    "            strategy.execute(data)\n",
    "            pbar.update(1)\n",
    "\n",
    "    strategy.cancel_all_orders()\n",
    "    strategy.close_out_positions('close', data['Close'], data['Date'])\n",
    "    return strategy"
   ]
  },
  {
   "cell_type": "code",
   "execution_count": null,
   "metadata": {},
   "outputs": [],
   "source": [
    "strategy1 = GridArithmeticStrategy(    \n",
    "    instrument = 'SOLFDUSD',\n",
    "    interval = '5m',\n",
    "    grid_size = 5,\n",
    "    vol_lookback = 30,\n",
    "    vol_grid_scale = 0.2,\n",
    "    vol_stoploss_scale = 7,\n",
    "    position_size = 500,\n",
    "    hurst_exp_mr_threshold = 0.5,\n",
    "    hurst_exp_mo_threshold = 0.6,\n",
    "    verbose=False,\n",
    ")\n",
    "strategy1.set_price_decimal(2)\n",
    "strategy1.set_qty_decimal(5)\n",
    "strategy1.set_data_loder(DataLoaderBinance())\n",
    "strategy1.set_executor(ExecutorBacktest())"
   ]
  },
  {
   "cell_type": "code",
   "execution_count": null,
   "metadata": {},
   "outputs": [],
   "source": [
    "strategy1 = backtest_strategy(strategy1, '5 Days Ago')"
   ]
  },
  {
   "cell_type": "code",
   "execution_count": null,
   "metadata": {},
   "outputs": [],
   "source": [
    "strategy1.summary(False)"
   ]
  },
  {
   "cell_type": "markdown",
   "metadata": {},
   "source": [
    "# Execute Strategy\n",
    "\n",
    "Strategy ID - all orders are marked by strategy id\n",
    "\n",
    "Therefore, all orders / pnl logic are based on same set of orders which isolates from other strategy or previous strategy\n",
    "\n",
    "If we want to continue previous strategy (either manual exit or error exit), we need to put the same strategy id. so the pnl could be accumlated from last time.\n",
    "\n",
    "<b>Notes: execute.py runs the actual strategy, below code is just to keep track the strategy status and performance</b>\n",
    "\n",
    "### Strategy logging:\n",
    "\n",
    "-   903492 - traded on BTCUSDT for 1.5days. gross pnl is good, but realized that there is 0.1% transaction cost which overwhelme all the PNL\n",
    "\n",
    "-   v1 - traded on BTCFDUSD - no transaction cost. \n",
    "    -  Corrected the definition of price volatility from close.diff.std to close.std and change the vol_grid_scale from 0.4 to 0.2.\n",
    "\n",
    "    -  Discover that the PnL seems to increase with smaller grid spacing\n",
    "    \n",
    "    -  Start using momentum orders\n",
    "\n",
    "-   SOLFDUSDv1 - traded on SOLFDUSD - no transaction cost."
   ]
  },
  {
   "cell_type": "markdown",
   "metadata": {},
   "source": [
    "### BTCFDUSD"
   ]
  },
  {
   "cell_type": "code",
   "execution_count": null,
   "metadata": {},
   "outputs": [],
   "source": [
    "strategy = GridArithmeticStrategy(\n",
    "    instrument = 'BTCFDUSD',        \n",
    "    interval = '5m',\n",
    "    grid_size = 5,\n",
    "    vol_lookback = 30,\n",
    "    vol_grid_scale = 0.4,\n",
    "    vol_stoploss_scale = 7,\n",
    "    position_size = 500,\n",
    "    hurst_exp_mr_threshold = 0.5,\n",
    "    hurst_exp_mo_threshold = 0.6,\n",
    ")\n",
    "\n",
    "strategy.set_price_decimal(2)\n",
    "strategy.set_qty_decimal(5)\n",
    "strategy.set_data_loder(DataLoaderBinance())\n",
    "strategy.set_executor(ExecutorBinance())\n",
    "strategy.set_strategy_id('v1')\n",
    "strategy.load_data('2024-02-25')\n",
    "strategy.summary(True, lastn=20)"
   ]
  },
  {
   "cell_type": "markdown",
   "metadata": {},
   "source": [
    "### SOLFDUSD"
   ]
  },
  {
   "cell_type": "code",
   "execution_count": null,
   "metadata": {},
   "outputs": [],
   "source": [
    "strategy = GridArithmeticStrategy(\n",
    "    instrument = 'SOLFDUSD',        \n",
    "    interval = '5m',\n",
    "    grid_size = 5,\n",
    "    vol_lookback = 30,\n",
    "    vol_grid_scale = 0.4,\n",
    "    vol_stoploss_scale = 7,\n",
    "    position_size = 500,\n",
    "    hurst_exp_mr_threshold = 0.5,\n",
    "    hurst_exp_mo_threshold = 0.6,\n",
    ")\n",
    "\n",
    "strategy.set_price_decimal(2)\n",
    "strategy.set_qty_decimal(5)\n",
    "strategy.set_data_loder(DataLoaderBinance())\n",
    "strategy.set_executor(ExecutorBinance())\n",
    "strategy.set_strategy_id('SOLFDUSDv1')\n",
    "strategy.load_data('2024-02-29')\n",
    "strategy.summary(True, lastn=20)"
   ]
  },
  {
   "cell_type": "markdown",
   "metadata": {},
   "source": [
    "# Close the position from production strategy"
   ]
  },
  {
   "cell_type": "code",
   "execution_count": null,
   "metadata": {},
   "outputs": [],
   "source": [
    "with open('strategy_v3/objects/grid_v1_20240301.pl', 'rb') as file:\n",
    "    strategy = pickle.load(file)\n",
    "\n",
    "#strategy.cancel_all_orders()\n",
    "#strategy.close_out_positions()"
   ]
  }
 ],
 "metadata": {
  "kernelspec": {
   "display_name": "Python 3",
   "language": "python",
   "name": "python3"
  },
  "language_info": {
   "codemirror_mode": {
    "name": "ipython",
    "version": 3
   },
   "file_extension": ".py",
   "mimetype": "text/x-python",
   "name": "python",
   "nbconvert_exporter": "python",
   "pygments_lexer": "ipython3",
   "version": "3.10.11"
  }
 },
 "nbformat": 4,
 "nbformat_minor": 2
}
