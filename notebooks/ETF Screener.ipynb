{
 "cells": [
  {
   "cell_type": "code",
   "execution_count": 1,
   "metadata": {},
   "outputs": [],
   "source": [
    "%load_ext autoreload\n",
    "%autoreload 2\n",
    "\n",
    "import requests\n",
    "import pandas as pd\n",
    "import json\n",
    "from datetime import datetime\n",
    "from utils.etf_lists import *\n",
    "import numpy as np"
   ]
  },
  {
   "cell_type": "markdown",
   "metadata": {},
   "source": [
    "# Get all U.S. listed ETFs from etfdb \n",
    "\n",
    "1. Equity ETF by sector, style and size\n",
    "\n",
    "2. Commodity ETF by type, and settlement (physical or futures)\n",
    "\n",
    "3. Real estate ETF\n",
    "\n",
    "### Notes\n",
    "\n",
    "Further enhancements:\n",
    "- Equity ETF can further be catogorized by investment strategy and region\n",
    "\n",
    "- Volatility / Bonds / Currency / Alternatives ETF ....\n",
    "\n",
    "### Reference\n",
    "\n",
    "- https://etfdb.com/screener/"
   ]
  },
  {
   "cell_type": "code",
   "execution_count": 2,
   "metadata": {},
   "outputs": [],
   "source": [
    "save_all_etf()\n",
    "etf = get_all_etf()"
   ]
  }
 ],
 "metadata": {
  "kernelspec": {
   "display_name": "Python 3",
   "language": "python",
   "name": "python3"
  },
  "language_info": {
   "codemirror_mode": {
    "name": "ipython",
    "version": 3
   },
   "file_extension": ".py",
   "mimetype": "text/x-python",
   "name": "python",
   "nbconvert_exporter": "python",
   "pygments_lexer": "ipython3",
   "version": "3.10.11"
  }
 },
 "nbformat": 4,
 "nbformat_minor": 2
}
