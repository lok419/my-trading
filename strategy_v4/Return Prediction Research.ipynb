{
 "cells": [
  {
   "cell_type": "code",
   "execution_count": 16,
   "metadata": {},
   "outputs": [
    {
     "name": "stderr",
     "output_type": "stream",
     "text": [
      "Traceback (most recent call last):\n",
      "  File \"/Library/Frameworks/Python.framework/Versions/3.10/lib/python3.10/runpy.py\", line 196, in _run_module_as_main\n",
      "    return _run_code(code, main_globals, None,\n",
      "  File \"/Library/Frameworks/Python.framework/Versions/3.10/lib/python3.10/runpy.py\", line 86, in _run_code\n",
      "    exec(code, run_globals)\n",
      "  File \"/Users/lok419/Desktop/JupyterLab/Trading/venv/lib/python3.10/site-packages/ipykernel_launcher.py\", line 18, in <module>\n",
      "    app.launch_new_instance()\n",
      "  File \"/Users/lok419/Desktop/JupyterLab/Trading/venv/lib/python3.10/site-packages/traitlets/config/application.py\", line 1075, in launch_instance\n",
      "    app.start()\n",
      "  File \"/Users/lok419/Desktop/JupyterLab/Trading/venv/lib/python3.10/site-packages/ipykernel/kernelapp.py\", line 739, in start\n",
      "    self.io_loop.start()\n",
      "  File \"/Users/lok419/Desktop/JupyterLab/Trading/venv/lib/python3.10/site-packages/tornado/platform/asyncio.py\", line 205, in start\n",
      "    self.asyncio_loop.run_forever()\n",
      "  File \"/Library/Frameworks/Python.framework/Versions/3.10/lib/python3.10/asyncio/base_events.py\", line 603, in run_forever\n",
      "    self._run_once()\n",
      "  File \"/Library/Frameworks/Python.framework/Versions/3.10/lib/python3.10/asyncio/base_events.py\", line 1871, in _run_once\n",
      "    event_list = self._selector.select(timeout)\n",
      "  File \"/Library/Frameworks/Python.framework/Versions/3.10/lib/python3.10/selectors.py\", line 562, in select\n",
      "    kev_list = self._selector.control(None, max_ev, timeout)\n",
      "OSError: [Errno 9] Bad file descriptor\n"
     ]
    }
   ],
   "source": [
    "import os\n",
    "pid = os.fork()"
   ]
  },
  {
   "cell_type": "code",
   "execution_count": null,
   "metadata": {},
   "outputs": [],
   "source": []
  },
  {
   "cell_type": "code",
   "execution_count": 14,
   "metadata": {},
   "outputs": [
    {
     "name": "stdout",
     "output_type": "stream",
     "text": [
      "The autoreload extension is already loaded. To reload it, use:\n",
      "  %reload_ext autoreload\n"
     ]
    }
   ],
   "source": [
    "%load_ext autoreload\n",
    "%autoreload 2\n",
    "\n",
    "import numpy as np\n",
    "from utils.data_helper import *\n",
    "from utils.data import *\n",
    "from utils.db import duck\n",
    "from tqdm import tqdm\n",
    "from sklearn.preprocessing import StandardScaler, MinMaxScaler\n",
    "from strategy_v4.Data.Data import DataLayer\n",
    "from strategy_v4.Model.run import *\n",
    "from strategy_v4.Model.LinearModels import *\n",
    "from strategy_v4.Evaluate.Evaluate import Evaluate"
   ]
  },
  {
   "cell_type": "code",
   "execution_count": 2,
   "metadata": {},
   "outputs": [],
   "source": [
    "instruments = [\n",
    "    'META',\n",
    "    'TSLA',\n",
    "    'NVDA',\n",
    "    'AAPL',    \n",
    "    'DXJ',\n",
    "    'BRK-B',\n",
    "    'SPY',\n",
    "    'QQQ',\n",
    "    'NANC',\n",
    "    'BTC',    \n",
    "]"
   ]
  },
  {
   "cell_type": "code",
   "execution_count": 4,
   "metadata": {},
   "outputs": [],
   "source": [
    "# dl_args = {key: value for key, value in vars(DATA_LAYER).items() if not key.startswith('_')}\n",
    "# data = DataLayer(**dl_args)\n",
    "# data.load()\n",
    "# data.process()\n",
    "#data.upload()\n",
    "#df = data.df"
   ]
  },
  {
   "cell_type": "code",
   "execution_count": 5,
   "metadata": {},
   "outputs": [
    {
     "name": "stderr",
     "output_type": "stream",
     "text": [
      "\u001b[32;20m2025-02-03 03:07:15,514 - Data Layer (sp500) - INFO - start_date: 2017-01-01\u001b[0m\n",
      "\u001b[32;20m2025-02-03 03:07:15,515 - Data Layer (sp500) - INFO - end_date: 2024-01-29\u001b[0m\n",
      "\u001b[32;20m2025-02-03 03:07:15,515 - Data Layer (sp500) - INFO - getting data files data/parquet/model_sp500_20170101_20240129.parquet, last updated at 2025-02-02 20:51:02\u001b[0m\n"
     ]
    },
    {
     "data": {
      "text/plain": [
       "Index(['date', 'asset', 'close', 'high', 'low', 'open', 'volume', 'return10d',\n",
       "       'return1d', 'return20d', 'return3d', 'return5d', 'return60d', 'rsi14d',\n",
       "       'rsi28d', 'rsi2d', 'rsi60d', 'std10d', 'std20d', 'std5d', 'std60d',\n",
       "       'volume10d', 'volume1d', 'volume20d', 'volume3d', 'volume5d',\n",
       "       'volume60d'],\n",
       "      dtype='object')"
      ]
     },
     "execution_count": 5,
     "metadata": {},
     "output_type": "execute_result"
    }
   ],
   "source": [
    "dl_args = {key: value for key, value in vars(DATA_LAYER).items() if not key.startswith('_')}\n",
    "df = DataLayer(**dl_args).get()\n",
    "df.columns"
   ]
  },
  {
   "cell_type": "markdown",
   "metadata": {},
   "source": [
    "# Try to use price to generate more non-linear combination of features"
   ]
  },
  {
   "cell_type": "code",
   "execution_count": 6,
   "metadata": {},
   "outputs": [
    {
     "name": "stderr",
     "output_type": "stream",
     "text": [
      "\u001b[32;20m2025-02-03 00:00:45,156 - Data Layer (sp500) - INFO - start_date: 2017-01-01\u001b[0m\n",
      "\u001b[32;20m2025-02-03 00:00:45,157 - Data Layer (sp500) - INFO - end_date: 2024-01-29\u001b[0m\n",
      "\u001b[32;20m2025-02-03 00:00:45,158 - Data Layer (sp500) - INFO - getting data files data/parquet/model_sp500_20170101_20240129.parquet, last updated at 2025-02-02 20:51:02\u001b[0m\n",
      " 80%|████████  | 8/10 [00:01<00:00,  8.97it/s]"
     ]
    },
    {
     "name": "stdout",
     "output_type": "stream",
     "text": [
      "skipped DXJ\n",
      "skipped SPY\n",
      "skipped QQQ\n",
      "skipped NANC\n"
     ]
    },
    {
     "name": "stderr",
     "output_type": "stream",
     "text": [
      "100%|██████████| 10/10 [00:01<00:00,  7.30it/s]"
     ]
    },
    {
     "name": "stdout",
     "output_type": "stream",
     "text": [
      "skipped BTC\n"
     ]
    },
    {
     "name": "stderr",
     "output_type": "stream",
     "text": [
      "\n"
     ]
    }
   ],
   "source": [
    "df_pred, models = run_once('Lasso', instruments)\n",
    "#df_pred, models = run_this(RidgeReg(), assets=['AAPL', 'TSLA'], features=['Return5d', 'Return1d', 'Return10d'])"
   ]
  },
  {
   "cell_type": "code",
   "execution_count": 6,
   "metadata": {},
   "outputs": [
    {
     "name": "stderr",
     "output_type": "stream",
     "text": [
      "\u001b[32;20m2025-02-03 03:10:51,827 - Evaluate - INFO - loaded Lasso.\u001b[0m\n",
      "\u001b[32;20m2025-02-03 03:10:51,934 - Evaluate - INFO - loaded Ridge.\u001b[0m\n",
      "\u001b[32;20m2025-02-03 03:10:52,121 - Evaluate - INFO - loaded LinearRegression.\u001b[0m\n",
      "\u001b[32;20m2025-02-03 03:10:52,237 - Evaluate - INFO - loaded ElasticNet.\u001b[0m\n"
     ]
    },
    {
     "data": {
      "text/html": [
       "<div>\n",
       "<style scoped>\n",
       "    .dataframe tbody tr th:only-of-type {\n",
       "        vertical-align: middle;\n",
       "    }\n",
       "\n",
       "    .dataframe tbody tr th {\n",
       "        vertical-align: top;\n",
       "    }\n",
       "\n",
       "    .dataframe thead th {\n",
       "        text-align: right;\n",
       "    }\n",
       "</style>\n",
       "<table border=\"1\" class=\"dataframe\">\n",
       "  <thead>\n",
       "    <tr style=\"text-align: right;\">\n",
       "      <th></th>\n",
       "      <th>pred_type</th>\n",
       "      <th>model</th>\n",
       "      <th>r2</th>\n",
       "      <th>mse</th>\n",
       "      <th>mae</th>\n",
       "      <th>accuracy_score</th>\n",
       "      <th>up_recall</th>\n",
       "      <th>up_precision</th>\n",
       "      <th>up_f1_score</th>\n",
       "      <th>down_recall</th>\n",
       "      <th>down_precision</th>\n",
       "      <th>down_f1_score</th>\n",
       "    </tr>\n",
       "  </thead>\n",
       "  <tbody>\n",
       "    <tr>\n",
       "      <th>0</th>\n",
       "      <td>in-sample</td>\n",
       "      <td>ElasticNet</td>\n",
       "      <td>0.022575</td>\n",
       "      <td>0.000094</td>\n",
       "      <td>0.006403</td>\n",
       "      <td>0.548669</td>\n",
       "      <td>0.703697</td>\n",
       "      <td>0.575944</td>\n",
       "      <td>0.633443</td>\n",
       "      <td>0.355541</td>\n",
       "      <td>0.490559</td>\n",
       "      <td>0.412277</td>\n",
       "    </tr>\n",
       "    <tr>\n",
       "      <th>1</th>\n",
       "      <td>in-sample</td>\n",
       "      <td>Lasso</td>\n",
       "      <td>0.022545</td>\n",
       "      <td>0.000094</td>\n",
       "      <td>0.006403</td>\n",
       "      <td>0.548754</td>\n",
       "      <td>0.704952</td>\n",
       "      <td>0.575860</td>\n",
       "      <td>0.633900</td>\n",
       "      <td>0.354170</td>\n",
       "      <td>0.490652</td>\n",
       "      <td>0.411387</td>\n",
       "    </tr>\n",
       "    <tr>\n",
       "      <th>2</th>\n",
       "      <td>in-sample</td>\n",
       "      <td>LinearRegression</td>\n",
       "      <td>0.098286</td>\n",
       "      <td>0.000086</td>\n",
       "      <td>0.006310</td>\n",
       "      <td>0.568742</td>\n",
       "      <td>0.632276</td>\n",
       "      <td>0.606353</td>\n",
       "      <td>0.619043</td>\n",
       "      <td>0.489660</td>\n",
       "      <td>0.516793</td>\n",
       "      <td>0.502861</td>\n",
       "    </tr>\n",
       "    <tr>\n",
       "      <th>3</th>\n",
       "      <td>in-sample</td>\n",
       "      <td>Ridge</td>\n",
       "      <td>0.074215</td>\n",
       "      <td>0.000089</td>\n",
       "      <td>0.006326</td>\n",
       "      <td>0.568803</td>\n",
       "      <td>0.643350</td>\n",
       "      <td>0.604203</td>\n",
       "      <td>0.623162</td>\n",
       "      <td>0.476118</td>\n",
       "      <td>0.517472</td>\n",
       "      <td>0.495935</td>\n",
       "    </tr>\n",
       "    <tr>\n",
       "      <th>4</th>\n",
       "      <td>out-sample</td>\n",
       "      <td>ElasticNet</td>\n",
       "      <td>-0.026385</td>\n",
       "      <td>0.000075</td>\n",
       "      <td>0.006262</td>\n",
       "      <td>0.517595</td>\n",
       "      <td>0.635752</td>\n",
       "      <td>0.542330</td>\n",
       "      <td>0.585337</td>\n",
       "      <td>0.381358</td>\n",
       "      <td>0.475873</td>\n",
       "      <td>0.423405</td>\n",
       "    </tr>\n",
       "    <tr>\n",
       "      <th>5</th>\n",
       "      <td>out-sample</td>\n",
       "      <td>Lasso</td>\n",
       "      <td>-0.026157</td>\n",
       "      <td>0.000075</td>\n",
       "      <td>0.006261</td>\n",
       "      <td>0.517957</td>\n",
       "      <td>0.638077</td>\n",
       "      <td>0.542474</td>\n",
       "      <td>0.586404</td>\n",
       "      <td>0.379456</td>\n",
       "      <td>0.476223</td>\n",
       "      <td>0.422367</td>\n",
       "    </tr>\n",
       "    <tr>\n",
       "      <th>6</th>\n",
       "      <td>out-sample</td>\n",
       "      <td>LinearRegression</td>\n",
       "      <td>-0.202784</td>\n",
       "      <td>0.000088</td>\n",
       "      <td>0.006828</td>\n",
       "      <td>0.497542</td>\n",
       "      <td>0.458499</td>\n",
       "      <td>0.536132</td>\n",
       "      <td>0.494286</td>\n",
       "      <td>0.542577</td>\n",
       "      <td>0.464932</td>\n",
       "      <td>0.500763</td>\n",
       "    </tr>\n",
       "    <tr>\n",
       "      <th>7</th>\n",
       "      <td>out-sample</td>\n",
       "      <td>Ridge</td>\n",
       "      <td>-0.173240</td>\n",
       "      <td>0.000085</td>\n",
       "      <td>0.006762</td>\n",
       "      <td>0.500910</td>\n",
       "      <td>0.459650</td>\n",
       "      <td>0.539995</td>\n",
       "      <td>0.496594</td>\n",
       "      <td>0.548501</td>\n",
       "      <td>0.468165</td>\n",
       "      <td>0.505159</td>\n",
       "    </tr>\n",
       "  </tbody>\n",
       "</table>\n",
       "</div>"
      ],
      "text/plain": [
       "    pred_type             model        r2       mse       mae  accuracy_score  \\\n",
       "0   in-sample        ElasticNet  0.022575  0.000094  0.006403        0.548669   \n",
       "1   in-sample             Lasso  0.022545  0.000094  0.006403        0.548754   \n",
       "2   in-sample  LinearRegression  0.098286  0.000086  0.006310        0.568742   \n",
       "3   in-sample             Ridge  0.074215  0.000089  0.006326        0.568803   \n",
       "4  out-sample        ElasticNet -0.026385  0.000075  0.006262        0.517595   \n",
       "5  out-sample             Lasso -0.026157  0.000075  0.006261        0.517957   \n",
       "6  out-sample  LinearRegression -0.202784  0.000088  0.006828        0.497542   \n",
       "7  out-sample             Ridge -0.173240  0.000085  0.006762        0.500910   \n",
       "\n",
       "   up_recall  up_precision  up_f1_score  down_recall  down_precision  \\\n",
       "0   0.703697      0.575944     0.633443     0.355541        0.490559   \n",
       "1   0.704952      0.575860     0.633900     0.354170        0.490652   \n",
       "2   0.632276      0.606353     0.619043     0.489660        0.516793   \n",
       "3   0.643350      0.604203     0.623162     0.476118        0.517472   \n",
       "4   0.635752      0.542330     0.585337     0.381358        0.475873   \n",
       "5   0.638077      0.542474     0.586404     0.379456        0.476223   \n",
       "6   0.458499      0.536132     0.494286     0.542577        0.464932   \n",
       "7   0.459650      0.539995     0.496594     0.548501        0.468165   \n",
       "\n",
       "   down_f1_score  \n",
       "0       0.412277  \n",
       "1       0.411387  \n",
       "2       0.502861  \n",
       "3       0.495935  \n",
       "4       0.423405  \n",
       "5       0.422367  \n",
       "6       0.500763  \n",
       "7       0.505159  "
      ]
     },
     "execution_count": 6,
     "metadata": {},
     "output_type": "execute_result"
    }
   ],
   "source": [
    "# eval = Evaluate(asset_level=False)\n",
    "# eval.load()\n",
    "# eval.eval()\n",
    "# eval.df_eval"
   ]
  },
  {
   "cell_type": "code",
   "execution_count": 7,
   "metadata": {},
   "outputs": [
    {
     "data": {
      "text/html": [
       "<div>\n",
       "<style scoped>\n",
       "    .dataframe tbody tr th:only-of-type {\n",
       "        vertical-align: middle;\n",
       "    }\n",
       "\n",
       "    .dataframe tbody tr th {\n",
       "        vertical-align: top;\n",
       "    }\n",
       "\n",
       "    .dataframe thead th {\n",
       "        text-align: right;\n",
       "    }\n",
       "</style>\n",
       "<table border=\"1\" class=\"dataframe\">\n",
       "  <thead>\n",
       "    <tr style=\"text-align: right;\">\n",
       "      <th></th>\n",
       "      <th>name</th>\n",
       "    </tr>\n",
       "  </thead>\n",
       "  <tbody>\n",
       "    <tr>\n",
       "      <th>0</th>\n",
       "      <td>model_eval</td>\n",
       "    </tr>\n",
       "    <tr>\n",
       "      <th>1</th>\n",
       "      <td>model_pred</td>\n",
       "    </tr>\n",
       "  </tbody>\n",
       "</table>\n",
       "</div>"
      ],
      "text/plain": [
       "         name\n",
       "0  model_eval\n",
       "1  model_pred"
      ]
     },
     "execution_count": 7,
     "metadata": {},
     "output_type": "execute_result"
    }
   ],
   "source": [
    "db = duck(\"return_predictions\")\n",
    "db.list_tables()"
   ]
  },
  {
   "cell_type": "code",
   "execution_count": 12,
   "metadata": {},
   "outputs": [
    {
     "data": {
      "text/html": [
       "<div>\n",
       "<style scoped>\n",
       "    .dataframe tbody tr th:only-of-type {\n",
       "        vertical-align: middle;\n",
       "    }\n",
       "\n",
       "    .dataframe tbody tr th {\n",
       "        vertical-align: top;\n",
       "    }\n",
       "\n",
       "    .dataframe thead th {\n",
       "        text-align: right;\n",
       "    }\n",
       "</style>\n",
       "<table border=\"1\" class=\"dataframe\">\n",
       "  <thead>\n",
       "    <tr style=\"text-align: right;\">\n",
       "      <th></th>\n",
       "      <th>model</th>\n",
       "      <th>r2</th>\n",
       "      <th>mse</th>\n",
       "      <th>mae</th>\n",
       "      <th>accuracy_score</th>\n",
       "      <th>up_recall</th>\n",
       "      <th>up_precision</th>\n",
       "      <th>up_f1_score</th>\n",
       "      <th>down_recall</th>\n",
       "      <th>down_precision</th>\n",
       "      <th>down_f1_score</th>\n",
       "      <th>time</th>\n",
       "    </tr>\n",
       "  </thead>\n",
       "  <tbody>\n",
       "    <tr>\n",
       "      <th>0</th>\n",
       "      <td>ElasticNet</td>\n",
       "      <td>-0.027369</td>\n",
       "      <td>0.000073</td>\n",
       "      <td>0.006201</td>\n",
       "      <td>0.516436</td>\n",
       "      <td>0.628131</td>\n",
       "      <td>0.541981</td>\n",
       "      <td>0.581885</td>\n",
       "      <td>0.387571</td>\n",
       "      <td>0.474609</td>\n",
       "      <td>0.426697</td>\n",
       "      <td>2025-02-03 03:30:59.940518</td>\n",
       "    </tr>\n",
       "    <tr>\n",
       "      <th>1</th>\n",
       "      <td>Lasso</td>\n",
       "      <td>-0.027225</td>\n",
       "      <td>0.000073</td>\n",
       "      <td>0.006201</td>\n",
       "      <td>0.516489</td>\n",
       "      <td>0.628804</td>\n",
       "      <td>0.541978</td>\n",
       "      <td>0.582172</td>\n",
       "      <td>0.386908</td>\n",
       "      <td>0.474634</td>\n",
       "      <td>0.426305</td>\n",
       "      <td>2025-02-03 03:30:59.940518</td>\n",
       "    </tr>\n",
       "    <tr>\n",
       "      <th>2</th>\n",
       "      <td>LinearRegression</td>\n",
       "      <td>-0.179876</td>\n",
       "      <td>0.000084</td>\n",
       "      <td>0.006751</td>\n",
       "      <td>0.496197</td>\n",
       "      <td>0.450402</td>\n",
       "      <td>0.535379</td>\n",
       "      <td>0.489228</td>\n",
       "      <td>0.549033</td>\n",
       "      <td>0.464054</td>\n",
       "      <td>0.502979</td>\n",
       "      <td>2025-02-03 03:30:59.940518</td>\n",
       "    </tr>\n",
       "    <tr>\n",
       "      <th>3</th>\n",
       "      <td>Ridge</td>\n",
       "      <td>-0.159113</td>\n",
       "      <td>0.000082</td>\n",
       "      <td>0.006695</td>\n",
       "      <td>0.500541</td>\n",
       "      <td>0.453668</td>\n",
       "      <td>0.540273</td>\n",
       "      <td>0.493198</td>\n",
       "      <td>0.554619</td>\n",
       "      <td>0.468056</td>\n",
       "      <td>0.507674</td>\n",
       "      <td>2025-02-03 03:30:59.940518</td>\n",
       "    </tr>\n",
       "  </tbody>\n",
       "</table>\n",
       "</div>"
      ],
      "text/plain": [
       "              model        r2       mse       mae  accuracy_score  up_recall  \\\n",
       "0        ElasticNet -0.027369  0.000073  0.006201        0.516436   0.628131   \n",
       "1             Lasso -0.027225  0.000073  0.006201        0.516489   0.628804   \n",
       "2  LinearRegression -0.179876  0.000084  0.006751        0.496197   0.450402   \n",
       "3             Ridge -0.159113  0.000082  0.006695        0.500541   0.453668   \n",
       "\n",
       "   up_precision  up_f1_score  down_recall  down_precision  down_f1_score  \\\n",
       "0      0.541981     0.581885     0.387571        0.474609       0.426697   \n",
       "1      0.541978     0.582172     0.386908        0.474634       0.426305   \n",
       "2      0.535379     0.489228     0.549033        0.464054       0.502979   \n",
       "3      0.540273     0.493198     0.554619        0.468056       0.507674   \n",
       "\n",
       "                        time  \n",
       "0 2025-02-03 03:30:59.940518  \n",
       "1 2025-02-03 03:30:59.940518  \n",
       "2 2025-02-03 03:30:59.940518  \n",
       "3 2025-02-03 03:30:59.940518  "
      ]
     },
     "execution_count": 12,
     "metadata": {},
     "output_type": "execute_result"
    }
   ],
   "source": [
    "db.query(\"\"\"--sql         \n",
    "    select         \n",
    "        model\n",
    "        , r2\n",
    "        , mse\n",
    "        , mae\n",
    "        , accuracy_score\n",
    "        , up_recall\n",
    "        , up_precision\n",
    "        , up_f1_score\n",
    "        , down_recall\n",
    "        , down_precision\n",
    "        , down_f1_score        \n",
    "        , time         \n",
    "    from model_eval\n",
    "    where 1=1\n",
    "    and pred_type = 'out-sample'\n",
    "    and time = (select max(time) from model_eval)\n",
    "    order by model\n",
    "\"\"\")"
   ]
  },
  {
   "cell_type": "code",
   "execution_count": 27,
   "metadata": {},
   "outputs": [],
   "source": [
    "# db.query(\"\"\"--sql         \n",
    "#     select    \n",
    "#         model\n",
    "#         , asset\n",
    "#         , r2\n",
    "#         , mse\n",
    "#         , mae\n",
    "#         , accuracy_score\n",
    "#         , up_recall\n",
    "#         , up_precision\n",
    "#         , up_f1_score\n",
    "#         , down_recall\n",
    "#         , down_precision\n",
    "#         , down_f1_score     \n",
    "#         , time                  \n",
    "#     from model_eval_asset\n",
    "#     where 1=1\n",
    "#     and pred_type = 'out-sample'\n",
    "#     and time = (select max(time) from model_eval_asset)\n",
    "#     order by asset\n",
    "# \"\"\")"
   ]
  }
 ],
 "metadata": {
  "kernelspec": {
   "display_name": "venv",
   "language": "python",
   "name": "python3"
  },
  "language_info": {
   "codemirror_mode": {
    "name": "ipython",
    "version": 3
   },
   "file_extension": ".py",
   "mimetype": "text/x-python",
   "name": "python",
   "nbconvert_exporter": "python",
   "pygments_lexer": "ipython3",
   "version": "3.10.11"
  }
 },
 "nbformat": 4,
 "nbformat_minor": 2
}
