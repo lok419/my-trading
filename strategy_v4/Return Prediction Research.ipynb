{
 "cells": [
  {
   "cell_type": "code",
   "execution_count": 4,
   "metadata": {},
   "outputs": [
    {
     "name": "stdout",
     "output_type": "stream",
     "text": [
      "The autoreload extension is already loaded. To reload it, use:\n",
      "  %reload_ext autoreload\n"
     ]
    }
   ],
   "source": [
    "%load_ext autoreload\n",
    "%autoreload 2\n",
    "\n",
    "import numpy as np\n",
    "from utils.data_helper import *\n",
    "from utils.data import *\n",
    "from utils.performance import *\n",
    "from tqdm import tqdm\n",
    "from sklearn.model_selection import train_test_split\n",
    "from sklearn.linear_model import Lasso, Ridge\n",
    "from sklearn.metrics import r2_score, mean_squared_error, mean_absolute_error\n",
    "from sklearn.preprocessing import StandardScaler, MinMaxScaler\n",
    "from strategy_v4.Data.data import DataLayer"
   ]
  },
  {
   "cell_type": "code",
   "execution_count": 5,
   "metadata": {},
   "outputs": [],
   "source": [
    "start_date = datetime(2017,1,1)\n",
    "end_date = datetime(2024,1,29)"
   ]
  },
  {
   "cell_type": "code",
   "execution_count": 19,
   "metadata": {},
   "outputs": [
    {
     "name": "stderr",
     "output_type": "stream",
     "text": [
      "\u001b[32;20m2025-01-30 00:53:56,832 - Data Layer - INFO - start_date: 2017-01-01\u001b[0m\n",
      "\u001b[32;20m2025-01-30 00:53:56,833 - Data Layer - INFO - end_date: 2024-01-29\u001b[0m\n"
     ]
    }
   ],
   "source": [
    "data = DataLayer(start_date, end_date)\n",
    "data.load()\n",
    "data.process()\n",
    "data.upload()\n",
    "df = data.df"
   ]
  },
  {
   "cell_type": "markdown",
   "metadata": {},
   "source": [
    "# Try to use price to generate more non-linear combination of features"
   ]
  },
  {
   "cell_type": "code",
   "execution_count": null,
   "metadata": {},
   "outputs": [
    {
     "name": "stderr",
     "output_type": "stream",
     "text": [
      " 28%|██▊       | 140/503 [00:57<02:45,  2.20it/s]"
     ]
    }
   ],
   "source": [
    "assets = list(df['Stock'].unique())\n",
    "pred_res = []\n",
    "df['label'] = df['Return5d'].shift(-5)\n",
    "\n",
    "with tqdm(total=len(assets)) as pbar:\n",
    "    for asset in assets:\n",
    "        df_ = df[df['Stock'] == asset].drop(columns=['Stock']).set_index('Date')\n",
    "        df_ = df_.iloc[60:]\n",
    "        df_ = df_.dropna()\n",
    "\n",
    "        features = [x for x in df_.columns if x != 'label']\n",
    "        X, y = df_[features], df_['label']\n",
    "        X = StandardScaler().fit_transform(X)\n",
    "        X_train, X_test, y_train, y_test = train_test_split(X, y, test_size=0.2, shuffle=False)\n",
    "\n",
    "        model = Lasso(alpha=0.05)        \n",
    "        model = model.fit(X_train, y_train)        \n",
    "\n",
    "        y_pred_in = model.predict(X_train)\n",
    "        y_pred_out = model.predict(X_test)\n",
    "        \n",
    "        y_pred_out = pd.DataFrame({'actual': y_test, 'pred': y_pred_out})\n",
    "        y_pred_out['type'] = 'out-sample'\n",
    "\n",
    "        y_pred_in = pd.DataFrame({'actual': y_train, 'pred': y_pred_in})\n",
    "        y_pred_in['type'] = 'in-sample'\n",
    "\n",
    "        res = pd.concat([y_pred_out, y_pred_in])\n",
    "        res['Stock'] = asset\n",
    "        pred_res.append(res)                \n",
    "        pbar.update(1)        "
   ]
  },
  {
   "cell_type": "code",
   "execution_count": 45,
   "metadata": {},
   "outputs": [
    {
     "data": {
      "text/html": [
       "<div>\n",
       "<style scoped>\n",
       "    .dataframe tbody tr th:only-of-type {\n",
       "        vertical-align: middle;\n",
       "    }\n",
       "\n",
       "    .dataframe tbody tr th {\n",
       "        vertical-align: top;\n",
       "    }\n",
       "\n",
       "    .dataframe thead th {\n",
       "        text-align: right;\n",
       "    }\n",
       "</style>\n",
       "<table border=\"1\" class=\"dataframe\">\n",
       "  <thead>\n",
       "    <tr style=\"text-align: right;\">\n",
       "      <th></th>\n",
       "      <th>r2</th>\n",
       "      <th>mse</th>\n",
       "      <th>mae</th>\n",
       "    </tr>\n",
       "    <tr>\n",
       "      <th>type</th>\n",
       "      <th></th>\n",
       "      <th></th>\n",
       "      <th></th>\n",
       "    </tr>\n",
       "  </thead>\n",
       "  <tbody>\n",
       "    <tr>\n",
       "      <th>in-sample</th>\n",
       "      <td>0.042307</td>\n",
       "      <td>0.843983</td>\n",
       "      <td>0.622948</td>\n",
       "    </tr>\n",
       "    <tr>\n",
       "      <th>out-sample</th>\n",
       "      <td>0.012569</td>\n",
       "      <td>0.881048</td>\n",
       "      <td>0.629444</td>\n",
       "    </tr>\n",
       "  </tbody>\n",
       "</table>\n",
       "</div>"
      ],
      "text/plain": [
       "                  r2       mse       mae\n",
       "type                                    \n",
       "in-sample   0.042307  0.843983  0.622948\n",
       "out-sample  0.012569  0.881048  0.629444"
      ]
     },
     "execution_count": 45,
     "metadata": {},
     "output_type": "execute_result"
    }
   ],
   "source": [
    "def eval_metrics(x):\n",
    "    e = {}\n",
    "    e['r2'] = r2_score(x['actual'], x['pred'])\n",
    "    e['mse'] = mean_squared_error(x['actual'], x['pred'])\n",
    "    e['mae'] = mean_absolute_error(x['actual'], x['pred'])\n",
    "\n",
    "    return pd.Series(e)\n",
    "\n",
    "df_pred = pd.concat(pred_res)\n",
    "df_pred = df_pred.groupby('type').apply(eval_metrics)\n",
    "df_pred"
   ]
  },
  {
   "cell_type": "code",
   "execution_count": null,
   "metadata": {},
   "outputs": [],
   "source": []
  }
 ],
 "metadata": {
  "kernelspec": {
   "display_name": "Python 3",
   "language": "python",
   "name": "python3"
  },
  "language_info": {
   "codemirror_mode": {
    "name": "ipython",
    "version": 3
   },
   "file_extension": ".py",
   "mimetype": "text/x-python",
   "name": "python",
   "nbconvert_exporter": "python",
   "pygments_lexer": "ipython3",
   "version": "3.10.11"
  }
 },
 "nbformat": 4,
 "nbformat_minor": 2
}
